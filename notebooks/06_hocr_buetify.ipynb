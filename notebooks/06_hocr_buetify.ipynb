{
 "cells": [
  {
   "cell_type": "code",
   "execution_count": 4,
   "id": "initial_id",
   "metadata": {
    "collapsed": true,
    "ExecuteTime": {
     "end_time": "2023-10-18T00:20:01.732217Z",
     "start_time": "2023-10-18T00:19:57.503664Z"
    }
   },
   "outputs": [],
   "source": [
    "import os\n",
    "\n",
    "from bs4 import BeautifulSoup\n",
    "\n",
    "# Папка с hOCR файлами\n",
    "dir_name = \"Dygenshe_iles_kbd_0.229_2995_10800\"\n",
    "folder_path = f\"../../references/book/{dir_name}\"\n",
    "output_path = os.path.join(folder_path, \"output.html\")\n",
    "\n",
    "\n",
    "# Функция для определения цвета на основе уверенности\n",
    "def get_color(confidence):\n",
    "    confidence_color_map = {\n",
    "        (0, 10): \"darkred\",\n",
    "        (10, 20): \"red\",\n",
    "        (20, 30): \"orangered\",\n",
    "        (30, 40): \"darkorange\",\n",
    "        (40, 50): \"gold\",\n",
    "        (50, 60): \"darkkhaki\",\n",
    "        (60, 70): \"olivedrab\",\n",
    "        (70, 80): \"green\",\n",
    "        (80, 90): \"darkgreen\",\n",
    "        (90, 100): \"black\",\n",
    "    }\n",
    "    for (min_conf, max_conf), color in confidence_color_map.items():\n",
    "        if min_conf <= confidence < max_conf:\n",
    "            return color\n",
    "    return \"black\"  # По умолчанию, если уверенность не подходит ни к одному интервалу\n",
    "\n",
    "\n",
    "# Список для хранения всех hOCR текстов\n",
    "def conf_prettify(soup):\n",
    "    words = soup.find_all(\"span\", class_=\"ocrx_word\")\n",
    "    for word in words:\n",
    "        confidence = float(word[\"title\"].split(\";\")[1].split()[1])  # Извлечение уверенности\n",
    "        color = get_color(confidence)  # Определение цвета\n",
    "        word[\"style\"] = f\"color: {color};\"  # Добавление цвета в атрибут style\n",
    "\n",
    "    return soup\n",
    "\n",
    "\n",
    "soup = None\n",
    "hocr_dir = os.path.join(folder_path, \"txts\")\n",
    "for page, filename in enumerate(sorted(os.listdir(hocr_dir))):\n",
    "    if filename.endswith(\".hocr\"):\n",
    "        file_path = os.path.join(hocr_dir, filename)\n",
    "        page_soup = BeautifulSoup(open(file_path, encoding=\"utf-8\"), \"html.parser\")\n",
    "        page_soup = conf_prettify(page_soup)\n",
    "        page_div = page_soup.find(\"div\", class_=\"ocr_page\")\n",
    "        page_div[\"id\"] = f\"page_{page}\"  # Добавить id к div\n",
    "        if page == 0:\n",
    "            soup = page_soup\n",
    "        else:\n",
    "            # add horizontal line between pages\n",
    "            soup.body.append(soup.new_tag(\"hr\"))\n",
    "            soup.body.append(page_div)\n",
    "\n",
    "with open(output_path, \"w\", encoding=\"utf-8\") as output_file:\n",
    "    output_file.write(soup.prettify())"
   ]
  },
  {
   "cell_type": "code",
   "execution_count": null,
   "outputs": [],
   "source": [],
   "metadata": {
    "collapsed": false
   },
   "id": "5020026fad3cc999"
  }
 ],
 "metadata": {
  "kernelspec": {
   "display_name": "Python 3",
   "language": "python",
   "name": "python3"
  },
  "language_info": {
   "codemirror_mode": {
    "name": "ipython",
    "version": 2
   },
   "file_extension": ".py",
   "mimetype": "text/x-python",
   "name": "python",
   "nbconvert_exporter": "python",
   "pygments_lexer": "ipython2",
   "version": "2.7.6"
  }
 },
 "nbformat": 4,
 "nbformat_minor": 5
}
