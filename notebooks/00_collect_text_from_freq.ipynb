{
 "cells": [
  {
   "cell_type": "code",
   "execution_count": 13,
   "outputs": [],
   "source": [
    "import os\n",
    "\n",
    "input_dir = os.path.join(\"..\", \"data/tesstrain/kbd/data/input\")\n",
    "output_dir = os.path.join(\"..\", \"data/tesstrain/kbd/data/output\")\n",
    "\n",
    "f_name = \"freq_900000_adyghepsale_ru.txt\"\n",
    "file_path = os.path.join(output_dir, f_name)\n",
    "\n",
    "with open(file_path, \"r\", encoding=\"utf-8\") as f:\n",
    "    text = f.read()\n",
    "\n",
    "words = text.split(\"\\n\")"
   ],
   "metadata": {
    "collapsed": false,
    "ExecuteTime": {
     "end_time": "2023-11-11T15:46:21.322204Z",
     "start_time": "2023-11-11T15:46:21.239083Z"
    }
   }
  },
  {
   "cell_type": "code",
   "execution_count": 14,
   "outputs": [
    {
     "name": "stderr",
     "output_type": "stream",
     "text": [
      "100%|██████████| 801746/801746 [00:00<00:00, 3239653.16it/s]\n"
     ]
    }
   ],
   "source": [
    "from tqdm import tqdm\n",
    "\n",
    "lines = []\n",
    "line_max_len = 100\n",
    "\n",
    "group = []\n",
    "current_line_len = 0\n",
    "for word in tqdm(words):\n",
    "    if len(word) + current_line_len < line_max_len:\n",
    "        group.append(word)\n",
    "        current_line_len += len(word) + 1\n",
    "    else:\n",
    "        lines.append(\" \".join(group))\n",
    "        group = []\n",
    "        current_line_len = 0"
   ],
   "metadata": {
    "collapsed": false,
    "ExecuteTime": {
     "end_time": "2023-11-11T15:46:22.417017Z",
     "start_time": "2023-11-11T15:46:22.164098Z"
    }
   }
  },
  {
   "cell_type": "code",
   "execution_count": 15,
   "outputs": [],
   "source": [
    "with open(os.path.join(output_dir, f\"joined_words_{f_name}\"), \"w\", encoding=\"utf-8\") as f:\n",
    "    f.write(\"\\n\".join(lines))"
   ],
   "metadata": {
    "collapsed": false,
    "ExecuteTime": {
     "end_time": "2023-11-11T15:46:24.839374Z",
     "start_time": "2023-11-11T15:46:24.799964Z"
    }
   }
  },
  {
   "cell_type": "code",
   "execution_count": null,
   "outputs": [],
   "source": [],
   "metadata": {
    "collapsed": false
   }
  }
 ],
 "metadata": {
  "kernelspec": {
   "display_name": "Python 3",
   "language": "python",
   "name": "python3"
  },
  "language_info": {
   "codemirror_mode": {
    "name": "ipython",
    "version": 2
   },
   "file_extension": ".py",
   "mimetype": "text/x-python",
   "name": "python",
   "nbconvert_exporter": "python",
   "pygments_lexer": "ipython2",
   "version": "2.7.6"
  }
 },
 "nbformat": 4,
 "nbformat_minor": 0
}
