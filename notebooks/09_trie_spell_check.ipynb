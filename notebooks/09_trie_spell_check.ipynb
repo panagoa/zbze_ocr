{
 "cells": [
  {
   "cell_type": "code",
   "execution_count": 55,
   "outputs": [],
   "source": [
    "import os.path\n",
    "\n",
    "pdf_dir = '../data/dag_results/pdf_processing/walbana_kyh_Shorov.pdf/rslt_collected_3_from_oshamaho_new_font_0.193_4395_18400/'"
   ],
   "metadata": {
    "collapsed": false,
    "pycharm": {
     "name": "#%%\n"
    },
    "ExecuteTime": {
     "end_time": "2024-01-21T21:19:44.368108Z",
     "start_time": "2024-01-21T21:19:44.363695Z"
    }
   }
  },
  {
   "cell_type": "code",
   "execution_count": 56,
   "metadata": {
    "collapsed": true,
    "ExecuteTime": {
     "end_time": "2024-01-21T21:19:45.804298Z",
     "start_time": "2024-01-21T21:19:45.797389Z"
    }
   },
   "outputs": [],
   "source": [
    "with open(os.path.join(pdf_dir, 'all.txt'), 'r') as f:\n",
    "    text = f.read()"
   ]
  },
  {
   "cell_type": "code",
   "execution_count": 57,
   "outputs": [],
   "source": [
    "from dags.src.spell_checker.checker import create_spell_checker_service\n",
    "\n",
    "spell_checker = create_spell_checker_service()"
   ],
   "metadata": {
    "collapsed": false,
    "ExecuteTime": {
     "end_time": "2024-01-21T21:19:50.962595Z",
     "start_time": "2024-01-21T21:19:46.881605Z"
    }
   }
  },
  {
   "cell_type": "code",
   "execution_count": 58,
   "outputs": [
    {
     "name": "stderr",
     "output_type": "stream",
     "text": [
      "100%|██████████| 23307/23307 [00:03<00:00, 7055.65it/s]\n"
     ]
    }
   ],
   "source": [
    "import nltk\n",
    "\n",
    "spell_result_df = spell_checker.predict(nltk.word_tokenize(text), return_df=True)"
   ],
   "metadata": {
    "collapsed": false,
    "ExecuteTime": {
     "end_time": "2024-01-21T21:19:55.382395Z",
     "start_time": "2024-01-21T21:19:51.023137Z"
    }
   }
  },
  {
   "cell_type": "code",
   "execution_count": 59,
   "outputs": [],
   "source": [
    "import re\n",
    "from dags.src.lang_compare import get_book_df\n",
    "\n",
    "ocr_rslt_df = get_book_df(os.path.join(pdf_dir, 'tsvs'))\n",
    "ocr_rslt_df.fillna('', inplace=True)\n",
    "\n",
    "def clean_char(word):\n",
    "    return re.sub(r\"[-.:;,!?)(]\", r\"\", word)\n",
    "\n",
    "ocr_rslt_df['word'] = ocr_rslt_df['text'].apply(clean_char)"
   ],
   "metadata": {
    "collapsed": false,
    "ExecuteTime": {
     "end_time": "2024-01-21T21:20:16.436955Z",
     "start_time": "2024-01-21T21:20:15.513842Z"
    }
   }
  },
  {
   "cell_type": "code",
   "execution_count": 60,
   "outputs": [
    {
     "data": {
      "text/plain": "       level  page_num  block_num  par_num  line_num  word_num  left   top  \\\n0          1         1          0        0         0         0     0     0   \n1          2         1          1        0         0         0     0     0   \n2          3         1          1        1         0         0     0     0   \n3          4         1          1        1         1         0     0     0   \n4          5         1          1        1         1         1     0     0   \n...      ...       ...        ...      ...       ...       ...   ...   ...   \n85773      5         1         11        1         2         2   570  1820   \n85774      5         1         11        1         2         3   604  1812   \n85775      5         1         11        1         2         4   810  1820   \n85776      5         1         11        1         2         5   865  1812   \n85777      5         1         11        1         2         6  1034  1812   \n\n       width  height       conf         text      page        word  \n0       1479    2347  -1.000000               page-001              \n1       1479    2347  -1.000000               page-001              \n2       1479    2347  -1.000000               page-001              \n3       1479    2347  -1.000000               page-001              \n4       1479    2347  95.000000               page-001              \n...      ...     ...        ...          ...       ...         ...  \n85773     20      19  91.488052           г.  page-285           г  \n85774    193      34  92.823219  Ставрополь,  page-285  Ставрополь  \n85775     41      26  92.530495          ул.  page-285          ул  \n85776    155      33  92.512817    Спартака,  page-285    Спартака  \n85777     22      26  95.860077           8.  page-285           8  \n\n[85778 rows x 14 columns]",
      "text/html": "<div>\n<style scoped>\n    .dataframe tbody tr th:only-of-type {\n        vertical-align: middle;\n    }\n\n    .dataframe tbody tr th {\n        vertical-align: top;\n    }\n\n    .dataframe thead th {\n        text-align: right;\n    }\n</style>\n<table border=\"1\" class=\"dataframe\">\n  <thead>\n    <tr style=\"text-align: right;\">\n      <th></th>\n      <th>level</th>\n      <th>page_num</th>\n      <th>block_num</th>\n      <th>par_num</th>\n      <th>line_num</th>\n      <th>word_num</th>\n      <th>left</th>\n      <th>top</th>\n      <th>width</th>\n      <th>height</th>\n      <th>conf</th>\n      <th>text</th>\n      <th>page</th>\n      <th>word</th>\n    </tr>\n  </thead>\n  <tbody>\n    <tr>\n      <th>0</th>\n      <td>1</td>\n      <td>1</td>\n      <td>0</td>\n      <td>0</td>\n      <td>0</td>\n      <td>0</td>\n      <td>0</td>\n      <td>0</td>\n      <td>1479</td>\n      <td>2347</td>\n      <td>-1.000000</td>\n      <td></td>\n      <td>page-001</td>\n      <td></td>\n    </tr>\n    <tr>\n      <th>1</th>\n      <td>2</td>\n      <td>1</td>\n      <td>1</td>\n      <td>0</td>\n      <td>0</td>\n      <td>0</td>\n      <td>0</td>\n      <td>0</td>\n      <td>1479</td>\n      <td>2347</td>\n      <td>-1.000000</td>\n      <td></td>\n      <td>page-001</td>\n      <td></td>\n    </tr>\n    <tr>\n      <th>2</th>\n      <td>3</td>\n      <td>1</td>\n      <td>1</td>\n      <td>1</td>\n      <td>0</td>\n      <td>0</td>\n      <td>0</td>\n      <td>0</td>\n      <td>1479</td>\n      <td>2347</td>\n      <td>-1.000000</td>\n      <td></td>\n      <td>page-001</td>\n      <td></td>\n    </tr>\n    <tr>\n      <th>3</th>\n      <td>4</td>\n      <td>1</td>\n      <td>1</td>\n      <td>1</td>\n      <td>1</td>\n      <td>0</td>\n      <td>0</td>\n      <td>0</td>\n      <td>1479</td>\n      <td>2347</td>\n      <td>-1.000000</td>\n      <td></td>\n      <td>page-001</td>\n      <td></td>\n    </tr>\n    <tr>\n      <th>4</th>\n      <td>5</td>\n      <td>1</td>\n      <td>1</td>\n      <td>1</td>\n      <td>1</td>\n      <td>1</td>\n      <td>0</td>\n      <td>0</td>\n      <td>1479</td>\n      <td>2347</td>\n      <td>95.000000</td>\n      <td></td>\n      <td>page-001</td>\n      <td></td>\n    </tr>\n    <tr>\n      <th>...</th>\n      <td>...</td>\n      <td>...</td>\n      <td>...</td>\n      <td>...</td>\n      <td>...</td>\n      <td>...</td>\n      <td>...</td>\n      <td>...</td>\n      <td>...</td>\n      <td>...</td>\n      <td>...</td>\n      <td>...</td>\n      <td>...</td>\n      <td>...</td>\n    </tr>\n    <tr>\n      <th>85773</th>\n      <td>5</td>\n      <td>1</td>\n      <td>11</td>\n      <td>1</td>\n      <td>2</td>\n      <td>2</td>\n      <td>570</td>\n      <td>1820</td>\n      <td>20</td>\n      <td>19</td>\n      <td>91.488052</td>\n      <td>г.</td>\n      <td>page-285</td>\n      <td>г</td>\n    </tr>\n    <tr>\n      <th>85774</th>\n      <td>5</td>\n      <td>1</td>\n      <td>11</td>\n      <td>1</td>\n      <td>2</td>\n      <td>3</td>\n      <td>604</td>\n      <td>1812</td>\n      <td>193</td>\n      <td>34</td>\n      <td>92.823219</td>\n      <td>Ставрополь,</td>\n      <td>page-285</td>\n      <td>Ставрополь</td>\n    </tr>\n    <tr>\n      <th>85775</th>\n      <td>5</td>\n      <td>1</td>\n      <td>11</td>\n      <td>1</td>\n      <td>2</td>\n      <td>4</td>\n      <td>810</td>\n      <td>1820</td>\n      <td>41</td>\n      <td>26</td>\n      <td>92.530495</td>\n      <td>ул.</td>\n      <td>page-285</td>\n      <td>ул</td>\n    </tr>\n    <tr>\n      <th>85776</th>\n      <td>5</td>\n      <td>1</td>\n      <td>11</td>\n      <td>1</td>\n      <td>2</td>\n      <td>5</td>\n      <td>865</td>\n      <td>1812</td>\n      <td>155</td>\n      <td>33</td>\n      <td>92.512817</td>\n      <td>Спартака,</td>\n      <td>page-285</td>\n      <td>Спартака</td>\n    </tr>\n    <tr>\n      <th>85777</th>\n      <td>5</td>\n      <td>1</td>\n      <td>11</td>\n      <td>1</td>\n      <td>2</td>\n      <td>6</td>\n      <td>1034</td>\n      <td>1812</td>\n      <td>22</td>\n      <td>26</td>\n      <td>95.860077</td>\n      <td>8.</td>\n      <td>page-285</td>\n      <td>8</td>\n    </tr>\n  </tbody>\n</table>\n<p>85778 rows × 14 columns</p>\n</div>"
     },
     "execution_count": 60,
     "metadata": {},
     "output_type": "execute_result"
    }
   ],
   "source": [
    "ocr_rslt_df"
   ],
   "metadata": {
    "collapsed": false,
    "ExecuteTime": {
     "end_time": "2024-01-21T21:20:18.604127Z",
     "start_time": "2024-01-21T21:20:18.599733Z"
    }
   }
  },
  {
   "cell_type": "code",
   "execution_count": 61,
   "outputs": [],
   "source": [
    "import pandas as pd\n",
    "\n",
    "result_df = pd.merge(ocr_rslt_df, spell_result_df, how='left', left_on='word', right_on='word')"
   ],
   "metadata": {
    "collapsed": false,
    "ExecuteTime": {
     "end_time": "2024-01-21T21:20:19.761900Z",
     "start_time": "2024-01-21T21:20:19.737790Z"
    }
   }
  },
  {
   "cell_type": "code",
   "execution_count": 62,
   "outputs": [
    {
     "data": {
      "text/plain": "       level  page_num  block_num  par_num  line_num  word_num  left   top  \\\n0          1         1          0        0         0         0     0     0   \n1          2         1          1        0         0         0     0     0   \n2          3         1          1        1         0         0     0     0   \n3          4         1          1        1         1         0     0     0   \n4          5         1          1        1         1         1     0     0   \n...      ...       ...        ...      ...       ...       ...   ...   ...   \n85773      5         1         11        1         2         2   570  1820   \n85774      5         1         11        1         2         3   604  1812   \n85775      5         1         11        1         2         4   810  1820   \n85776      5         1         11        1         2         5   865  1812   \n85777      5         1         11        1         2         6  1034  1812   \n\n       width  height       conf         text      page        word calc freq  \n0       1479    2347  -1.000000               page-001                        \n1       1479    2347  -1.000000               page-001                        \n2       1479    2347  -1.000000               page-001                        \n3       1479    2347  -1.000000               page-001                        \n4       1479    2347  95.000000               page-001                        \n...      ...     ...        ...          ...       ...         ...  ...  ...  \n85773     20      19  91.488052           г.  page-285           г            \n85774    193      34  92.823219  Ставрополь,  page-285  Ставрополь  1.0  1.0  \n85775     41      26  92.530495          ул.  page-285          ул  0.0  1.0  \n85776    155      33  92.512817    Спартака,  page-285    Спартака  0.0  1.0  \n85777     22      26  95.860077           8.  page-285           8  1.0  5.0  \n\n[85778 rows x 16 columns]",
      "text/html": "<div>\n<style scoped>\n    .dataframe tbody tr th:only-of-type {\n        vertical-align: middle;\n    }\n\n    .dataframe tbody tr th {\n        vertical-align: top;\n    }\n\n    .dataframe thead th {\n        text-align: right;\n    }\n</style>\n<table border=\"1\" class=\"dataframe\">\n  <thead>\n    <tr style=\"text-align: right;\">\n      <th></th>\n      <th>level</th>\n      <th>page_num</th>\n      <th>block_num</th>\n      <th>par_num</th>\n      <th>line_num</th>\n      <th>word_num</th>\n      <th>left</th>\n      <th>top</th>\n      <th>width</th>\n      <th>height</th>\n      <th>conf</th>\n      <th>text</th>\n      <th>page</th>\n      <th>word</th>\n      <th>calc</th>\n      <th>freq</th>\n    </tr>\n  </thead>\n  <tbody>\n    <tr>\n      <th>0</th>\n      <td>1</td>\n      <td>1</td>\n      <td>0</td>\n      <td>0</td>\n      <td>0</td>\n      <td>0</td>\n      <td>0</td>\n      <td>0</td>\n      <td>1479</td>\n      <td>2347</td>\n      <td>-1.000000</td>\n      <td></td>\n      <td>page-001</td>\n      <td></td>\n      <td></td>\n      <td></td>\n    </tr>\n    <tr>\n      <th>1</th>\n      <td>2</td>\n      <td>1</td>\n      <td>1</td>\n      <td>0</td>\n      <td>0</td>\n      <td>0</td>\n      <td>0</td>\n      <td>0</td>\n      <td>1479</td>\n      <td>2347</td>\n      <td>-1.000000</td>\n      <td></td>\n      <td>page-001</td>\n      <td></td>\n      <td></td>\n      <td></td>\n    </tr>\n    <tr>\n      <th>2</th>\n      <td>3</td>\n      <td>1</td>\n      <td>1</td>\n      <td>1</td>\n      <td>0</td>\n      <td>0</td>\n      <td>0</td>\n      <td>0</td>\n      <td>1479</td>\n      <td>2347</td>\n      <td>-1.000000</td>\n      <td></td>\n      <td>page-001</td>\n      <td></td>\n      <td></td>\n      <td></td>\n    </tr>\n    <tr>\n      <th>3</th>\n      <td>4</td>\n      <td>1</td>\n      <td>1</td>\n      <td>1</td>\n      <td>1</td>\n      <td>0</td>\n      <td>0</td>\n      <td>0</td>\n      <td>1479</td>\n      <td>2347</td>\n      <td>-1.000000</td>\n      <td></td>\n      <td>page-001</td>\n      <td></td>\n      <td></td>\n      <td></td>\n    </tr>\n    <tr>\n      <th>4</th>\n      <td>5</td>\n      <td>1</td>\n      <td>1</td>\n      <td>1</td>\n      <td>1</td>\n      <td>1</td>\n      <td>0</td>\n      <td>0</td>\n      <td>1479</td>\n      <td>2347</td>\n      <td>95.000000</td>\n      <td></td>\n      <td>page-001</td>\n      <td></td>\n      <td></td>\n      <td></td>\n    </tr>\n    <tr>\n      <th>...</th>\n      <td>...</td>\n      <td>...</td>\n      <td>...</td>\n      <td>...</td>\n      <td>...</td>\n      <td>...</td>\n      <td>...</td>\n      <td>...</td>\n      <td>...</td>\n      <td>...</td>\n      <td>...</td>\n      <td>...</td>\n      <td>...</td>\n      <td>...</td>\n      <td>...</td>\n      <td>...</td>\n    </tr>\n    <tr>\n      <th>85773</th>\n      <td>5</td>\n      <td>1</td>\n      <td>11</td>\n      <td>1</td>\n      <td>2</td>\n      <td>2</td>\n      <td>570</td>\n      <td>1820</td>\n      <td>20</td>\n      <td>19</td>\n      <td>91.488052</td>\n      <td>г.</td>\n      <td>page-285</td>\n      <td>г</td>\n      <td></td>\n      <td></td>\n    </tr>\n    <tr>\n      <th>85774</th>\n      <td>5</td>\n      <td>1</td>\n      <td>11</td>\n      <td>1</td>\n      <td>2</td>\n      <td>3</td>\n      <td>604</td>\n      <td>1812</td>\n      <td>193</td>\n      <td>34</td>\n      <td>92.823219</td>\n      <td>Ставрополь,</td>\n      <td>page-285</td>\n      <td>Ставрополь</td>\n      <td>1.0</td>\n      <td>1.0</td>\n    </tr>\n    <tr>\n      <th>85775</th>\n      <td>5</td>\n      <td>1</td>\n      <td>11</td>\n      <td>1</td>\n      <td>2</td>\n      <td>4</td>\n      <td>810</td>\n      <td>1820</td>\n      <td>41</td>\n      <td>26</td>\n      <td>92.530495</td>\n      <td>ул.</td>\n      <td>page-285</td>\n      <td>ул</td>\n      <td>0.0</td>\n      <td>1.0</td>\n    </tr>\n    <tr>\n      <th>85776</th>\n      <td>5</td>\n      <td>1</td>\n      <td>11</td>\n      <td>1</td>\n      <td>2</td>\n      <td>5</td>\n      <td>865</td>\n      <td>1812</td>\n      <td>155</td>\n      <td>33</td>\n      <td>92.512817</td>\n      <td>Спартака,</td>\n      <td>page-285</td>\n      <td>Спартака</td>\n      <td>0.0</td>\n      <td>1.0</td>\n    </tr>\n    <tr>\n      <th>85777</th>\n      <td>5</td>\n      <td>1</td>\n      <td>11</td>\n      <td>1</td>\n      <td>2</td>\n      <td>6</td>\n      <td>1034</td>\n      <td>1812</td>\n      <td>22</td>\n      <td>26</td>\n      <td>95.860077</td>\n      <td>8.</td>\n      <td>page-285</td>\n      <td>8</td>\n      <td>1.0</td>\n      <td>5.0</td>\n    </tr>\n  </tbody>\n</table>\n<p>85778 rows × 16 columns</p>\n</div>"
     },
     "execution_count": 62,
     "metadata": {},
     "output_type": "execute_result"
    }
   ],
   "source": [
    "result_df.fillna('', inplace=True)\n",
    "result_df"
   ],
   "metadata": {
    "collapsed": false,
    "ExecuteTime": {
     "end_time": "2024-01-21T21:20:20.432250Z",
     "start_time": "2024-01-21T21:20:20.401370Z"
    }
   }
  },
  {
   "cell_type": "code",
   "execution_count": 66,
   "outputs": [
    {
     "name": "stderr",
     "output_type": "stream",
     "text": [
      "/var/folders/1_/ss0tzds95cjf19d6s8b1cdf80000gn/T/ipykernel_35150/3704279818.py:2: UserWarning: Boolean Series key will be reindexed to match DataFrame index.\n",
      "  result_df[result_df['conf'] < 90][result_df['conf'] > 0]\n"
     ]
    },
    {
     "data": {
      "text/plain": "       level  page_num  block_num  par_num  line_num  word_num  left   top  \\\n14         5         1          1        1         1         1   400   195   \n15         5         1          1        1         1         2   710   196   \n19         5         1          2        1         1         1   270   656   \n21         5         1          2        1         2         1   436   864   \n25         5         1          3        1         1         1   612  1171   \n...      ...       ...        ...      ...       ...       ...   ...   ...   \n85736      5         1          9        1         4         6   700  1505   \n85738      5         1          9        1         4         8   908  1498   \n85746      5         1          9        1         5         5   871  1540   \n85750      5         1         10        1         1         1   525  1616   \n85768      5         1         11        1         1         2   370  1775   \n\n       width  height       conf                          text      page  \\\n14       275      90  28.542713                         МIорэ  page-003   \n15       378      86  73.600250                      »Iхьллэд  page-003   \n19       934     143  40.951744                      УЭЛьЬАНЭ  page-003   \n21       611     142  62.630024                         КIыхь  page-003   \n25       249      72  43.194675                    ЭIовостаэр  page-003   \n...      ...     ...        ...                           ...       ...   \n85736    115      25  49.559631                      кр.-отт.  page-285   \n85738    122      28  56.225800                      Уч.-изд.  page-285   \n85746     43      24  47.960529                            96  page-285   \n85750     67      26  84.576256                          РГУУ  page-285   \n85768    492      33  86.224937  «Издательско-полиграфическая  page-285   \n\n                              word calc freq  \n14                           МIорэ  0.0  1.0  \n15                        »Iхьллэд            \n19                        УЭЛьЬАНЭ  0.0  1.0  \n21                           КIыхь  1.0  1.0  \n25                      ЭIовостаэр  0.0  1.0  \n...                            ...  ...  ...  \n85736                        кротт            \n85738                        Учизд            \n85746                           96  1.0  3.0  \n85750                         РГУУ  0.0  1.0  \n85768  «Издательскополиграфическая            \n\n[3223 rows x 16 columns]",
      "text/html": "<div>\n<style scoped>\n    .dataframe tbody tr th:only-of-type {\n        vertical-align: middle;\n    }\n\n    .dataframe tbody tr th {\n        vertical-align: top;\n    }\n\n    .dataframe thead th {\n        text-align: right;\n    }\n</style>\n<table border=\"1\" class=\"dataframe\">\n  <thead>\n    <tr style=\"text-align: right;\">\n      <th></th>\n      <th>level</th>\n      <th>page_num</th>\n      <th>block_num</th>\n      <th>par_num</th>\n      <th>line_num</th>\n      <th>word_num</th>\n      <th>left</th>\n      <th>top</th>\n      <th>width</th>\n      <th>height</th>\n      <th>conf</th>\n      <th>text</th>\n      <th>page</th>\n      <th>word</th>\n      <th>calc</th>\n      <th>freq</th>\n    </tr>\n  </thead>\n  <tbody>\n    <tr>\n      <th>14</th>\n      <td>5</td>\n      <td>1</td>\n      <td>1</td>\n      <td>1</td>\n      <td>1</td>\n      <td>1</td>\n      <td>400</td>\n      <td>195</td>\n      <td>275</td>\n      <td>90</td>\n      <td>28.542713</td>\n      <td>МIорэ</td>\n      <td>page-003</td>\n      <td>МIорэ</td>\n      <td>0.0</td>\n      <td>1.0</td>\n    </tr>\n    <tr>\n      <th>15</th>\n      <td>5</td>\n      <td>1</td>\n      <td>1</td>\n      <td>1</td>\n      <td>1</td>\n      <td>2</td>\n      <td>710</td>\n      <td>196</td>\n      <td>378</td>\n      <td>86</td>\n      <td>73.600250</td>\n      <td>»Iхьллэд</td>\n      <td>page-003</td>\n      <td>»Iхьллэд</td>\n      <td></td>\n      <td></td>\n    </tr>\n    <tr>\n      <th>19</th>\n      <td>5</td>\n      <td>1</td>\n      <td>2</td>\n      <td>1</td>\n      <td>1</td>\n      <td>1</td>\n      <td>270</td>\n      <td>656</td>\n      <td>934</td>\n      <td>143</td>\n      <td>40.951744</td>\n      <td>УЭЛьЬАНЭ</td>\n      <td>page-003</td>\n      <td>УЭЛьЬАНЭ</td>\n      <td>0.0</td>\n      <td>1.0</td>\n    </tr>\n    <tr>\n      <th>21</th>\n      <td>5</td>\n      <td>1</td>\n      <td>2</td>\n      <td>1</td>\n      <td>2</td>\n      <td>1</td>\n      <td>436</td>\n      <td>864</td>\n      <td>611</td>\n      <td>142</td>\n      <td>62.630024</td>\n      <td>КIыхь</td>\n      <td>page-003</td>\n      <td>КIыхь</td>\n      <td>1.0</td>\n      <td>1.0</td>\n    </tr>\n    <tr>\n      <th>25</th>\n      <td>5</td>\n      <td>1</td>\n      <td>3</td>\n      <td>1</td>\n      <td>1</td>\n      <td>1</td>\n      <td>612</td>\n      <td>1171</td>\n      <td>249</td>\n      <td>72</td>\n      <td>43.194675</td>\n      <td>ЭIовостаэр</td>\n      <td>page-003</td>\n      <td>ЭIовостаэр</td>\n      <td>0.0</td>\n      <td>1.0</td>\n    </tr>\n    <tr>\n      <th>...</th>\n      <td>...</td>\n      <td>...</td>\n      <td>...</td>\n      <td>...</td>\n      <td>...</td>\n      <td>...</td>\n      <td>...</td>\n      <td>...</td>\n      <td>...</td>\n      <td>...</td>\n      <td>...</td>\n      <td>...</td>\n      <td>...</td>\n      <td>...</td>\n      <td>...</td>\n      <td>...</td>\n    </tr>\n    <tr>\n      <th>85736</th>\n      <td>5</td>\n      <td>1</td>\n      <td>9</td>\n      <td>1</td>\n      <td>4</td>\n      <td>6</td>\n      <td>700</td>\n      <td>1505</td>\n      <td>115</td>\n      <td>25</td>\n      <td>49.559631</td>\n      <td>кр.-отт.</td>\n      <td>page-285</td>\n      <td>кротт</td>\n      <td></td>\n      <td></td>\n    </tr>\n    <tr>\n      <th>85738</th>\n      <td>5</td>\n      <td>1</td>\n      <td>9</td>\n      <td>1</td>\n      <td>4</td>\n      <td>8</td>\n      <td>908</td>\n      <td>1498</td>\n      <td>122</td>\n      <td>28</td>\n      <td>56.225800</td>\n      <td>Уч.-изд.</td>\n      <td>page-285</td>\n      <td>Учизд</td>\n      <td></td>\n      <td></td>\n    </tr>\n    <tr>\n      <th>85746</th>\n      <td>5</td>\n      <td>1</td>\n      <td>9</td>\n      <td>1</td>\n      <td>5</td>\n      <td>5</td>\n      <td>871</td>\n      <td>1540</td>\n      <td>43</td>\n      <td>24</td>\n      <td>47.960529</td>\n      <td>96</td>\n      <td>page-285</td>\n      <td>96</td>\n      <td>1.0</td>\n      <td>3.0</td>\n    </tr>\n    <tr>\n      <th>85750</th>\n      <td>5</td>\n      <td>1</td>\n      <td>10</td>\n      <td>1</td>\n      <td>1</td>\n      <td>1</td>\n      <td>525</td>\n      <td>1616</td>\n      <td>67</td>\n      <td>26</td>\n      <td>84.576256</td>\n      <td>РГУУ</td>\n      <td>page-285</td>\n      <td>РГУУ</td>\n      <td>0.0</td>\n      <td>1.0</td>\n    </tr>\n    <tr>\n      <th>85768</th>\n      <td>5</td>\n      <td>1</td>\n      <td>11</td>\n      <td>1</td>\n      <td>1</td>\n      <td>2</td>\n      <td>370</td>\n      <td>1775</td>\n      <td>492</td>\n      <td>33</td>\n      <td>86.224937</td>\n      <td>«Издательско-полиграфическая</td>\n      <td>page-285</td>\n      <td>«Издательскополиграфическая</td>\n      <td></td>\n      <td></td>\n    </tr>\n  </tbody>\n</table>\n<p>3223 rows × 16 columns</p>\n</div>"
     },
     "execution_count": 66,
     "metadata": {},
     "output_type": "execute_result"
    }
   ],
   "source": [
    "# result_df[result_df['calc']==0]\n",
    "result_df[result_df['conf'] < 90][result_df['conf'] > 0]"
   ],
   "metadata": {
    "collapsed": false,
    "ExecuteTime": {
     "end_time": "2024-01-21T21:38:47.409592Z",
     "start_time": "2024-01-21T21:38:47.387815Z"
    }
   }
  },
  {
   "cell_type": "code",
   "execution_count": null,
   "outputs": [],
   "source": [],
   "metadata": {
    "collapsed": false
   }
  }
 ],
 "metadata": {
  "kernelspec": {
   "display_name": "Python 3",
   "language": "python",
   "name": "python3"
  },
  "language_info": {
   "codemirror_mode": {
    "name": "ipython",
    "version": 2
   },
   "file_extension": ".py",
   "mimetype": "text/x-python",
   "name": "python",
   "nbconvert_exporter": "python",
   "pygments_lexer": "ipython2",
   "version": "2.7.6"
  }
 },
 "nbformat": 4,
 "nbformat_minor": 0
}
