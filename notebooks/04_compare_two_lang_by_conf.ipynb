{
 "cells": [
  {
   "cell_type": "code",
   "execution_count": 17,
   "id": "initial_id",
   "metadata": {
    "collapsed": true,
    "ExecuteTime": {
     "end_time": "2023-10-22T01:31:19.402732Z",
     "start_time": "2023-10-22T01:31:19.394133Z"
    }
   },
   "outputs": [],
   "source": [
    "import os\n",
    "\n",
    "import pandas as pd\n",
    "\n",
    "\n",
    "def get_book_df(book_dir):\n",
    "    book_df = pd.DataFrame()\n",
    "    for filename in sorted(os.listdir(book_dir)):\n",
    "        if filename.endswith('.tsv'):\n",
    "            page_df = pd.read_csv(os.path.join(book_dir, filename), sep='\\t', header=0)\n",
    "            page_df['page'] = filename.split('.')[0]\n",
    "            book_df = pd.concat([book_df, page_df], ignore_index=True)\n",
    "    return book_df\n"
   ]
  },
  {
   "cell_type": "code",
   "execution_count": 18,
   "outputs": [],
   "source": [
    "book_base_dir = '../data/dag_results/pdf_processing/dysche_zhyg.pdf'\n",
    "book_df_1 = get_book_df(os.path.join(book_base_dir, 'kbd_0.009_4360_66700', 'tsvs'))\n",
    "book_df_2 = get_book_df(os.path.join(book_base_dir, 'kbd_0.229_2995_10800', 'tsvs'))\n",
    "\n",
    "book_df_1 = book_df_1.dropna()\n",
    "book_df_2 = book_df_2.dropna()"
   ],
   "metadata": {
    "collapsed": false,
    "ExecuteTime": {
     "end_time": "2023-10-22T01:31:20.105831Z",
     "start_time": "2023-10-22T01:31:19.874502Z"
    }
   },
   "id": "73e941d9d670da17"
  },
  {
   "cell_type": "code",
   "execution_count": 41,
   "outputs": [],
   "source": [
    "book_df_1.describe().to_csv('book_df_1_describe.tsv', sep='\\t')\n",
    "book_df_2.describe().to_csv('book_df_2_describe.tsv', sep='\\t')"
   ],
   "metadata": {
    "collapsed": false,
    "ExecuteTime": {
     "end_time": "2023-10-22T01:46:42.656170Z",
     "start_time": "2023-10-22T01:46:42.620787Z"
    }
   },
   "id": "c0666681e32fe4c7"
  },
  {
   "cell_type": "code",
   "execution_count": 27,
   "outputs": [],
   "source": [
    "join_by = ['page', 'text', 'level', 'page_num', 'block_num', 'par_num', 'line_num']\n",
    "inner_df = pd.merge(book_df_1, book_df_2, on=join_by, suffixes=('_1', '_2'))"
   ],
   "metadata": {
    "collapsed": false,
    "ExecuteTime": {
     "end_time": "2023-10-22T01:33:16.561451Z",
     "start_time": "2023-10-22T01:33:16.541120Z"
    }
   },
   "id": "4d19526daa278823"
  },
  {
   "cell_type": "code",
   "execution_count": 28,
   "outputs": [],
   "source": [
    "inner_show_cols = ['text', 'conf_1', 'conf_2']\n",
    "inner_df = inner_df[inner_show_cols]\n",
    "inner_df.to_csv('inner_df.tsv', sep='\\t')"
   ],
   "metadata": {
    "collapsed": false,
    "ExecuteTime": {
     "end_time": "2023-10-22T01:33:17.385340Z",
     "start_time": "2023-10-22T01:33:17.341908Z"
    }
   },
   "id": "f6ee0463c02148bf"
  },
  {
   "cell_type": "code",
   "execution_count": 37,
   "outputs": [],
   "source": [
    "left_show_cols = ['page', 'text', 'conf_1', 'conf_2']\n",
    "left_df = pd.merge(book_df_1, book_df_2, on=join_by, how='left', suffixes=('_1', '_2'))\n",
    "left_df = left_df[left_df['conf_2'].isna()]\n",
    "left_df = left_df[left_show_cols]\n",
    "left_df.to_csv('left_df.tsv', sep='\\t')"
   ],
   "metadata": {
    "collapsed": false,
    "ExecuteTime": {
     "end_time": "2023-10-22T01:39:09.185678Z",
     "start_time": "2023-10-22T01:39:09.171279Z"
    }
   },
   "id": "289b63dbc1e7e76f"
  },
  {
   "cell_type": "code",
   "execution_count": 38,
   "outputs": [],
   "source": [
    "right_show_cols = ['page', 'text', 'conf_1', 'conf_2']\n",
    "right_df = pd.merge(book_df_1, book_df_2, on=join_by, how='right', suffixes=('_1', '_2'))\n",
    "right_df = right_df[right_df['conf_1'].isna()]\n",
    "right_df = right_df[right_show_cols]\n",
    "right_df.to_csv('right_df.tsv', sep='\\t')"
   ],
   "metadata": {
    "collapsed": false,
    "ExecuteTime": {
     "end_time": "2023-10-22T01:39:41.814949Z",
     "start_time": "2023-10-22T01:39:41.769896Z"
    }
   },
   "id": "28139d878f2262b6"
  },
  {
   "cell_type": "code",
   "execution_count": 40,
   "outputs": [],
   "source": [
    "# filter by conf\n",
    "conf_threshold = 80\n",
    "filtered_book_df_1 = book_df_1[book_df_1['conf'] < conf_threshold]\n",
    "filtered_book_df_2 = book_df_2[book_df_2['conf'] < conf_threshold]\n",
    "filtered_book_df_1.to_csv(f'filtered_{conf_threshold}_book_df_1.tsv', sep='\\t')\n",
    "filtered_book_df_2.to_csv(f'filtered_{conf_threshold}_book_df_2.tsv', sep='\\t')"
   ],
   "metadata": {
    "collapsed": false,
    "ExecuteTime": {
     "end_time": "2023-10-22T01:45:07.430111Z",
     "start_time": "2023-10-22T01:45:07.414889Z"
    }
   },
   "id": "76afedb6fe17a06e"
  },
  {
   "cell_type": "code",
   "execution_count": null,
   "outputs": [],
   "source": [],
   "metadata": {
    "collapsed": false
   },
   "id": "9047767a9b36e37"
  }
 ],
 "metadata": {
  "kernelspec": {
   "display_name": "Python 3",
   "language": "python",
   "name": "python3"
  },
  "language_info": {
   "codemirror_mode": {
    "name": "ipython",
    "version": 2
   },
   "file_extension": ".py",
   "mimetype": "text/x-python",
   "name": "python",
   "nbconvert_exporter": "python",
   "pygments_lexer": "ipython2",
   "version": "2.7.6"
  }
 },
 "nbformat": 4,
 "nbformat_minor": 5
}
