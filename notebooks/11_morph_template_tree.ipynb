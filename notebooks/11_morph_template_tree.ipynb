{
 "cells": [
  {
   "cell_type": "code",
   "execution_count": 1,
   "outputs": [],
   "source": [
    "words_file_path = '../data/tesstrain/kbd/configs/kbd.wordlist'\n",
    "template_groups_file_path = '../dags/src/stemmer/data/template_groups_by_len.json'"
   ],
   "metadata": {
    "collapsed": false,
    "ExecuteTime": {
     "end_time": "2023-12-03T15:14:47.572352Z",
     "start_time": "2023-12-03T15:14:47.569593Z"
    }
   }
  },
  {
   "cell_type": "code",
   "execution_count": 2,
   "outputs": [],
   "source": [
    "with open(words_file_path, 'r') as f:\n",
    "    words = f.read().split('\\n')"
   ],
   "metadata": {
    "collapsed": false,
    "ExecuteTime": {
     "end_time": "2023-12-03T00:53:24.686060Z",
     "start_time": "2023-12-03T00:53:24.653274Z"
    }
   }
  },
  {
   "cell_type": "code",
   "execution_count": 3,
   "outputs": [
    {
     "name": "stderr",
     "output_type": "stream",
     "text": [
      "  6%|▋         | 27731/430057 [00:14<03:27, 1940.96it/s]\n"
     ]
    },
    {
     "ename": "KeyboardInterrupt",
     "evalue": "",
     "output_type": "error",
     "traceback": [
      "\u001B[0;31m---------------------------------------------------------------------------\u001B[0m",
      "\u001B[0;31mKeyboardInterrupt\u001B[0m                         Traceback (most recent call last)",
      "Cell \u001B[0;32mIn[3], line 19\u001B[0m\n\u001B[1;32m     14\u001B[0m word2templates \u001B[38;5;241m=\u001B[39m defaultdict(\u001B[38;5;28mlist\u001B[39m)\n\u001B[1;32m     15\u001B[0m \u001B[38;5;28;01mfor\u001B[39;00m word \u001B[38;5;129;01min\u001B[39;00m tqdm(words):\n\u001B[1;32m     16\u001B[0m     \u001B[38;5;66;03m# possible_stems = stemmer.find_possible_stems(word)\u001B[39;00m\n\u001B[1;32m     17\u001B[0m     \u001B[38;5;66;03m# word2possible_stems[word].extend(possible_stems)\u001B[39;00m\n\u001B[0;32m---> 19\u001B[0m     templates \u001B[38;5;241m=\u001B[39m \u001B[43mstemmer\u001B[49m\u001B[38;5;241;43m.\u001B[39;49m\u001B[43mfind_suitable_templates\u001B[49m\u001B[43m(\u001B[49m\u001B[43mword\u001B[49m\u001B[43m)\u001B[49m\n\u001B[1;32m     20\u001B[0m     word2templates[word]\u001B[38;5;241m.\u001B[39mextend(templates)\n",
      "File \u001B[0;32m~/airflow/dags/src/stemmer/stemmer.py:32\u001B[0m, in \u001B[0;36mStemmer.find_suitable_templates\u001B[0;34m(self, word)\u001B[0m\n\u001B[1;32m     30\u001B[0m suitable_templates \u001B[38;5;241m=\u001B[39m []\n\u001B[1;32m     31\u001B[0m \u001B[38;5;28;01mfor\u001B[39;00m rule \u001B[38;5;129;01min\u001B[39;00m \u001B[38;5;28mself\u001B[39m\u001B[38;5;241m.\u001B[39mrules:\n\u001B[0;32m---> 32\u001B[0m     suitable_templates\u001B[38;5;241m.\u001B[39mextend(\u001B[43mrule\u001B[49m\u001B[38;5;241;43m.\u001B[39;49m\u001B[43mfind_suitable_templates\u001B[49m\u001B[43m(\u001B[49m\u001B[43mword\u001B[49m\u001B[43m)\u001B[49m)\n\u001B[1;32m     33\u001B[0m \u001B[38;5;28;01mreturn\u001B[39;00m suitable_templates\n",
      "File \u001B[0;32m~/airflow/dags/src/stemmer/rules/base.py:126\u001B[0m, in \u001B[0;36mTemplateGroupRule.find_suitable_templates\u001B[0;34m(self, word)\u001B[0m\n\u001B[1;32m    124\u001B[0m \u001B[38;5;28;01mdef\u001B[39;00m \u001B[38;5;21mfind_suitable_templates\u001B[39m(\u001B[38;5;28mself\u001B[39m, word):\n\u001B[1;32m    125\u001B[0m     suitable_templates \u001B[38;5;241m=\u001B[39m []\n\u001B[0;32m--> 126\u001B[0m \u001B[43m    \u001B[49m\u001B[38;5;28;43;01mfor\u001B[39;49;00m\u001B[43m \u001B[49m\u001B[43mtemplate\u001B[49m\u001B[43m \u001B[49m\u001B[38;5;129;43;01min\u001B[39;49;00m\u001B[43m \u001B[49m\u001B[38;5;28;43mself\u001B[39;49m\u001B[38;5;241;43m.\u001B[39;49m\u001B[43mchoose_template\u001B[49m\u001B[43m(\u001B[49m\u001B[43mword\u001B[49m\u001B[43m)\u001B[49m\u001B[43m:\u001B[49m\n\u001B[1;32m    127\u001B[0m \u001B[43m        \u001B[49m\u001B[38;5;28;43;01mif\u001B[39;49;00m\u001B[43m \u001B[49m\u001B[38;5;129;43;01mnot\u001B[39;49;00m\u001B[43m \u001B[49m\u001B[43mtemplate\u001B[49m\u001B[43m:\u001B[49m\n\u001B[1;32m    128\u001B[0m \u001B[43m            \u001B[49m\u001B[38;5;28;43;01mcontinue\u001B[39;49;00m\n",
      "File \u001B[0;32m~/airflow/dags/src/stemmer/rules/base.py:170\u001B[0m, in \u001B[0;36mTemplateGroupRegexpRule.choose_template\u001B[0;34m(self, word)\u001B[0m\n\u001B[1;32m    168\u001B[0m \u001B[38;5;28;01mdef\u001B[39;00m \u001B[38;5;21mchoose_template\u001B[39m(\u001B[38;5;28mself\u001B[39m, word):\n\u001B[1;32m    169\u001B[0m     \u001B[38;5;28;01mfor\u001B[39;00m template, regexp \u001B[38;5;129;01min\u001B[39;00m \u001B[38;5;28mzip\u001B[39m(\u001B[38;5;28mself\u001B[39m\u001B[38;5;241m.\u001B[39mtemplates, \u001B[38;5;28mself\u001B[39m\u001B[38;5;241m.\u001B[39mregexps):\n\u001B[0;32m--> 170\u001B[0m         \u001B[38;5;28;01mif\u001B[39;00m \u001B[43mregexp\u001B[49m\u001B[38;5;241;43m.\u001B[39;49m\u001B[43mmatch\u001B[49m\u001B[43m(\u001B[49m\u001B[43mword\u001B[49m\u001B[43m)\u001B[49m:\n\u001B[1;32m    171\u001B[0m             \u001B[38;5;28;01myield\u001B[39;00m template\n\u001B[1;32m    172\u001B[0m     \u001B[38;5;28;01mreturn\u001B[39;00m \u001B[38;5;28;01mNone\u001B[39;00m\n",
      "\u001B[0;31mKeyboardInterrupt\u001B[0m: "
     ]
    }
   ],
   "source": [
    "from tqdm import tqdm\n",
    "\n",
    "from dags.src.stemmer.rules.base import create_template_group_rule\n",
    "from dags.src.stemmer.stemmer import Stemmer\n",
    "\n",
    "group_rules = create_template_group_rule(template_groups_file_path)\n",
    "stemmer = Stemmer(\n",
    "    rules=[rule for g, rule in sorted(group_rules.items(), key=lambda x: x[0], reverse=True)]\n",
    ")\n",
    "\n",
    "from collections import defaultdict\n",
    "\n",
    "# word2possible_stems = defaultdict(list)\n",
    "word2templates = defaultdict(list)\n",
    "for word in tqdm(words):\n",
    "    # possible_stems = stemmer.find_possible_stems(word)\n",
    "    # word2possible_stems[word].extend(possible_stems)\n",
    "\n",
    "    templates = stemmer.find_suitable_templates(word)\n",
    "    word2templates[word].extend(templates)"
   ],
   "metadata": {
    "collapsed": false,
    "ExecuteTime": {
     "end_time": "2023-12-03T00:53:39.586278Z",
     "start_time": "2023-12-03T00:53:25.097477Z"
    }
   }
  },
  {
   "cell_type": "code",
   "execution_count": 14,
   "outputs": [
    {
     "name": "stderr",
     "output_type": "stream",
     "text": [
      "100%|██████████| 430057/430057 [00:00<00:00, 902461.19it/s] \n"
     ]
    }
   ],
   "source": [
    "# это не нужно, лучше сделать дерево через marisa_trie.RecordTrie и считать possible_stems шаблонам на лету\n",
    "# import ahocorasick\n",
    "# word2template_dawg = ahocorasick.Automaton()\n",
    "# \n",
    "# word2possible_stems_dawg = ahocorasick.Automaton()\n",
    "# for word, possible_stems in tqdm(word2possible_stems.items()):\n",
    "#     word2possible_stems_dawg.add_word(word, possible_stems)\n",
    "#     \n",
    "# word2possible_stems_dawg.make_automaton()"
   ],
   "metadata": {
    "collapsed": false,
    "pycharm": {
     "name": "#%%\n"
    },
    "ExecuteTime": {
     "end_time": "2023-11-26T01:00:22.595152Z",
     "start_time": "2023-11-26T01:00:21.899740Z"
    }
   }
  },
  {
   "cell_type": "code",
   "execution_count": 15,
   "outputs": [
    {
     "name": "stderr",
     "output_type": "stream",
     "text": [
      "100%|██████████| 430057/430057 [00:00<00:00, 1026930.93it/s]\n"
     ]
    }
   ],
   "source": [
    "# здесь ahocorasick тоже не нужен\n",
    "# import ahocorasick\n",
    "# word2templates_dawg = ahocorasick.Automaton()\n",
    "# for word, templates in tqdm(word2templates.items()):\n",
    "#     word2templates_dawg.add_word(word, templates)\n",
    "# \n",
    "# word2templates_dawg.make_automaton()"
   ],
   "metadata": {
    "collapsed": false,
    "ExecuteTime": {
     "end_time": "2023-11-26T01:00:36.573748Z",
     "start_time": "2023-11-26T01:00:35.932410Z"
    }
   }
  },
  {
   "cell_type": "code",
   "execution_count": 51,
   "outputs": [
    {
     "name": "stdout",
     "output_type": "stream",
     "text": [
      "['тхузэфIэкIын', 'тхузэфIэкIыну', 'тхузэфIэкIынур', 'тхузэфIэкIынуращи', 'тхузэфIэкIынури', 'тхузэфIэкIынут', 'тхузэфIэкIынущ', 'тхузэфIэкIынукъым', 'тхузэфIэкIынукъыми', 'тхузэфIэкIынум', 'тхузэфIэкIынтэкъым']\n"
     ]
    }
   ],
   "source": [
    "# через marisa_trie.RecordTrie удобнее, но нужно сделать маппинг индексов в шаблоны рядом с деревом\n",
    "# import marisa_trie\n",
    "# \n",
    "# word_trie = marisa_trie.Trie(word2templates.keys())\n",
    "# print(word_trie.keys('тхузэфIэкIын'))"
   ],
   "metadata": {
    "collapsed": false,
    "ExecuteTime": {
     "end_time": "2023-11-26T02:09:01.008203Z",
     "start_time": "2023-11-26T02:09:01.006790Z"
    }
   }
  },
  {
   "cell_type": "code",
   "execution_count": 8,
   "outputs": [
    {
     "name": "stderr",
     "output_type": "stream",
     "text": [
      "100%|██████████| 430057/430057 [00:00<00:00, 1619312.82it/s]\n"
     ]
    }
   ],
   "source": [
    "import marisa_trie\n",
    "\n",
    "word_index_map = {}\n",
    "index_template_map = {}\n",
    "for i, (word, templates) in enumerate(tqdm(word2templates.items())):\n",
    "    word_index_map[word] = (i,)\n",
    "    index_template_map[i] = templates\n",
    "\n",
    "word2template_trie = marisa_trie.RecordTrie('I', word_index_map.items())"
   ],
   "metadata": {
    "collapsed": false,
    "ExecuteTime": {
     "end_time": "2023-12-02T21:06:33.345119Z",
     "start_time": "2023-12-02T21:06:32.327867Z"
    }
   }
  },
  {
   "cell_type": "code",
   "execution_count": 9,
   "outputs": [
    {
     "name": "stdout",
     "output_type": "stream",
     "text": [
      "[(428006,)]\n",
      "['*къыми', 'тхузэ*', 'тху*', 'т*ми', '***', '*ми', 'т*и']\n"
     ]
    }
   ],
   "source": [
    "q = 'тхузэфIэкIынукъыми'\n",
    "index = word2template_trie.get(q)\n",
    "print(index)\n",
    "print(index_template_map[index[0][0]])"
   ],
   "metadata": {
    "collapsed": false,
    "ExecuteTime": {
     "end_time": "2023-12-02T21:06:37.796739Z",
     "start_time": "2023-12-02T21:06:37.795230Z"
    }
   }
  },
  {
   "cell_type": "code",
   "execution_count": 10,
   "outputs": [
    {
     "data": {
      "text/plain": "[('тхузэфIэкIынуращи', (338393,)),\n ('тхузэфIэкIынури', (113819,)),\n ('тхузэфIэкIынур', (115911,)),\n ('тхузэфIэкIынут', (117579,)),\n ('тхузэфIэкIынущ', (48344,)),\n ('тхузэфIэкIынукъыми', (428006,)),\n ('тхузэфIэкIынукъым', (63458,)),\n ('тхузэфIэкIынум', (52770,)),\n ('тхузэфIэкIыну', (22257,)),\n ('тхузэфIэкIынтэкъым', (163609,)),\n ('тхузэфIэкIын', (121245,))]"
     },
     "execution_count": 10,
     "metadata": {},
     "output_type": "execute_result"
    }
   ],
   "source": [
    "word2template_trie.items('тхузэфIэкIын')"
   ],
   "metadata": {
    "collapsed": false,
    "ExecuteTime": {
     "end_time": "2023-12-02T21:06:40.074543Z",
     "start_time": "2023-12-02T21:06:40.069545Z"
    }
   }
  },
  {
   "cell_type": "code",
   "execution_count": 1,
   "outputs": [
    {
     "name": "stderr",
     "output_type": "stream",
     "text": [
      "  3%|▎         | 14671/430057 [00:07<03:34, 1938.43it/s]\n"
     ]
    },
    {
     "ename": "KeyboardInterrupt",
     "evalue": "",
     "output_type": "error",
     "traceback": [
      "\u001B[0;31m---------------------------------------------------------------------------\u001B[0m",
      "\u001B[0;31mKeyboardInterrupt\u001B[0m                         Traceback (most recent call last)",
      "Cell \u001B[0;32mIn[1], line 6\u001B[0m\n\u001B[1;32m      2\u001B[0m template_groups_file_path \u001B[38;5;241m=\u001B[39m \u001B[38;5;124m'\u001B[39m\u001B[38;5;124m../dags/src/stemmer/data/template_groups_by_len.json\u001B[39m\u001B[38;5;124m'\u001B[39m\n\u001B[1;32m      4\u001B[0m \u001B[38;5;28;01mfrom\u001B[39;00m \u001B[38;5;21;01mdags\u001B[39;00m\u001B[38;5;21;01m.\u001B[39;00m\u001B[38;5;21;01msrc\u001B[39;00m\u001B[38;5;21;01m.\u001B[39;00m\u001B[38;5;21;01mstemmer\u001B[39;00m\u001B[38;5;21;01m.\u001B[39;00m\u001B[38;5;21;01mstore_builder\u001B[39;00m \u001B[38;5;28;01mimport\u001B[39;00m build_trie_stemmer_data\n\u001B[0;32m----> 6\u001B[0m data \u001B[38;5;241m=\u001B[39m \u001B[43mbuild_trie_stemmer_data\u001B[49m\u001B[43m(\u001B[49m\n\u001B[1;32m      7\u001B[0m \u001B[43m    \u001B[49m\u001B[43mwords_file_path\u001B[49m\u001B[38;5;241;43m=\u001B[39;49m\u001B[43mwords_file_path\u001B[49m\u001B[43m,\u001B[49m\n\u001B[1;32m      8\u001B[0m \u001B[43m    \u001B[49m\u001B[43mtemplate_groups_file_path\u001B[49m\u001B[38;5;241;43m=\u001B[39;49m\u001B[43mtemplate_groups_file_path\u001B[49m\u001B[43m,\u001B[49m\n\u001B[1;32m      9\u001B[0m \u001B[43m    \u001B[49m\u001B[43moutput_file_path\u001B[49m\u001B[38;5;241;43m=\u001B[39;49m\u001B[38;5;124;43m'\u001B[39;49m\u001B[38;5;124;43m../dags/src/stemmer/data/store_data.pkl\u001B[39;49m\u001B[38;5;124;43m'\u001B[39;49m\n\u001B[1;32m     10\u001B[0m \u001B[43m)\u001B[49m\n",
      "File \u001B[0;32m~/airflow/dags/src/stemmer/store_builder.py:33\u001B[0m, in \u001B[0;36mbuild_trie_stemmer_data\u001B[0;34m(words_file_path, template_groups_file_path, output_file_path)\u001B[0m\n\u001B[1;32m     32\u001B[0m \u001B[38;5;28;01mdef\u001B[39;00m \u001B[38;5;21mbuild_trie_stemmer_data\u001B[39m(words_file_path, template_groups_file_path, output_file_path):\n\u001B[0;32m---> 33\u001B[0m     word2templates \u001B[38;5;241m=\u001B[39m \u001B[43mcalculate_word2template\u001B[49m\u001B[43m(\u001B[49m\u001B[43mwords_file_path\u001B[49m\u001B[43m,\u001B[49m\u001B[43m \u001B[49m\u001B[43mtemplate_groups_file_path\u001B[49m\u001B[43m)\u001B[49m\n\u001B[1;32m     35\u001B[0m     word_index_map \u001B[38;5;241m=\u001B[39m {}\n\u001B[1;32m     36\u001B[0m     word_id2template_ids \u001B[38;5;241m=\u001B[39m defaultdict(\u001B[38;5;28mlist\u001B[39m)\n",
      "File \u001B[0;32m~/airflow/dags/src/stemmer/store_builder.py:27\u001B[0m, in \u001B[0;36mcalculate_word2template\u001B[0;34m(words_file_path, template_groups_file_path)\u001B[0m\n\u001B[1;32m     25\u001B[0m word2templates \u001B[38;5;241m=\u001B[39m defaultdict(\u001B[38;5;28mlist\u001B[39m)\n\u001B[1;32m     26\u001B[0m \u001B[38;5;28;01mfor\u001B[39;00m word \u001B[38;5;129;01min\u001B[39;00m tqdm(words):\n\u001B[0;32m---> 27\u001B[0m     templates \u001B[38;5;241m=\u001B[39m \u001B[43mstemmer\u001B[49m\u001B[38;5;241;43m.\u001B[39;49m\u001B[43mfind_suitable_templates\u001B[49m\u001B[43m(\u001B[49m\u001B[43mword\u001B[49m\u001B[43m)\u001B[49m\n\u001B[1;32m     28\u001B[0m     word2templates[word]\u001B[38;5;241m.\u001B[39mextend(templates)\n\u001B[1;32m     29\u001B[0m \u001B[38;5;28;01mreturn\u001B[39;00m word2templates\n",
      "File \u001B[0;32m~/airflow/dags/src/stemmer/stemmer.py:21\u001B[0m, in \u001B[0;36mStemmer.find_suitable_templates\u001B[0;34m(self, word)\u001B[0m\n\u001B[1;32m     19\u001B[0m suitable_templates \u001B[38;5;241m=\u001B[39m []\n\u001B[1;32m     20\u001B[0m \u001B[38;5;28;01mfor\u001B[39;00m rule \u001B[38;5;129;01min\u001B[39;00m \u001B[38;5;28mself\u001B[39m\u001B[38;5;241m.\u001B[39mrules:\n\u001B[0;32m---> 21\u001B[0m     suitable_templates\u001B[38;5;241m.\u001B[39mextend(\u001B[43mrule\u001B[49m\u001B[38;5;241;43m.\u001B[39;49m\u001B[43mfind_suitable_templates\u001B[49m\u001B[43m(\u001B[49m\u001B[43mword\u001B[49m\u001B[43m)\u001B[49m)\n\u001B[1;32m     22\u001B[0m \u001B[38;5;28;01mreturn\u001B[39;00m suitable_templates\n",
      "File \u001B[0;32m~/airflow/dags/src/stemmer/rules/base.py:126\u001B[0m, in \u001B[0;36mTemplateGroupRule.find_suitable_templates\u001B[0;34m(self, word)\u001B[0m\n\u001B[1;32m    124\u001B[0m \u001B[38;5;28;01mdef\u001B[39;00m \u001B[38;5;21mfind_suitable_templates\u001B[39m(\u001B[38;5;28mself\u001B[39m, word):\n\u001B[1;32m    125\u001B[0m     suitable_templates \u001B[38;5;241m=\u001B[39m []\n\u001B[0;32m--> 126\u001B[0m \u001B[43m    \u001B[49m\u001B[38;5;28;43;01mfor\u001B[39;49;00m\u001B[43m \u001B[49m\u001B[43mtemplate\u001B[49m\u001B[43m \u001B[49m\u001B[38;5;129;43;01min\u001B[39;49;00m\u001B[43m \u001B[49m\u001B[38;5;28;43mself\u001B[39;49m\u001B[38;5;241;43m.\u001B[39;49m\u001B[43mchoose_template\u001B[49m\u001B[43m(\u001B[49m\u001B[43mword\u001B[49m\u001B[43m)\u001B[49m\u001B[43m:\u001B[49m\n\u001B[1;32m    127\u001B[0m \u001B[43m        \u001B[49m\u001B[38;5;28;43;01mif\u001B[39;49;00m\u001B[43m \u001B[49m\u001B[38;5;129;43;01mnot\u001B[39;49;00m\u001B[43m \u001B[49m\u001B[43mtemplate\u001B[49m\u001B[43m:\u001B[49m\n\u001B[1;32m    128\u001B[0m \u001B[43m            \u001B[49m\u001B[38;5;28;43;01mcontinue\u001B[39;49;00m\n",
      "File \u001B[0;32m~/airflow/dags/src/stemmer/rules/base.py:169\u001B[0m, in \u001B[0;36mTemplateGroupRegexpRule.choose_template\u001B[0;34m(self, word)\u001B[0m\n\u001B[1;32m    167\u001B[0m \u001B[38;5;28;01mdef\u001B[39;00m \u001B[38;5;21mchoose_template\u001B[39m(\u001B[38;5;28mself\u001B[39m, word):\n\u001B[1;32m    168\u001B[0m     \u001B[38;5;28;01mfor\u001B[39;00m template, regexp \u001B[38;5;129;01min\u001B[39;00m \u001B[38;5;28mzip\u001B[39m(\u001B[38;5;28mself\u001B[39m\u001B[38;5;241m.\u001B[39mtemplates, \u001B[38;5;28mself\u001B[39m\u001B[38;5;241m.\u001B[39mregexps):\n\u001B[0;32m--> 169\u001B[0m         \u001B[38;5;28;01mif\u001B[39;00m \u001B[43mregexp\u001B[49m\u001B[38;5;241;43m.\u001B[39;49m\u001B[43mmatch\u001B[49m\u001B[43m(\u001B[49m\u001B[43mword\u001B[49m\u001B[43m)\u001B[49m:\n\u001B[1;32m    170\u001B[0m             \u001B[38;5;28;01myield\u001B[39;00m template\n\u001B[1;32m    171\u001B[0m     \u001B[38;5;28;01mreturn\u001B[39;00m \u001B[38;5;28;01mNone\u001B[39;00m\n",
      "\u001B[0;31mKeyboardInterrupt\u001B[0m: "
     ]
    }
   ],
   "source": [
    "words_file_path = '../data/tesstrain/kbd/configs/kbd.wordlist'\n",
    "template_groups_file_path = '../dags/src/stemmer/data/template_groups_by_len.json'\n",
    "\n",
    "from dags.src.stemmer.store_builder import build_trie_stemmer_data\n",
    "\n",
    "data = build_trie_stemmer_data(\n",
    "    words_file_path=words_file_path,\n",
    "    template_groups_file_path=template_groups_file_path,\n",
    "    output_file_path='../dags/src/stemmer/data/store_data.pkl'\n",
    ")\n"
   ],
   "metadata": {
    "collapsed": false,
    "ExecuteTime": {
     "end_time": "2023-12-03T23:01:14.069669Z",
     "start_time": "2023-12-03T23:01:06.214738Z"
    }
   }
  },
  {
   "cell_type": "code",
   "execution_count": 1,
   "outputs": [
    {
     "name": "stderr",
     "output_type": "stream",
     "text": [
      "100%|██████████| 430057/430057 [00:00<00:00, 3434847.96it/s]\n",
      "100%|██████████| 430057/430057 [00:02<00:00, 148307.69it/s]\n",
      "100%|██████████| 430057/430057 [00:02<00:00, 146852.07it/s]\n"
     ]
    }
   ],
   "source": [
    "from dags.src.stemmer.store import StemmerStore\n",
    "\n",
    "store = StemmerStore()\n",
    "store.load_data_from_file('../dags/src/stemmer/data/store_data.pkl')"
   ],
   "metadata": {
    "collapsed": false,
    "ExecuteTime": {
     "end_time": "2023-12-09T20:54:32.068796Z",
     "start_time": "2023-12-09T20:54:24.267977Z"
    }
   }
  },
  {
   "cell_type": "code",
   "execution_count": 2,
   "outputs": [
    {
     "name": "stderr",
     "output_type": "stream",
     "text": [
      "\u001B[33m\u001B[2mSource path:... \u001B[22m/Users/panagoa/airflow/dags/src/stemmer/store.py\u001B[0m\n",
      "\u001B[32m\u001B[2mStarting var:.. \u001B[22mself = <dags.src.stemmer.store.StemmerStore object at 0x1037e89d0>\u001B[0m\n",
      "\u001B[32m\u001B[2mStarting var:.. \u001B[22mword = 'тхузэфIэкIынут'\u001B[0m\n",
      "\u001B[2m19:11:32.146015 call        51\u001B[0m     def _get_word_id(self, word):\n",
      "\u001B[2m19:11:32.146955 line        52\u001B[0m         word_id = self.data.word2word_id_trie.get(word, None)\n",
      "\u001B[32m\u001B[2mNew var:....... \u001B[22mword_id = [(117580,)]\u001B[0m\n",
      "\u001B[2m19:11:32.147073 line        53\u001B[0m         return word_id[0][0] if word_id else None\n",
      "\u001B[2m19:11:32.147141 return      53\u001B[0m         return word_id[0][0] if word_id else None\n",
      "\u001B[36m\u001B[2mReturn value:.. \u001B[22m117580\u001B[0m\n",
      "\u001B[33m\u001B[2mElapsed time: \u001B[22m00:00:00.001198\u001B[0m\n",
      "\u001B[33m\u001B[2mSource path:... \u001B[22m/Users/panagoa/airflow/dags/src/stemmer/store.py\u001B[0m\n",
      "\u001B[32m\u001B[2mStarting var:.. \u001B[22mself = <dags.src.stemmer.store.StemmerStore object at 0x1037e89d0>\u001B[0m\n",
      "\u001B[32m\u001B[2mStarting var:.. \u001B[22mword_id = 117580\u001B[0m\n",
      "\u001B[2m19:11:32.147210 call        61\u001B[0m     def _get_template_ids(self, word_id):\n",
      "\u001B[2m19:11:32.147234 line        62\u001B[0m         return self.data.word_id2template_ids.get(word_id, [])\n",
      "\u001B[2m19:11:32.147244 return      62\u001B[0m         return self.data.word_id2template_ids.get(word_id, [])\n",
      "\u001B[36m\u001B[2mReturn value:.. \u001B[22m[4323, 2238, 681, 3073, 4, 682, 1760]\u001B[0m\n",
      "\u001B[33m\u001B[2mElapsed time: \u001B[22m00:00:00.000052\u001B[0m\n"
     ]
    },
    {
     "data": {
      "text/plain": "['тхузэ*', '*ынут', '*нут', 'тху*', '***', '*ут', 'т*т']"
     },
     "execution_count": 2,
     "metadata": {},
     "output_type": "execute_result"
    }
   ],
   "source": [
    "store.get_templates('тхузэфIэкIынут')"
   ],
   "metadata": {
    "collapsed": false,
    "ExecuteTime": {
     "end_time": "2023-12-03T16:11:32.152426Z",
     "start_time": "2023-12-03T16:11:32.147708Z"
    }
   }
  },
  {
   "cell_type": "code",
   "execution_count": 3,
   "outputs": [
    {
     "data": {
      "text/plain": "[(117580,)]"
     },
     "execution_count": 3,
     "metadata": {},
     "output_type": "execute_result"
    }
   ],
   "source": [
    "store.data.word2word_id_trie.get('тхузэфIэкIынут')"
   ],
   "metadata": {
    "collapsed": false,
    "ExecuteTime": {
     "end_time": "2023-12-03T16:11:34.142435Z",
     "start_time": "2023-12-03T16:11:34.136702Z"
    }
   }
  },
  {
   "cell_type": "code",
   "execution_count": 9,
   "outputs": [
    {
     "data": {
      "text/plain": "[('тхузэмыгъэзахуэу', (267808,)), ('тхузэмыгъэкIуу', (164769,))]"
     },
     "execution_count": 9,
     "metadata": {},
     "output_type": "execute_result"
    }
   ],
   "source": [
    "store.data.word2word_id_trie.items('тхузэмыгъэ')"
   ],
   "metadata": {
    "collapsed": false,
    "ExecuteTime": {
     "end_time": "2023-12-03T16:20:51.141024Z",
     "start_time": "2023-12-03T16:20:51.139069Z"
    }
   }
  },
  {
   "cell_type": "code",
   "execution_count": 40,
   "outputs": [
    {
     "name": "stderr",
     "output_type": "stream",
     "text": [
      "100%|██████████| 430057/430057 [00:00<00:00, 3553509.39it/s]\n"
     ]
    }
   ],
   "source": [],
   "metadata": {
    "collapsed": false,
    "ExecuteTime": {
     "end_time": "2023-12-03T17:07:32.695589Z",
     "start_time": "2023-12-03T17:07:31.904164Z"
    }
   }
  },
  {
   "cell_type": "code",
   "execution_count": 2,
   "outputs": [
    {
     "data": {
      "text/plain": "[('т', 6469),\n ('тх', 194093),\n ('тху', 5986),\n ('тхузэфIэкI', 27992),\n ('тхузэфIэкIын', 121246),\n ('тхузэфIэкIыну', 22258),\n ('тхузэфIэкIынут', 117580)]"
     },
     "execution_count": 2,
     "metadata": {},
     "output_type": "execute_result"
    }
   ],
   "source": [
    "import ahocorasick\n",
    "\n",
    "list(store.data.word2word_id_dawg.items('тхузэфIэкIынут', '?', ahocorasick.MATCH_AT_MOST_PREFIX))"
   ],
   "metadata": {
    "collapsed": false,
    "ExecuteTime": {
     "end_time": "2023-12-03T17:17:51.242794Z",
     "start_time": "2023-12-03T17:17:51.238744Z"
    }
   }
  },
  {
   "cell_type": "code",
   "execution_count": 7,
   "outputs": [
    {
     "data": {
      "text/plain": "[]"
     },
     "execution_count": 7,
     "metadata": {},
     "output_type": "execute_result"
    }
   ],
   "source": [
    "list(store.data.word2word_id_dawg.items('тхузэфIэкIынут?', '?'))"
   ],
   "metadata": {
    "collapsed": false,
    "ExecuteTime": {
     "end_time": "2023-12-03T17:25:18.936334Z",
     "start_time": "2023-12-03T17:25:18.927999Z"
    }
   }
  },
  {
   "cell_type": "code",
   "execution_count": 19,
   "outputs": [
    {
     "data": {
      "text/plain": "[('хузэфIэкIынут', 36107),\n ('хузэфIэкIынутэкъым', 36478),\n ('хузэфIэкIынутэкъыми', 143430),\n ('щызэфIэкIынутэкъым', 429094),\n ('ХузэфIэкIынутэкъым', 379224)]"
     },
     "execution_count": 19,
     "metadata": {},
     "output_type": "execute_result"
    }
   ],
   "source": [
    "list(store.data.word2word_id_dawg.items('***эфIэкIынут', '*', ahocorasick.MATCH_AT_LEAST_PREFIX))"
   ],
   "metadata": {
    "collapsed": false,
    "ExecuteTime": {
     "end_time": "2023-12-03T18:43:30.448317Z",
     "start_time": "2023-12-03T18:43:30.435584Z"
    }
   }
  },
  {
   "cell_type": "code",
   "execution_count": 3,
   "outputs": [
    {
     "data": {
      "text/plain": "[('фIэкIынутэкъым', 289697),\n ('удукIынут', 187047),\n ('уаукIынут', 265027),\n ('щIэкIынут', 405201),\n ('щIэкIынутэкъым', 100759),\n ('сиукIынут', 167030),\n ('саукIынут', 264834),\n ('стекIынутэкъым', 363987),\n ('ЛъэкIынутэкъым', 352766),\n ('лъэкIынут', 363389),\n ('блэкIынут', 109299),\n ('блэкIынутэкъым', 154417),\n ('къикIынут', 219417),\n ('къикIынутэкъым', 148866),\n ('къэкIынутэкъым', 65538)]"
     },
     "execution_count": 3,
     "metadata": {},
     "output_type": "execute_result"
    }
   ],
   "source": [
    "list(store.find_by_suffix('кIынут', 3, False))"
   ],
   "metadata": {
    "collapsed": false,
    "ExecuteTime": {
     "end_time": "2023-12-03T18:55:34.493545Z",
     "start_time": "2023-12-03T18:55:34.488397Z"
    }
   }
  },
  {
   "cell_type": "code",
   "execution_count": 9,
   "outputs": [
    {
     "data": {
      "text/plain": "13878"
     },
     "execution_count": 9,
     "metadata": {},
     "output_type": "execute_result"
    }
   ],
   "source": [
    "len(store.data.tokenized_index[283])"
   ],
   "metadata": {
    "collapsed": false,
    "ExecuteTime": {
     "end_time": "2023-12-03T22:43:21.076648Z",
     "start_time": "2023-12-03T22:43:21.066387Z"
    }
   }
  },
  {
   "cell_type": "code",
   "execution_count": 14,
   "outputs": [
    {
     "name": "stdout",
     "output_type": "stream",
     "text": [
      "80687\n",
      "8131\n",
      "8131\n",
      "562\n",
      "74\n",
      "23\n",
      "16\n",
      "15\n",
      "14\n"
     ]
    }
   ],
   "source": [
    "encode = store.data.tokenizer.encode('тхузэфIэкIынут')\n",
    "result = {}\n",
    "\n",
    "for step, (token_id, token) in enumerate(sorted(zip(encode.ids, encode.tokens), key=lambda x: x[0])):\n",
    "    if step == 0:\n",
    "        result = store.data.tokenized_index[token_id]\n",
    "    else:\n",
    "        result = result.intersection(store.data.tokenized_index[token_id])\n",
    "    print(len(result))"
   ],
   "metadata": {
    "collapsed": false,
    "ExecuteTime": {
     "end_time": "2023-12-03T22:50:27.071207Z",
     "start_time": "2023-12-03T22:50:27.063884Z"
    }
   }
  },
  {
   "cell_type": "code",
   "execution_count": 3,
   "outputs": [
    {
     "data": {
      "text/plain": "{22258,\n 36107,\n 52771,\n 63459,\n 113820,\n 115912,\n 117580,\n 149888,\n 173035,\n 244790,\n 334052,\n 338394,\n 388323,\n 428007}"
     },
     "execution_count": 3,
     "metadata": {},
     "output_type": "execute_result"
    }
   ],
   "source": [
    "result"
   ],
   "metadata": {
    "collapsed": false,
    "ExecuteTime": {
     "end_time": "2023-12-03T22:48:18.352768Z",
     "start_time": "2023-12-03T22:48:18.315138Z"
    }
   }
  },
  {
   "cell_type": "code",
   "execution_count": 3,
   "outputs": [
    {
     "data": {
      "text/plain": "[('тхузэфIэкIынут', 100),\n ('хузэфIэкIынут', 96),\n ('тхузэфIэкIыну', 96),\n ('тхузэфIэкIынум', 93),\n ('тхузэфIэкIынур', 93),\n ('схузэфIэкIынут', 93),\n ('тхузэфIэкIынури', 90),\n ('тхузэфIэмыкIыну', 90),\n ('тхузэфIэмыкIынур', 87),\n ('тхузэфIэкIынуращи', 84),\n ('тхузэфIэкIынукъым', 84),\n ('ЩIытхузэфIэкIынур', 84),\n ('зэрытхузэфIэкIынум', 81),\n ('зэрытхузэфIэкIынур', 81),\n ('тхузэфIэкIынукъыми', 81),\n ('хузэхъуэкIынут', 79),\n ('тхузэфIэгъэкIынухэм', 79),\n ('зэрытхузэхэгъэкIынур', 65),\n ('тхузэмыгъэкIуу', 64),\n ('хузэщIэту', 61)]"
     },
     "execution_count": 3,
     "metadata": {},
     "output_type": "execute_result"
    }
   ],
   "source": [
    "store.search_in_tokenized_index('тхузэфIэкIынут', 60)"
   ],
   "metadata": {
    "collapsed": false,
    "ExecuteTime": {
     "end_time": "2023-12-03T23:24:03.404072Z",
     "start_time": "2023-12-03T23:24:03.399906Z"
    }
   }
  },
  {
   "cell_type": "code",
   "execution_count": 7,
   "outputs": [
    {
     "data": {
      "text/plain": "0.32192809488736235"
     },
     "execution_count": 7,
     "metadata": {},
     "output_type": "execute_result"
    }
   ],
   "source": [
    "from math import log\n",
    "\n",
    "log(5000 / 4000, 2)"
   ],
   "metadata": {
    "collapsed": false,
    "ExecuteTime": {
     "end_time": "2023-12-03T23:32:16.938775Z",
     "start_time": "2023-12-03T23:32:16.924717Z"
    }
   }
  },
  {
   "cell_type": "code",
   "execution_count": 23,
   "outputs": [],
   "source": [
    "def tokenize(word):\n",
    "    return store.data.tokenizer.encode(word).ids\n",
    "\n",
    "\n",
    "def calculate_token_weight(token_id):\n",
    "    return token_id / store.data.tokenizer.get_vocab_size()\n",
    "\n",
    "\n",
    "def weighted_fuzz_ratio(word1, word2):\n",
    "    tokens1 = tokenize(word1)\n",
    "    tokens2 = tokenize(word2)\n",
    "\n",
    "    score = 0\n",
    "    total_weight = sum(calculate_token_weight(t) for t in tokens1) + sum(calculate_token_weight(t) for t in tokens2)\n",
    "\n",
    "    for token1 in tokens1:\n",
    "        weight1 = calculate_token_weight(token1)\n",
    "        if token1 in tokens2:\n",
    "            weight2 = calculate_token_weight(token1)  # Используйте вес token1, так как он совпадает\n",
    "            score += (weight1 + weight2)\n",
    "\n",
    "    # Нормализация результата\n",
    "    if total_weight == 0:\n",
    "        return 0\n",
    "\n",
    "    penalty = (sum(calculate_token_weight(t) for t in tokens1 if t not in tokens2) +\n",
    "               sum(calculate_token_weight(t) for t in tokens2 if t not in tokens1)) / total_weight\n",
    "    length_difference_penalty = abs(len(tokens1) - len(tokens2)) / max(len(tokens1), len(tokens2))\n",
    "    score = score / total_weight - penalty - length_difference_penalty\n",
    "    return score\n",
    "\n",
    "\n"
   ],
   "metadata": {
    "collapsed": false,
    "ExecuteTime": {
     "end_time": "2023-12-03T23:55:59.301425Z",
     "start_time": "2023-12-03T23:55:59.289049Z"
    }
   }
  },
  {
   "cell_type": "code",
   "execution_count": 24,
   "outputs": [
    {
     "name": "stdout",
     "output_type": "stream",
     "text": [
      "тхузэфIэкIынут 100 1.0\n",
      "хузэфIэкIынут 96 0.895939417678548\n",
      "тхузэфIэкIыну 96 0.895939417678548\n",
      "тхузэфIэкIынум 93 0.9953271028037383\n",
      "тхузэфIэкIынур 93 0.9976608187134502\n",
      "схузэфIэкIынут 93 0.9734257654534951\n",
      "тхузэфIэкIынури 90 0.9872018615474113\n",
      "тхузэфIэмыкIыну 90 -0.2713651268003154\n",
      "тхузэфIэмыкIынур 87 -0.162756052141527\n",
      "тхузэфIэкIынуращи 84 0.5647173489278753\n",
      "тхузэфIэкIынукъым 84 0.9094466182224705\n",
      "ЩIытхузэфIэкIынур 84 0.11091811414392053\n",
      "зэрытхузэфIэкIынум 81 0.6419587776768205\n",
      "зэрытхузэфIэкIынур 81 0.6438795538321602\n",
      "тхузэфIэкIынукъыми 81 0.7956714761376249\n",
      "хузэхъуэкIынут 79 0.38757655293088367\n",
      "тхузэфIэгъэкIынухэм 79 0.7107025938050868\n",
      "зэрытхузэхэгъэкIынур 65 -0.043229497774952275\n",
      "тхузэмыгъэкIуу 64 -0.8138620936048587\n",
      "хузэщIэту 61 -0.47525829255029906\n"
     ]
    }
   ],
   "source": [
    "for r, s in store.search_in_tokenized_index('тхузэфIэкIынут', 60):\n",
    "    print(r, s, weighted_fuzz_ratio('тхузэфIэкIынут', r))"
   ],
   "metadata": {
    "collapsed": false,
    "ExecuteTime": {
     "end_time": "2023-12-03T23:56:00.427742Z",
     "start_time": "2023-12-03T23:56:00.292154Z"
    }
   }
  },
  {
   "cell_type": "code",
   "execution_count": 10,
   "outputs": [
    {
     "name": "stdout",
     "output_type": "stream",
     "text": [
      "зэфIэкIынут\n",
      "\t зэфIэкI* ынут\n",
      "\t зэфIэ* кIынут\n",
      "\t *ынут зэфIэкI\n",
      "\t зэфI* экIынут\n",
      "\t зэ*т фIэкIыну\n",
      "\t *нут зэфIэкIы\n",
      "\t *** зэфIэкIын\n",
      "\t зэ* фIэкIынут\n",
      "\t з*т эфIэкIыну\n",
      "\t *ут зэфIэкIын\n",
      "[('з', 7693), ('зэ', 120), ('зэфI', 292675), ('зэфIэкI', 1363), ('зэфIэкIын', 23081), ('зэфIэкIыну', 19321), ('зэфIэкIынут', 69409)]\n",
      "{'зэфIэкI', 'зэфIэкIын'}\n",
      "хузэфIэкIынут\n",
      "\t хузэфIэ* кIынут\n",
      "\t *ынут хузэфIэкI\n",
      "\t хузэ* фIэкIынут\n",
      "\t *нут хузэфIэкIы\n",
      "\t ху*т зэфIэкIыну\n",
      "\t *** хузэфIэкIын\n",
      "\t ху* зэфIэкIынут\n",
      "\t *ут хузэфIэкIын\n",
      "[('х', 7522), ('ху', 4190), ('хузэфIэкI', 6566), ('хузэфIэкIын', 19127), ('хузэфIэкIыну', 18830), ('хузэфIэкIынут', 36107)]\n",
      "{'хузэфIэкIын', 'хузэфIэкI'}\n",
      "тхузэфIэкIынут\n",
      "\t тхузэ* фIэкIынут\n",
      "\t *ынут тхузэфIэкI\n",
      "\t *нут тхузэфIэкIы\n",
      "\t тху* зэфIэкIынут\n",
      "\t *** тхузэфIэкIын\n",
      "\t *ут тхузэфIэкIын\n",
      "\t т*т хузэфIэкIыну\n",
      "[('т', 6469), ('тх', 194093), ('тху', 5986), ('тхузэфIэкI', 27992), ('тхузэфIэкIын', 121246), ('тхузэфIэкIыну', 22258), ('тхузэфIэкIынут', 117580)]\n",
      "{'тхузэфIэкIын', 'тхузэфIэкI'}\n",
      "схузэфIэкIынут\n",
      "\t схузэ* фIэкIынут\n",
      "\t *ынут схузэфIэкI\n",
      "\t *нут схузэфIэкIы\n",
      "\t сху* зэфIэкIынут\n",
      "\t *** схузэфIэкIын\n",
      "\t с*т хузэфIэкIыну\n",
      "\t *ут схузэфIэкIын\n",
      "[('с', 3107), ('сху', 139981), ('схузэ', 338559), ('схузэфIэкI', 13158), ('схузэфIэкIын', 203733), ('схузэфIэкIыну', 29133), ('схузэфIэкIынут', 334052)]\n",
      "{'схузэфIэкIын', 'схузэфIэкI'}\n",
      "тхузэфIэкIыну\n",
      "\t *кIыну тхузэфIэ\n",
      "\t тхузэ* фIэкIыну\n",
      "\t *ыну тхузэфIэкI\n",
      "\t тху* зэфIэкIыну\n",
      "\t *** тхузэфIэкIы\n",
      "\t **у тхузэфIэкIы\n",
      "\t *ну тхузэфIэкIы\n",
      "\t т*у хузэфIэкIын\n",
      "[('т', 6469), ('тх', 194093), ('тху', 5986), ('тхузэфIэкI', 27992), ('тхузэфIэкIын', 121246), ('тхузэфIэкIыну', 22258)]\n",
      "{'тхузэфIэкI'}\n",
      "тхузэфIэкIынум\n",
      "\t тхузэ* фIэкIынум\n",
      "\t *ынум тхузэфIэкI\n",
      "\t *нум тхузэфIэкIы\n",
      "\t тху* зэфIэкIынум\n",
      "\t *** тхузэфIэкIын\n",
      "\t **м тхузэфIэкIын\n",
      "\t *ум тхузэфIэкIын\n",
      "[('т', 6469), ('тх', 194093), ('тху', 5986), ('тхузэфIэкI', 27992), ('тхузэфIэкIын', 121246), ('тхузэфIэкIыну', 22258), ('тхузэфIэкIынум', 52771)]\n",
      "{'тхузэфIэкIын', 'тхузэфIэкI'}\n",
      "тхузэфIэкIынур\n",
      "\t *кIынур тхузэфIэ\n",
      "\t тхузэ* фIэкIынур\n",
      "\t *ынур тхузэфIэкI\n",
      "\t *нур тхузэфIэкIы\n",
      "\t тху* зэфIэкIынур\n",
      "\t *** тхузэфIэкIын\n",
      "\t **р тхузэфIэкIын\n",
      "\t *ур тхузэфIэкIын\n",
      "\t т*р хузэфIэкIыну\n",
      "[('т', 6469), ('тх', 194093), ('тху', 5986), ('тхузэфIэкI', 27992), ('тхузэфIэкIын', 121246), ('тхузэфIэкIыну', 22258), ('тхузэфIэкIынур', 115912)]\n",
      "{'тхузэфIэкIын', 'тхузэфIэкI'}\n",
      "тхузэфIэкIынури\n",
      "\t *ынури тхузэфIэкI\n",
      "\t тхузэ* фIэкIынури\n",
      "\t *нури тхузэфIэкIы\n",
      "\t *ури тхузэфIэкIын\n",
      "\t тху* зэфIэкIынури\n",
      "\t т*ри хузэфIэкIыну\n",
      "\t *** тхузэфIэкIыну\n",
      "\t *ри тхузэфIэкIыну\n",
      "\t т*и хузэфIэкIынур\n",
      "[('т', 6469), ('тх', 194093), ('тху', 5986), ('тхузэфIэкI', 27992), ('тхузэфIэкIын', 121246), ('тхузэфIэкIыну', 22258), ('тхузэфIэкIынур', 115912), ('тхузэфIэкIынури', 113820)]\n",
      "{'тхузэфIэкIын', 'тхузэфIэкIыну', 'тхузэфIэкI'}\n",
      "хузэхъуэкIынут\n",
      "\t *ынут хузэхъуэкI\n",
      "\t хузэ* хъуэкIынут\n",
      "\t *нут хузэхъуэкIы\n",
      "\t ху*т зэхъуэкIыну\n",
      "\t *** хузэхъуэкIын\n",
      "\t ху* зэхъуэкIынут\n",
      "\t *ут хузэхъуэкIын\n",
      "[('х', 7522), ('ху', 4190), ('хузэхъуэкIынут', 167697)]\n",
      "set()\n",
      "зэтхъуэкIынути\n",
      "\t *ынути зэтхъуэкI\n",
      "\t зэ*ти тхъуэкIыну\n",
      "\t зэ*и тхъуэкIынут\n",
      "\t *ути зэтхъуэкIын\n",
      "\t *** зэтхъуэкIыну\n",
      "\t зэ* тхъуэкIынути\n",
      "\t *ти зэтхъуэкIыну\n",
      "[('з', 7693), ('зэ', 120), ('зэт', 26201), ('зэтхъуэкIын', 63721), ('зэтхъуэкIыну', 117217), ('зэтхъуэкIынути', 249454)]\n",
      "{'зэтхъуэкIын', 'зэтхъуэкIыну'}\n",
      "тхузэфIэкIынуращи\n",
      "\t тхузэ* фIэкIынуращи\n",
      "\t *ращи тхузэфIэкIыну\n",
      "\t *ащи тхузэфIэкIынур\n",
      "\t тху* зэфIэкIынуращи\n",
      "\t *** тхузэфIэкIынура\n",
      "\t *щи тхузэфIэкIынура\n",
      "\t т*и хузэфIэкIынуращ\n",
      "[('т', 6469), ('тх', 194093), ('тху', 5986), ('тхузэфIэкI', 27992), ('тхузэфIэкIын', 121246), ('тхузэфIэкIыну', 22258), ('тхузэфIэкIынур', 115912), ('тхузэфIэкIынуращи', 338394)]\n",
      "{'тхузэфIэкIынур', 'тхузэфIэкIыну'}\n",
      "тхузэфIэкIынукъым\n",
      "\t *кIынукъым тхузэфIэ\n",
      "\t *ынукъым тхузэфIэкI\n",
      "\t *нукъым тхузэфIэкIы\n",
      "\t *укъым тхузэфIэкIын\n",
      "\t т*къым хузэфIэкIыну\n",
      "\t тхузэ* фIэкIынукъым\n",
      "\t *къым тхузэфIэкIыну\n",
      "\t тху* зэфIэкIынукъым\n",
      "\t *** тхузэфIэкIынукъ\n",
      "\t **м тхузэфIэкIынукъ\n",
      "\t *ым тхузэфIэкIынукъ\n",
      "[('т', 6469), ('тх', 194093), ('тху', 5986), ('тхузэфIэкI', 27992), ('тхузэфIэкIын', 121246), ('тхузэфIэкIыну', 22258), ('тхузэфIэкIынукъым', 63459)]\n",
      "{'тхузэфIэкIын', 'тхузэфIэкIыну', 'тхузэфIэкI'}\n",
      "ЩIытхузэфIэкIынур\n",
      "\t *кIынур ЩIытхузэфIэ\n",
      "\t *ынур ЩIытхузэфIэкI\n",
      "\t *нур ЩIытхузэфIэкIы\n",
      "\t ЩIы* тхузэфIэкIынур\n",
      "\t *** ЩIытхузэфIэкIын\n",
      "\t **р ЩIытхузэфIэкIын\n",
      "\t *ур ЩIытхузэфIэкIын\n",
      "[('Щ', 21987), ('ЩIы', 2027), ('ЩIытхузэфIэкIынур', 173035)]\n",
      "set()\n",
      "зэтхъуэкIыну\n",
      "\t *кIыну зэтхъуэ\n",
      "\t зэ*ыну тхъуэкI\n",
      "\t *ыну зэтхъуэкI\n",
      "\t зэ*у тхъуэкIын\n",
      "\t *** зэтхъуэкIы\n",
      "\t **у зэтхъуэкIы\n",
      "\t зэ* тхъуэкIыну\n",
      "\t *ну зэтхъуэкIы\n",
      "\t з*у этхъуэкIын\n",
      "[('з', 7693), ('зэ', 120), ('зэт', 26201), ('зэтхъуэкIын', 63721), ('зэтхъуэкIыну', 117217)]\n",
      "set()\n",
      "зэрытхузэфIэкIынум\n",
      "\t зэры*ынум тхузэфIэкI\n",
      "\t зэры*ум тхузэфIэкIын\n",
      "\t зэры*м тхузэфIэкIыну\n",
      "\t зэрыт* хузэфIэкIынум\n",
      "\t зэры* тхузэфIэкIынум\n",
      "\t *ынум зэрытхузэфIэкI\n",
      "\t зэ*м рытхузэфIэкIыну\n",
      "\t *нум зэрытхузэфIэкIы\n",
      "\t *** зэрытхузэфIэкIын\n",
      "\t **м зэрытхузэфIэкIын\n",
      "\t зэ* рытхузэфIэкIынум\n",
      "\t *ум зэрытхузэфIэкIын\n",
      "[('з', 7693), ('зэ', 120), ('зэр', 54351), ('зэры', 16634), ('зэрыт', 1143), ('зэрытхузэфIэкIынум', 149888)]\n",
      "set()\n",
      "зэрытхузэфIэкIынур\n",
      "\t зэры*ынур тхузэфIэкI\n",
      "\t зэры*нур тхузэфIэкIы\n",
      "\t зэры*ур тхузэфIэкIын\n",
      "\t *кIынур зэрытхузэфIэ\n",
      "\t зэры*р тхузэфIэкIыну\n",
      "\t зэрыт* хузэфIэкIынур\n",
      "\t зэры* тхузэфIэкIынур\n",
      "\t *ынур зэрытхузэфIэкI\n",
      "\t зэ*р рытхузэфIэкIыну\n",
      "\t *нур зэрытхузэфIэкIы\n",
      "\t *** зэрытхузэфIэкIын\n",
      "\t **р зэрытхузэфIэкIын\n",
      "\t зэ* рытхузэфIэкIынур\n",
      "\t *ур зэрытхузэфIэкIын\n",
      "[('з', 7693), ('зэ', 120), ('зэр', 54351), ('зэры', 16634), ('зэрыт', 1143), ('зэрытхузэфIэкIынур', 388323)]\n",
      "set()\n",
      "тхузэфIэкIынукъыми\n",
      "\t *къыми тхузэфIэкIыну\n",
      "\t тхузэ* фIэкIынукъыми\n",
      "\t тху* зэфIэкIынукъыми\n",
      "\t т*ми хузэфIэкIынукъы\n",
      "\t *** тхузэфIэкIынукъы\n",
      "\t *ми тхузэфIэкIынукъы\n",
      "\t т*и хузэфIэкIынукъым\n",
      "[('т', 6469), ('тх', 194093), ('тху', 5986), ('тхузэфIэкI', 27992), ('тхузэфIэкIын', 121246), ('тхузэфIэкIыну', 22258), ('тхузэфIэкIынукъым', 63459), ('тхузэфIэкIынукъыми', 428007)]\n",
      "{'тхузэфIэкIыну'}\n",
      "тхузэфIэгъэкIынухэм\n",
      "\t тхузэ* фIэгъэкIынухэм\n",
      "\t *ухэм тхузэфIэгъэкIын\n",
      "\t т*хэм хузэфIэгъэкIыну\n",
      "\t *хэм тхузэфIэгъэкIыну\n",
      "\t тху* зэфIэгъэкIынухэм\n",
      "\t *** тхузэфIэгъэкIынух\n",
      "\t **м тхузэфIэгъэкIынух\n",
      "\t *эм тхузэфIэгъэкIынух\n",
      "[('т', 6469), ('тх', 194093), ('тху', 5986), ('тхузэфIэгъэкIынухэм', 244790)]\n",
      "set()\n",
      "зэрыфIэтхьынур\n",
      "\t зэры*ынур фIэтхь\n",
      "\t зэры*нур фIэтхьы\n",
      "\t зэрыфIэ* тхьынур\n",
      "\t зэры*ур фIэтхьын\n",
      "\t зэры*р фIэтхьыну\n",
      "\t зэры* фIэтхьынур\n",
      "\t *ынур зэрыфIэтхь\n",
      "\t зэ*р рыфIэтхьыну\n",
      "\t *нур зэрыфIэтхьы\n",
      "\t *** зэрыфIэтхьын\n",
      "\t **р зэрыфIэтхьын\n",
      "\t зэ* рыфIэтхьынур\n",
      "\t *ур зэрыфIэтхьын\n",
      "[('з', 7693), ('зэ', 120), ('зэр', 54351), ('зэры', 16634), ('зэрыфI', 342822), ('зэрыфIэтхьынур', 247695)]\n",
      "set()\n",
      "дызэпэщIигъэкIуэтынут\n",
      "\t дызэ*т пэщIигъэкIуэтыну\n",
      "\t дызэ* пэщIигъэкIуэтынут\n",
      "\t *ынут дызэпэщIигъэкIуэт\n",
      "\t дыз* эпэщIигъэкIуэтынут\n",
      "\t *нут дызэпэщIигъэкIуэты\n",
      "\t ды*т зэпэщIигъэкIуэтыну\n",
      "\t *** дызэпэщIигъэкIуэтын\n",
      "\t ды* зэпэщIигъэкIуэтынут\n",
      "\t *ут дызэпэщIигъэкIуэтын\n",
      "[('д', 14893), ('ды', 15690), ('дызэ', 73368), ('дызэпэщIигъэкIуэтынут', 400312)]\n",
      "set()\n",
      "зэрезгъэхъуэкIынут\n",
      "\t зэре* згъэхъуэкIынут\n",
      "\t *ынут зэрезгъэхъуэкI\n",
      "\t зэ*т резгъэхъуэкIыну\n",
      "\t *нут зэрезгъэхъуэкIы\n",
      "\t *** зэрезгъэхъуэкIын\n",
      "\t зэ* резгъэхъуэкIынут\n",
      "\t з*т эрезгъэхъуэкIыну\n",
      "\t *ут зэрезгъэхъуэкIын\n",
      "[('з', 7693), ('зэ', 120), ('зэр', 54351), ('зэрезгъэхъуэкIынут', 250467)]\n",
      "set()\n",
      "зэрыщIэтынум\n",
      "\t зэры*ынум щIэт\n",
      "\t зэрыщIэ* тынум\n",
      "\t зэрыщI* этынум\n",
      "\t зэры*ум щIэтын\n",
      "\t зэры*м щIэтыну\n",
      "\t зэры* щIэтынум\n",
      "\t *ынум зэрыщIэт\n",
      "\t зэ*м рыщIэтыну\n",
      "\t *нум зэрыщIэты\n",
      "\t *** зэрыщIэтын\n",
      "\t **м зэрыщIэтын\n",
      "\t зэ* рыщIэтынум\n",
      "\t *ум зэрыщIэтын\n",
      "[('з', 7693), ('зэ', 120), ('зэр', 54351), ('зэры', 16634), ('зэрыщ', 101145), ('зэрыщIэ', 73497), ('зэрыщIэт', 99576), ('зэрыщIэтынум', 276866)]\n",
      "{'зэрыщIэт'}\n"
     ]
    }
   ],
   "source": [
    "\n",
    "\n",
    "for r, s in store.search_in_tokenized_index('зэфIэкIынут', 60):\n",
    "    print(r)\n",
    "    for tmpl, stem in zip(store.get_templates(r), store.stem_rule.find_possible_stems(r)):\n",
    "        print('\\t', tmpl, stem)\n",
    "    print(list(store.find_sub_words(r)))\n",
    "    set(store.stem_rule.find_possible_stems(r))\n",
    "    print(\n",
    "        set(store.stem_rule.find_possible_stems(r)).intersection(\n",
    "            set([sw for sw, sw_id in store.find_sub_words(r)])\n",
    "        )\n",
    "    )"
   ],
   "metadata": {
    "collapsed": false,
    "ExecuteTime": {
     "end_time": "2023-12-04T01:54:21.349652Z",
     "start_time": "2023-12-04T01:54:21.339339Z"
    }
   }
  },
  {
   "cell_type": "code",
   "execution_count": 12,
   "outputs": [
    {
     "data": {
      "text/plain": "[('т', 6469),\n ('тх', 194093),\n ('тху', 5986),\n ('тхузэфIэкI', 27992),\n ('тхузэфIэкIын', 121246),\n ('тхузэфIэкIыну', 22258),\n ('тхузэфIэкIынур', 115912),\n ('тхузэфIэкIынуращи', 338394)]"
     },
     "execution_count": 12,
     "metadata": {},
     "output_type": "execute_result"
    }
   ],
   "source": [
    "list(store.find_sub_words('IэгухэмкIэ'))"
   ],
   "metadata": {
    "collapsed": false,
    "ExecuteTime": {
     "end_time": "2023-12-04T02:00:01.425912Z",
     "start_time": "2023-12-04T02:00:01.412008Z"
    }
   }
  },
  {
   "cell_type": "code",
   "execution_count": 1,
   "outputs": [
    {
     "name": "stderr",
     "output_type": "stream",
     "text": [
      "100%|██████████| 430057/430057 [00:00<00:00, 3662643.78it/s]\n",
      "100%|██████████| 430057/430057 [00:02<00:00, 144446.76it/s]\n",
      "100%|██████████| 430057/430057 [00:00<00:00, 1525074.76it/s]\n",
      "100%|██████████| 430057/430057 [00:00<00:00, 1465910.60it/s]\n"
     ]
    }
   ],
   "source": [
    "from dags.src.stemmer.store import StemmerStore\n",
    "\n",
    "store = StemmerStore()\n",
    "store.load_data_from_file('../dags/src/stemmer/data/store_data.pkl')"
   ],
   "metadata": {
    "collapsed": false,
    "ExecuteTime": {
     "end_time": "2023-12-09T22:35:26.576981Z",
     "start_time": "2023-12-09T22:35:19.709364Z"
    }
   }
  },
  {
   "cell_type": "code",
   "execution_count": 10,
   "outputs": [
    {
     "name": "stdout",
     "output_type": "stream",
     "text": [
      "['игъэкIуэд',\n",
      " 'кIуэдыртэ',\n",
      " 'игъэкIуэды',\n",
      " 'гъэкIуэдыр',\n",
      " 'игъэкIуэдыр',\n",
      " 'игъэкIуэдырт',\n",
      " 'гъэкIуэдыртэ',\n",
      " 'игъэкIуэдыртэ',\n",
      " 'кIуэдыртэкъым',\n",
      " 'гъэкIуэдыртэкъ',\n",
      " 'игъэкIуэдыртэкъ',\n",
      " 'игъэкIуэдыртэкъ',\n",
      " 'игъэкIуэдыртэкъ',\n",
      " 'гъэкIуэдыртэкъы']\n",
      "[]\n",
      "[('игъэкIуэдыртэкъым', 100),\n",
      " ('игъэкIуэдыркъым', 94),\n",
      " ('ирагъэкIуэкIытэркъым', 81),\n",
      " ('ирагъэщIэфыртэкъым', 80)]\n",
      "[('и', 1), ('иг', 116747), ('игъэкI', 374779), ('игъэкIуэдыртэкъым', 105313)]\n"
     ]
    }
   ],
   "source": [
    "from pprint import pprint\n",
    "\n",
    "word = 'игъэкIуэдыртэкъым'\n",
    "pprint(store.find_possible_stems(word, exist_only=False))\n",
    "pprint(store.find_possible_stems(word, exist_only=True))\n",
    "pprint(list(store.search_in_tokenized_index(word)))\n",
    "pprint(list(store.find_sub_words(word)))"
   ],
   "metadata": {
    "collapsed": false,
    "ExecuteTime": {
     "end_time": "2023-12-09T22:41:27.983479Z",
     "start_time": "2023-12-09T22:41:27.973048Z"
    }
   }
  },
  {
   "cell_type": "code",
   "execution_count": 11,
   "outputs": [
    {
     "data": {
      "text/plain": "[('игъэкIуэдыркъым', 8)]"
     },
     "execution_count": 11,
     "metadata": {},
     "output_type": "execute_result"
    }
   ],
   "source": [
    "store.calc_stem(word, sw_min_len=4)"
   ],
   "metadata": {
    "collapsed": false,
    "ExecuteTime": {
     "end_time": "2023-12-09T22:41:32.668003Z",
     "start_time": "2023-12-09T22:41:32.662659Z"
    }
   }
  },
  {
   "cell_type": "code",
   "execution_count": 32,
   "outputs": [
    {
     "data": {
      "text/plain": "[('къыщыI', 126),\n ('къытте', 126),\n ('кърихь', 126),\n ('къэсщ', 127),\n ('къуле', 127),\n ('къис', 127),\n ('зэпры', 127),\n ('зыхуигъэ', 127),\n ('зыкъыс', 127),\n ('щызэхуэ', 127),\n ('щыхъу', 127),\n ('шыг', 127),\n ('къыхуигъ', 128),\n ('къыск', 128),\n ('къызэрыте', 128),\n ('къуд', 128),\n ('къакIэ', 128),\n ('къоп', 128),\n ('зэриу', 128),\n ('зыщиг', 128),\n ('зыщигъ', 128),\n ('дыкъызэр', 128),\n ('игъэг', 128),\n ('пфIэ', 128),\n ('ехъу', 128),\n ('жаI', 128),\n ('апхуэ', 128),\n ('Ег', 128),\n ('Шу', 128),\n ('Ре', 128),\n ('щхьэгъ', 128),\n ('узыщ', 128),\n ('уим', 128),\n ('уимы', 128),\n ('упэ', 128),\n ('къызэрык', 129),\n ('къызэфIэ', 129),\n ('къылъы', 129),\n ('зэхэп', 129),\n ('зэкъу', 129),\n ('зыIэр', 129),\n ('ехъ', 129),\n ('Сызэры', 129),\n ('макъ', 129),\n ('нэкIу', 129),\n ('Хъы', 129),\n ('апх', 129),\n ('апху', 129),\n ('Че', 129),\n ('симы', 129),\n ('щыщы', 129),\n ('щIэгъэ', 129),\n ('щIыщ', 129),\n ('узи', 129),\n ('къыхуэз', 130),\n ('къытез', 130),\n ('къыпте', 130),\n ('къыбгъэдэ', 130),\n ('къищI', 130),\n ('къиш', 130),\n ('зэрызэп', 130),\n ('дыкI', 130),\n ('ирегъ', 130),\n ('ефэ', 130),\n ('щыпэ', 130),\n ('щхъу', 130),\n ('щIэпх', 130),\n ('хуэт', 130),\n ('хуэщ', 130),\n ('фызэры', 130),\n ('къыхуиг', 131),\n ('къыхуаг', 131),\n ('къэув', 131),\n ('къари', 131),\n ('зэрыIу', 131),\n ('зэкъ', 131),\n ('зыкIэр', 131),\n ('зо', 131),\n ('дау', 131),\n ('игъэкI', 131),\n ('гупсысэ', 131),\n ('жыпI', 131),\n ('во', 131),\n ('сыкъыд', 131),\n ('хэб', 131),\n ('хил', 131),\n ('теб', 131),\n ('яуб', 131),\n ('кл', 132),\n ('зэрыгу', 132),\n ('зэрыбгъ', 132),\n ('зэхэс', 132),\n ('зыкъых', 132),\n ('игъэт', 132),\n ('псын', 132),\n ('бжьы', 132),\n ('ныбжьэгъу', 132),\n ('лъэщ', 132),\n ('Хьэм', 132),\n ('Пхъ', 132),\n ('щIызэ', 132),\n ('ущи', 132),\n ('хуэхъу', 132),\n ('хэщ', 132),\n ('ябгъ', 132),\n ('къыщIиг', 133),\n ('къыщIигъ', 133),\n ('къысл', 133),\n ('къыслъ', 133),\n ('къуажэ', 133),\n ('къалъы', 133),\n ('къиIу', 133),\n ('зэрыпх', 133),\n ('зауэ', 133),\n ('зиI', 133),\n ('Къэр', 133),\n ('Къуа', 133),\n ('ныбжьэг', 133),\n ('ныбжьэгъ', 133),\n ('жьэд', 133),\n ('Лэ', 133),\n ('Ле', 133),\n ('хуэхъ', 133),\n ('хабз', 133),\n ('къызэIу', 134),\n ('зэщы', 134),\n ('зэпа', 134),\n ('зэзы', 134),\n ('зыхуе', 134),\n ('Къыху', 134),\n ('Къэс', 134),\n ('гр', 134),\n ('ныбжьэ', 134),\n ('жэщ', 134),\n ('Фэ', 134),\n ('семы', 134),\n ('уагъэ', 134),\n ('хагъэ', 134),\n ('къыхэкI', 135),\n ('къэн', 135),\n ('зэгур', 135),\n ('зыкъе', 135),\n ('Игъ', 135),\n ('сыкъых', 135),\n ('щит', 135),\n ('уэрэд', 135),\n ('хъа', 135),\n ('тфI', 135),\n ('цIэ', 135),\n ('къыщыб', 136),\n ('къытхэ', 136),\n ('къэщ', 136),\n ('къезгъ', 136),\n ('къеI', 136),\n ('кр', 136),\n ('дызэп', 136),\n ('дыкъе', 136),\n ('дег', 136),\n ('бд', 136),\n ('лы', 136),\n ('жыз', 136),\n ('Ты', 136),\n ('Жан', 136),\n ('Во', 136),\n ('сахэ', 136),\n ('щын', 136),\n ('тф', 136),\n ('фхуэ', 136),\n ('Iэг', 136),\n ('къызэрагъ', 137),\n ('зэрыбг', 137),\n ('зыхуэз', 137),\n ('дыI', 137),\n ('дел', 137),\n ('ириу', 137),\n ('пэщI', 137),\n ('Уи', 137),\n ('жыI', 137),\n ('Ады', 137),\n ('ягъэк', 137),\n ('IэфI', 137),\n ('4', 137),\n ('къыщигъэ', 138),\n ('къыдэх', 138),\n ('къезг', 138),\n ('зэкIуэ', 138),\n ('пхъу', 138),\n ('пэж', 138),\n ('Кхъ', 138),\n ('еплъы', 138),\n ('еш', 138),\n ('хыфI', 138),\n ('шып', 138),\n ('къыщык', 139),\n ('зэхэу', 139),\n ('зэщхь', 139),\n ('зэзгъэ', 139),\n ('ирил', 139),\n ('Дз', 139),\n ('сызыщ', 139),\n ('щыты', 139),\n ('хыф', 139),\n ('къыщагъ', 140),\n ('къызэраг', 140),\n ('къет', 140),\n ('зэш', 140),\n ('дызэд', 140),\n ('дэмы', 140),\n ('ирег', 140),\n ('пхузэ', 140),\n ('елъ', 140),\n ('гущI', 140),\n ('нэкI', 140),\n ('сыкър', 140),\n ('угъ', 140),\n ('ягъэп', 140),\n ('къыдж', 141),\n ('къыжр', 141),\n ('зыгъэп', 141),\n ('дыгъэ', 141),\n ('при', 141),\n ('пц', 141),\n ('пцI', 141),\n ('Кх', 141),\n ('мин', 141),\n ('бза', 141),\n ('лэжьа', 141),\n ('Нэхъ', 141),\n ('уэрэ', 141),\n ('хьэк', 141),\n ('тегъэ', 141),\n ('фыщы', 141),\n ('фIэк', 141),\n ('къыхэк', 142),\n ('къэф', 142),\n ('зэщх', 142),\n ('игъэщ', 142),\n ('плъэ', 142),\n ('гъэщ', 142),\n ('нэщхъ', 142),\n ('Тр', 142),\n ('сат', 142),\n ('щыхуэ', 142),\n ('щхъ', 142),\n ('уф', 142),\n ('дызэху', 143),\n ('игъэх', 143),\n ('пу', 143),\n ('Къуэ', 143),\n ('ле', 143),\n ('Дыгъ', 143),\n ('ПщI', 143),\n ('сыкIу', 143),\n ('хуагъэ', 143),\n ('Iущ', 143),\n ('къекIуэ', 144),\n ('зэу', 144),\n ('зэпкър', 144),\n ('зыхуигъ', 144),\n ('дызд', 144),\n ('ищIэ', 144),\n ('гъущ', 144),\n ('мыщ', 144),\n ('бын', 144),\n ('нэщх', 144),\n ('нэгъ', 144),\n ('вы', 144),\n ('сыпху', 144),\n ('къыщхьэщ', 145),\n ('къыщаг', 145),\n ('къысхуе', 145),\n ('зэраху', 145),\n ('зэпк', 145),\n ('зэпкъ', 145),\n ('зыхуиг', 145),\n ('дэм', 145),\n ('дак', 145),\n ('илъэс', 145),\n ('егу', 145),\n ('Сызы', 145),\n ('ав', 145),\n ('Ро', 145),\n ('сызыху', 145),\n ('щылъ', 145),\n ('уагъ', 145),\n ('трагъэ', 145),\n ('ткI', 145),\n ('ямыгъ', 145),\n ('яIэщI', 145),\n ('къаIэ', 146),\n ('зэхэт', 146),\n ('бал', 146),\n ('жиIэ', 146),\n ('Ге', 146),\n ('щыбг', 146),\n ('щыбгъ', 146),\n ('хьэлэ', 146),\n ('ямыг', 146),\n ('яIэщ', 146),\n ('Iыхь', 146),\n ('къызыте', 147),\n ('кIуэд', 147),\n ('джэгу', 147),\n ('ирах', 147),\n ('езыгъэ', 147),\n ('мыкI', 147),\n ('лит', 147),\n ('Хьэт', 147),\n ('Щэ', 147),\n ('Ис', 147),\n ('текIу', 147),\n ('къыхэп', 148),\n ('къыды', 148),\n ('зэзг', 148),\n ('зэзгъ', 148),\n ('зыпэ', 148),\n ('игъу', 148),\n ('насып', 148),\n ('ах', 148),\n ('вгъ', 148),\n ('сакъы', 148),\n ('сег', 148),\n ('ув', 148),\n ('яIу', 148),\n ('къыкIэлъы', 149),\n ('къур', 149),\n ('зэхы', 149),\n ('зэда', 149),\n ('би', 149),\n ('насы', 149),\n ('нар', 149),\n ('Ап', 149),\n ('Тэ', 149),\n ('Чэ', 149),\n ('къыщо', 150),\n ('къуаж', 150),\n ('къагу', 150),\n ('зезы', 150),\n ('зегъэ', 150),\n ('джэг', 150),\n ('гуфI', 150),\n ('Сыт', 150),\n ('Дызэр', 150),\n ('вг', 150),\n ('сагъэ', 150),\n ('саху', 150),\n ('сог', 150),\n ('сIэ', 150),\n ('щызэб', 150),\n ('щхьэху', 150),\n ('щхьэг', 150),\n ('щIэзы', 150),\n ('укъыт', 150),\n ('уащ', 150),\n ('ягъэу', 150),\n ('Iэн', 150),\n ('Iых', 150),\n ('къыпк', 151),\n ('къыгуры', 151),\n ('къэв', 151),\n ('къуи', 151),\n ('зызгъэ', 151),\n ('пар', 151),\n ('бгы', 151),\n ('ныс', 151),\n ('щыкI', 151),\n ('къытхуа', 152),\n ('къысхуа', 152),\n ('къызыщ', 152),\n ('кIэщI', 152),\n ('зэрызэр', 152),\n ('бла', 152),\n ('сыщIы', 152),\n ('хаб', 152),\n ('яш', 152),\n ('къыщIэз', 153),\n ('къыдд', 153),\n ('кон', 153),\n ('изы', 153),\n ('мыгъу', 153),\n ('мэл', 153),\n ('мак', 153),\n ('лъагъу', 153),\n ('Бжь', 153),\n ('теплъ', 153),\n ('фызы', 153),\n ('къызэрыдэ', 154),\n ('къызэрыг', 154),\n ('псэл', 154),\n ('псэлъ', 154),\n ('щIэлъ', 154),\n ('укъызэры', 154),\n ('уж', 154),\n ('къыхэз', 155),\n ('къысI', 155),\n ('къыза', 155),\n ('зэрамы', 155),\n ('зыкъри', 155),\n ('Къэб', 155),\n ('нас', 155),\n ('щыхъ', 155),\n ('щIыхь', 155),\n ('уаг', 155),\n ('тепл', 155),\n ('къэра', 156),\n ('дыб', 156),\n ('пщIы', 156),\n ('сызэрых', 156),\n ('сыф', 156),\n ('схузэ', 156),\n ('щыпх', 156),\n ('щIр', 156),\n ('худ', 156),\n ('фр', 156),\n ('къыбж', 157),\n ('зыкъызэ', 157),\n ('зызг', 157),\n ('зызгъ', 157),\n ('зре', 157),\n ('дих', 157),\n ('Пл', 157),\n ('Фыкъ', 157),\n ('сыгу', 157),\n ('щах', 157),\n ('къыщра', 158),\n ('кIэщ', 158),\n ('зегъ', 158),\n ('гупсы', 158),\n ('гупсыс', 158),\n ('гуф', 158),\n ('мыу', 158),\n ('Пху', 158),\n ('Иг', 158),\n ('щIыI', 158),\n ('тхъ', 158),\n ('яхузэ', 158),\n ('фIи', 158),\n ('къыпи', 159),\n ('Ах', 159),\n ('щыгу', 159),\n ('укъэз', 159),\n ('уем', 159),\n ('уемы', 159),\n ('шэр', 159),\n ('къыщIе', 160),\n ('ки', 160),\n ('зэрам', 160),\n ('зег', 160),\n ('Ущы', 160),\n ('жьы', 160),\n ('Пе', 160),\n ('Гуа', 160),\n ('сим', 160),\n ('щызгъ', 160),\n ('хуэзы', 160),\n ('тк', 160),\n ('зыIэщ', 161),\n ('зыIэщI', 161),\n ('дыкъа', 161),\n ('гъун', 161),\n ('Ща', 161),\n ('сем', 161),\n ('щызг', 161),\n ('къалэ', 162),\n ('защ', 162),\n ('дыгъу', 162),\n ('Уд', 162),\n ('Гъуэ', 162),\n ('Фе', 162),\n ('хэд', 162),\n ('трагъ', 162),\n ('ту', 162),\n ('тезы', 162),\n ('къысфI', 163),\n ('ер', 163),\n ('Зыху', 163),\n ('Ду', 163),\n ('Ях', 163),\n ('схуз', 163),\n ('ск', 163),\n ('хьэщ', 163),\n ('къысф', 164),\n ('кърах', 164),\n ('дэт', 164),\n ('Фык', 164),\n ('ЦIыху', 164),\n ('къыпщы', 165),\n ('зэрыра', 165),\n ('зди', 165),\n ('екIуэ', 165),\n ('еI', 165),\n ('Сыщы', 165),\n ('ЦIых', 165),\n ('зэрыгъэ', 166),\n ('зу', 166),\n ('дыхуэ', 166),\n ('дахэ', 166),\n ('бэл', 166),\n ('щиу', 166),\n ('умыгъ', 166),\n ('хагъ', 166),\n ('ящIэ', 166),\n ('Iэф', 166),\n ('зэрыкI', 167),\n ('дызых', 167),\n ('пIэ', 167),\n ('езыг', 167),\n ('езыгъ', 167),\n ('мэк', 167),\n ('Бгъ', 167),\n ('хъуа', 167),\n ('18', 167),\n ('къэпщ', 168),\n ('зытра', 168),\n ('пкъ', 168),\n ('сыIу', 168),\n ('тед', 168),\n ('Зэп', 169),\n ('Уэр', 169),\n ('Дыг', 169),\n ('жыху', 169),\n ('Бз', 169),\n ('Лъа', 169),\n ('щызэт', 169),\n ('хуэгъэ', 169),\n ('хуигъэ', 169),\n ('къыдэз', 170),\n ('зимы', 170),\n ('дам', 170),\n ('Сызэр', 170),\n ('мып', 170),\n ('жып', 170),\n ('Фыз', 170),\n ('сыл', 170),\n ('сагъ', 170),\n ('сеп', 170),\n ('хэпл', 170),\n ('хэплъ', 170),\n ('шу', 170),\n ('Iэры', 170),\n ('зэрын', 171),\n ('пфI', 171),\n ('Узы', 171),\n ('Псэ', 171),\n ('сра', 171),\n ('щыгъу', 171),\n ('тIэ', 171),\n ('къыщигъ', 172),\n ('Кър', 172),\n ('гъуэгу', 172),\n ('жьа', 172),\n ('сыкъыщы', 172),\n ('хуагъ', 172),\n ('якIэ', 172),\n ('къыщиг', 173),\n ('зэтра', 173),\n ('зим', 173),\n ('дэкIу', 173),\n ('джэд', 173),\n ('пф', 173),\n ('бжэ', 173),\n ('Зэхэ', 173),\n ('лъагъ', 173),\n ('Ус', 173),\n ('щIыху', 173),\n ('щау', 173),\n ('хаг', 173),\n ('хе', 173),\n ('тхылъ', 173),\n ('Iэб', 173),\n ('къыщIых', 174),\n ('заху', 174),\n ('пIа', 174),\n ('гуащ', 174),\n ('ап', 174),\n ('тхыл', 174),\n ('тре', 174),\n ('къыум', 175),\n ('къыумы', 175),\n ('къызыху', 175),\n ('къэкIуэ', 175),\n ('къэI', 175),\n ('зыс', 175),\n ('адыгэ', 175),\n ('адэ', 175),\n ('ЛIы', 175),\n ('сакъ', 175),\n ('ирик', 176),\n ('игъэк', 176),\n ('маху', 176),\n ('саг', 176),\n ('Iур', 176),\n ('къыфху', 177),\n ('ежь', 177),\n ('Сыкъэ', 177),\n ('но', 177),\n ('щIэу', 177),\n ('зэрыдэ', 178),\n ('зэмы', 178),\n ('пол', 178),\n ('гъэп', 178),\n ('Хьэж', 178),\n ('щхьэщы', 178),\n ('укъыщI', 178),\n ('фызэр', 178),\n ('къыгур', 179),\n ('къэдгъэ', 179),\n ('пащ', 179),\n ('мыхъу', 179),\n ('нэк', 179),\n ('Мар', 179),\n ('Ил', 179),\n ('щIэл', 179),\n ('щIэх', 179),\n ('хуаг', 179),\n ('тегъ', 179),\n ('къаф', 180),\n ('къад', 180),\n ('зэрыф', 180),\n ('псалъэ', 180),\n ('СыщI', 180),\n ('Ур', 180),\n ('жу', 180),\n ('Ми', 180),\n ('щIагъэ', 180),\n ('Iуп', 180),\n ('къэл', 181),\n ('зэрызи', 181),\n ('зыфIэ', 181),\n ('дыщызэ', 181),\n ('пхы', 181),\n ('хэс', 181),\n ('хъуэ', 181),\n ('тщI', 181),\n ('къызэрыщы', 182),\n ('къыжьэд', 182),\n ('уигъэ', 182),\n ('хуэгъ', 182),\n ('хэгъ', 182),\n ('ябг', 182),\n ('къеж', 183),\n ('зэхуа', 183),\n ('зыха', 183),\n ('пэщ', 183),\n ('Къызэры', 183),\n ('ЩIа', 183),\n ('об', 183),\n ('сыпх', 183),\n ('сынэ', 183),\n ('сащ', 183),\n ('яхуз', 183),\n ('къыкIэр', 184),\n ('къел', 184),\n ('дын', 184),\n ('Къыщы', 184),\n ('Сып', 184),\n ('сыбгъэ', 184),\n ('хур', 184),\n ('хьэд', 184),\n ('фIа', 184),\n ('Iэд', 184),\n ('Iуи', 184),\n ('къызэI', 185),\n ('иIэ', 185),\n ('Ли', 185),\n ('Ра', 185),\n ('зэрылъ', 186),\n ('зэкIу', 186),\n ('дэлъ', 186),\n ('пэры', 186),\n ('нэс', 186),\n ('жр', 186),\n ('чы', 186),\n ('къызэфI', 187),\n ('дыдэ', 187),\n ('дзэ', 187),\n ('игъэп', 187),\n ('Сху', 187),\n ('нэп', 187),\n ('жиI', 187),\n ('Пщы', 187),\n ('Ас', 187),\n ('тригъэ', 187),\n ('Iы', 187),\n ('къакI', 188),\n ('зэбл', 188),\n ('не', 188),\n ('лIэ', 188),\n ('Бл', 188),\n ('умыг', 188),\n ('уэс', 188),\n ('фых', 188),\n ('дыкъи', 189),\n ('дыщIэ', 189),\n ('имыгъэ', 189),\n ('пт', 189),\n ('бзэ', 189),\n ('Зыз', 189),\n ('То', 189),\n ('хущI', 189),\n ('къихь', 190),\n ('дыкъызэ', 190),\n ('дыхэ', 190),\n ('дэг', 190),\n ('цIыкIу', 190),\n ('къыщIэкI', 191),\n ('къыкъуэ', 191),\n ('гукъ', 191),\n ('Фа', 191),\n ('щIэкI', 191),\n ('хуэх', 191),\n ('цIыкI', 191),\n ('ла', 192),\n ('сыно', 192),\n ('сыу', 192),\n ('щIэн', 192),\n ('хигъэ', 192),\n ('траг', 192),\n ('къытт', 193),\n ('дыщыз', 193),\n ('гупс', 193),\n ('лъэпкъ', 193),\n ('сызд', 193),\n ('щIэгъ', 193),\n ('щIо', 193),\n ('тIы', 193),\n ('цIык', 193),\n ('къыхуе', 194),\n ('къыв', 194),\n ('зэлъ', 194),\n ('пхуз', 194),\n ('мыхъ', 194),\n ('Бы', 194),\n ('укъа', 194),\n ('хэх', 194),\n ('къахуи', 195),\n ('гъа', 195),\n ('нэмы', 195),\n ('лъэпк', 195),\n ('Жь', 195),\n ('хэзы', 195),\n ('къыкIэл', 196),\n ('къыкIэлъ', 196),\n ('зэпр', 196),\n ('дэс', 196),\n ('гук', 196),\n ('анэ', 196),\n ('щхьэп', 196),\n ('узых', 196),\n ('якI', 196),\n ('къыщIэк', 197),\n ('къысщы', 197),\n ('къызди', 197),\n ('дыхьэ', 197),\n ('гъуэг', 197),\n ('Зыщ', 197),\n ('уигъ', 197),\n ('Су', 198),\n ('Мо', 198),\n ('Нэх', 198),\n ('Ша', 198),\n ('Къэз', 199),\n ('Узэ', 199),\n ('укъыс', 199),\n ('къекIу', 200),\n ('зэрыу', 200),\n ('зыхуа', 200),\n ('дагъэ', 200),\n ('едгъэ', 200),\n ('Умы', 200),\n ('щыIэ', 200),\n ('хэлъ', 200),\n ('лъап', 201),\n ('Ла', 201),\n ('сыбгъ', 201),\n ('щызэп', 201),\n ('фху', 201),\n ('зэпи', 202),\n ('зэгуэ', 202),\n ('зыкIэ', 202),\n ('ирихь', 202),\n ('плъы', 202),\n ('мык', 202),\n ('къызэрыр', 203),\n ('зыщIи', 203),\n ('зыкъэ', 203),\n ('щызэху', 203),\n ('щIалэ', 203),\n ('ядэ', 203),\n ('къызэщIэ', 204),\n ('загъэ', 204),\n ('уиг', 204),\n ('уэз', 204),\n ('япэ', 204),\n ('къыпхуи', 205),\n ('кIа', 205),\n ('ихь', 205),\n ('пщэ', 205),\n ('Сх', 205),\n ('Ух', 205),\n ('хэг', 205),\n ('къыфх', 206),\n ('Къо', 206),\n ('еплъ', 206),\n ('къызэд', 207),\n ('къыдэкI', 207),\n ('къиI', 207),\n ('нэг', 207),\n ('укъе', 207),\n ('хуигъ', 207),\n ('къызэригъэ', 208),\n ('къызыт', 208),\n ('къыпт', 208),\n ('зэгъэ', 208),\n ('зыща', 208),\n ('хуиг', 208),\n ('къысте', 209),\n ('къэхъу', 209),\n ('Сын', 209),\n ('Ме', 209),\n ('Пр', 209),\n ('щIигъэ', 209),\n ('къыщхьэ', 210),\n ('къэбгъэ', 210),\n ('куэ', 210),\n ('зэрих', 210),\n ('Къысху', 210),\n ('укъызэр', 210),\n ('яж', 210),\n ('къыщх', 211),\n ('къыщхь', 211),\n ('зэтри', 211),\n ('сыбг', 211),\n ('къысп', 212),\n ('къыдо', 212),\n ('къезы', 212),\n ('КъыщI', 212),\n ('щIэб', 212),\n ('тес', 212),\n ('къиз', 213),\n ('едгъ', 213),\n ('ещ', 213),\n ('му', 213),\n ('сп', 213),\n ('тригъ', 213),\n ('едг', 214),\n ('Жэ', 214),\n ('къыщыху', 215),\n ('къэр', 215),\n ('зрагъэ', 215),\n ('загъ', 215),\n ('гъуа', 215),\n ('Ст', 215),\n ('Уе', 215),\n ('жых', 215),\n ('хьэр', 215),\n ('триг', 215),\n ('къытхуи', 216),\n ('къыIэщI', 216),\n ('зыбгъэ', 216),\n ('ни', 216),\n ('Зе', 216),\n ('къызэф', 217),\n ('къыIэщ', 217),\n ('иш', 217),\n ('иб', 217),\n ('сыкъыщI', 217),\n ('сыны', 217),\n ('щIэд', 217),\n ('уо', 217),\n ('телъ', 217),\n ('къыдэк', 218),\n ('джа', 218),\n ('нап', 218),\n ('Ун', 218),\n ('сызых', 218),\n ('къыфIэ', 219),\n ('дыхь', 219),\n ('ЦIы', 219),\n ('дэл', 220),\n ('Бг', 220),\n ('уI', 220),\n ('хигъ', 220),\n ('къыбгъэ', 221),\n ('къыбгъэд', 221),\n ('зэхэз', 221),\n ('зэщIи', 221),\n ('ирим', 221),\n ('иримы', 221),\n ('ебгъэ', 221),\n ('щыхэ', 221),\n ('щыте', 221),\n ('ша', 221),\n ('зиу', 222),\n ('Джэ', 222),\n ('ак', 222),\n ('щри', 222),\n ('тэ', 222),\n ('къызэрыщI', 223),\n ('къаб', 223),\n ('слъ', 223),\n ('къызэт', 224),\n ('КIэ', 224),\n ('епл', 224),\n ('щхьэх', 224),\n ('щIэмы', 224),\n ('хуэс', 224),\n ('къытех', 225),\n ('къыздэ', 225),\n ('зэрыж', 225),\n ('итх', 225),\n ('КIу', 225),\n ('ныбжь', 225),\n ('Бо', 225),\n ('сыI', 225),\n ('къызэрызэ', 226),\n ('Къысх', 226),\n ('адыг', 226),\n ('Iуа', 226),\n ('къеб', 227),\n ('зды', 227),\n ('дэз', 227),\n ('игъэу', 227),\n ('Сыкъы', 227),\n ('мыгъ', 227),\n ('нэм', 227),\n ('сак', 227),\n ('къак', 228),\n ('къегъэ', 228),\n ('губ', 228),\n ('ады', 228),\n ('сыкъызэр', 228),\n ('щра', 228),\n ('хиг', 228),\n ('къэдгъ', 229),\n ('зэрыри', 229),\n ('хуэп', 229),\n ('шын', 229),\n ('Iэм', 229),\n ('мыл', 230),\n ('къэкIу', 231),\n ('зыдэ', 231),\n ('зымы', 231),\n ('зрагъ', 231),\n ('пщIэ', 231),\n ('мах', 231),\n ('саб', 231),\n ('щыж', 231),\n ('щыщIэ', 231),\n ('къызи', 232),\n ('имыгъ', 232),\n ('бе', 232),\n ('хэмы', 232),\n ('ро', 232),\n ('бо', 233),\n ('Гъэ', 233),\n ('щIэм', 233),\n ('ул', 233),\n ('зэл', 234),\n ('заг', 234),\n ('имыг', 234),\n ('Дыщ', 234),\n ('тхьэм', 234),\n ('бу', 235),\n ('щIэк', 235),\n ('щIыз', 235),\n ('хуэг', 235),\n ('къызэригъ', 236),\n ('кърих', 236),\n ('къамы', 236),\n ('зраг', 236),\n ('дэп', 236),\n ('хэм', 236),\n ('зэбгр', 237),\n ('гущ', 237),\n ('бгъэдэ', 237),\n ('Ум', 237),\n ('щызэхэ', 237),\n ('темы', 237),\n ('текI', 237),\n ('къэхъ', 238),\n ('къеу', 238),\n ('зыкI', 238),\n ('сыкъа', 238),\n ('къэдг', 239),\n ('Псы', 239),\n ('Пэ', 239),\n ('сыкъе', 239),\n ('яри', 239),\n ('ел', 240),\n ('щIэс', 240),\n ('IэщIэ', 240),\n ('зэрыщIэ', 241),\n ('псал', 241),\n ('псалъ', 241),\n ('едж', 241),\n ('Зыкъ', 241),\n ('къыкъу', 242),\n ('зэбгъэ', 242),\n ('зытри', 242),\n ...]"
     },
     "execution_count": 32,
     "metadata": {},
     "output_type": "execute_result"
    }
   ],
   "source": [
    "sorted(store.data.prefixes.items(), key=lambda x: x[1])"
   ],
   "metadata": {
    "collapsed": false,
    "ExecuteTime": {
     "end_time": "2023-12-09T22:34:32.892501Z",
     "start_time": "2023-12-09T22:34:32.889504Z"
    }
   }
  },
  {
   "cell_type": "code",
   "execution_count": null,
   "outputs": [],
   "source": [],
   "metadata": {
    "collapsed": false
   }
  }
 ],
 "metadata": {
  "kernelspec": {
   "display_name": "Python 3",
   "language": "python",
   "name": "python3"
  },
  "language_info": {
   "codemirror_mode": {
    "name": "ipython",
    "version": 2
   },
   "file_extension": ".py",
   "mimetype": "text/x-python",
   "name": "python",
   "nbconvert_exporter": "python",
   "pygments_lexer": "ipython2",
   "version": "2.7.6"
  }
 },
 "nbformat": 4,
 "nbformat_minor": 0
}
