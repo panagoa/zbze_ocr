{
 "cells": [
  {
   "cell_type": "code",
   "execution_count": 52,
   "outputs": [],
   "source": [
    "from dags.src.text_cleaner import clean_text\n",
    "import os\n",
    "import re\n",
    "\n",
    "input_dir = os.path.join(\"..\", \"data/tesstrain/kbd/data/input\")\n",
    "output_dir = os.path.join(\"..\", \"data/tesstrain/kbd/data/output\")\n",
    "\n",
    "file_path = os.path.join(input_dir, \"oshamaho.txt\")\n",
    "f_name = os.path.basename(file_path)\n",
    "\n",
    "lines = []\n",
    "with open(file_path, \"r\", encoding=\"utf-8\") as f:\n",
    "    _lines = f.readlines()\n",
    "    lines.extend(_lines)\n",
    "\n",
    "lines = [line.strip() for line in set(lines) if len(line.strip()) > 20]\n",
    "lines = [clean_text(line) for line in lines]"
   ],
   "metadata": {
    "collapsed": false,
    "ExecuteTime": {
     "end_time": "2023-11-06T04:08:16.006430Z",
     "start_time": "2023-11-06T04:08:05.650644Z"
    }
   },
   "id": "1659702ee0c328d3"
  },
  {
   "cell_type": "code",
   "execution_count": 53,
   "outputs": [],
   "source": [
    "with open(os.path.join(\"..\", \"data/tesstrain/kbd/configs/kbd.wordlist\"), \"r\", encoding=\"utf-8\") as f:\n",
    "    existing_words = set(f.read().split(\"\\n\"))"
   ],
   "metadata": {
    "collapsed": false,
    "ExecuteTime": {
     "end_time": "2023-11-06T04:08:27.270446Z",
     "start_time": "2023-11-06T04:08:27.000104Z"
    }
   },
   "id": "1221636c05ec6199"
  },
  {
   "cell_type": "code",
   "execution_count": 54,
   "outputs": [],
   "source": [
    "from pprint import pprint\n",
    "from collections import defaultdict\n",
    "import random\n",
    "import pandas as pd\n",
    "from itertools import chain\n",
    "import csv\n",
    "\n",
    "\n",
    "def get_words_from_diff(pdf_dir, filter_prefix=None):\n",
    "    interesting_words = set()\n",
    "\n",
    "    cmpr_dirs = [d for d in os.listdir(pdf_dir) if d.startswith(\"cmpr_\")]\n",
    "    if filter_prefix:\n",
    "        cmpr_dirs = [d for d in cmpr_dirs if d.startswith(filter_prefix)]\n",
    "\n",
    "    diff_counts = defaultdict(int)\n",
    "    for cmpr_dir in cmpr_dirs:\n",
    "        df = pd.read_csv(os.path.join(pdf_dir, cmpr_dir, \"diff_words.csv\"))\n",
    "\n",
    "        for col in df.columns:\n",
    "            col_values = set(df[col].dropna().values)\n",
    "            diff_counts[cmpr_dir] = len(col_values)\n",
    "            uniq_words = set(chain.from_iterable([col_value.split(\" \") for col_value in col_values]))\n",
    "            interesting_words.update(uniq_words)\n",
    "\n",
    "    pprint(sorted(diff_counts.items(), key=lambda x: x[1], reverse=True))\n",
    "    return interesting_words\n",
    "\n",
    "\n",
    "def get_words_with_low_confidence(pdf_dir, prefix=\"filtered_0_30\"):\n",
    "    interesting_words = set()\n",
    "\n",
    "    cmpr_dirs = [d for d in os.listdir(pdf_dir) if d.startswith(\"cmpr_\")]\n",
    "    for cmpr_dir in cmpr_dirs:\n",
    "        for low_conf_csv in os.listdir(os.path.join(pdf_dir, cmpr_dir)):\n",
    "            if low_conf_csv.startswith(prefix):\n",
    "                df = pd.read_csv(\n",
    "                    os.path.join(pdf_dir, cmpr_dir, low_conf_csv),\n",
    "                    sep=\"\\t\",\n",
    "                    quoting=csv.QUOTE_NONE,\n",
    "                    encoding=\"utf-8\",\n",
    "                )\n",
    "                col_values = set(df[\"text\"].dropna().values)\n",
    "                interesting_words.update(col_values)\n",
    "\n",
    "    return interesting_words\n",
    "\n",
    "\n",
    "def filter_words(words):\n",
    "    return [word for word in words if len(word) > 2 and word in existing_words]"
   ],
   "metadata": {
    "collapsed": false,
    "ExecuteTime": {
     "end_time": "2023-11-06T04:08:32.255069Z",
     "start_time": "2023-11-06T04:08:32.230602Z"
    }
   },
   "id": "cb0f3eeecdd2e771"
  },
  {
   "cell_type": "code",
   "execution_count": 68,
   "outputs": [
    {
     "name": "stdout",
     "output_type": "stream",
     "text": [
      "[('cmpr_kbd_0.009_4360_66700_vs_confidence_filtered_0_60_lines_dysche_zhyg_0.023_1530_15000',\n",
      "  2104),\n",
      " ('cmpr_kbd_0.009_4360_66700_vs_ng_lines_1000_5_oshamaho_0.049_2738_19500',\n",
      "  2072),\n",
      " ('cmpr_kbd_0.009_4360_66700_vs_kbd_font_helvetica_0.010_1975_12100', 2024),\n",
      " ('cmpr_kbd_0.009_4360_66700_vs_ng_lines_1000_4_oshamaho_0.094_2811_17600',\n",
      "  1935),\n",
      " ('cmpr_kbd_0.009_4360_66700_vs_40k_char_ngrams_2_40k_0.028_2149_16400', 1872),\n",
      " ('cmpr_kbd_0.009_4360_66700_vs_40k_char_ngrams_3_40k_0.018_2113_17300', 1825),\n",
      " ('cmpr_kbd_0.009_4360_66700_vs_low_confidence_lines_dysche_zhyg_0.010_1539_19100',\n",
      "  1820),\n",
      " ('cmpr_kbd_0.009_4360_66700_vs_bigrams_freq_1_5000_hight_adyghepsale_ru_0.005_313_12400',\n",
      "  1763),\n",
      " ('cmpr_kbd_0.009_4360_66700_vs_bigrams_freq_1_5000_adyghepsale_ru_0.009_127_8000',\n",
      "  1668),\n",
      " ('cmpr_kbd_0.009_4360_66700_vs_interest_word_lines_dysche_zhyg_0.005_1472_14400',\n",
      "  1660),\n",
      " ('cmpr_kbd_0.009_4360_66700_vs_bigrams_freq_5000_all_book_0.010_1140_5900',\n",
      "  1647),\n",
      " ('cmpr_kbd_0.009_4360_66700_vs_kbd_ng_0_0.010_2358_16000', 1541),\n",
      " ('cmpr_kbd_0.009_4360_66700_vs_kbd_font_geneva_0.010_1746_11600', 1517),\n",
      " ('cmpr_kbd_0.009_4360_66700_vs_kbd_font_georgia_0.052_1946_16900', 1487),\n",
      " ('cmpr_kbd_0.009_4360_66700_vs_bigrams_freq_5000_oshamaho_0.004_1139_5000',\n",
      "  1453),\n",
      " ('cmpr_kbd_0.009_4360_66700_vs_40k_char_ngrams_0_40k_0.015_2176_19500', 1445),\n",
      " ('cmpr_kbd_0.009_4360_66700_vs_ng_lines_1000_2_oshamaho_0.117_2942_18300',\n",
      "  1369),\n",
      " ('cmpr_kbd_0.009_4360_66700_vs_kbd_ng_3_0.006_2458_17300', 1363),\n",
      " ('cmpr_kbd_0.009_4360_66700_vs_ng_lines_1000_1_oshamaho_0.039_2633_20000',\n",
      "  1330),\n",
      " ('cmpr_kbd_0.009_4360_66700_vs_ng_lines_1000_3_oshamaho_0.089_2946_19900',\n",
      "  1244),\n",
      " ('cmpr_kbd_0.009_4360_66700_vs_ng_lines_1000_21_oshamaho_0.000_0_100', 1183),\n",
      " ('cmpr_kbd_0.009_4360_66700_vs_40k_char_ngrams_1_40k_0.015_2089_15200', 1162),\n",
      " ('cmpr_kbd_0.009_4360_66700_vs_kbd_ng_4_0.010_2474_16100', 1129),\n",
      " ('cmpr_kbd_0.009_4360_66700_vs_bigrams_freq_5000_adyghepsale_ru_0.010_1155_8200',\n",
      "  1020),\n",
      " ('cmpr_kbd_0.009_4360_66700_vs_kbd_ng_2_0.014_2515_16600', 942),\n",
      " ('cmpr_kbd_0.009_4360_66700_vs_ng_lines_1000_11_oshamaho_0.000_0_100', 872),\n",
      " ('cmpr_kbd_0.009_4360_66700_vs_kbd_ng_1_0.007_2348_18300', 794),\n",
      " ('cmpr_kbd_0.009_4360_66700_vs_kbd_ng_5_0.009_2337_15500', 779),\n",
      " ('cmpr_kbd_0.229_2995_10800_vs_kbd_0.009_4360_66700', 337),\n",
      " ('cmpr_kbd_0.009_4360_66700_vs_kbd_ng_0.097_1738_38300', 331),\n",
      " ('cmpr_kbd_0.229_2995_10800_vs_kbd_ng_0.185_228_3700', 307)]\n",
      "29843\n",
      "6350\n"
     ]
    }
   ],
   "source": [
    "pdf_dir = os.path.join(\"..\", \"data/dag_results/pdf_processing/dysche_zhyg.pdf\")\n",
    "pdf_name = os.path.basename(pdf_dir).split(\".\")[0]\n",
    "\n",
    "filter_prefix = None\n",
    "interesting_words = get_words_from_diff(pdf_dir, filter_prefix=filter_prefix)\n",
    "print(len(interesting_words))\n",
    "filtered_words = filter_words(interesting_words)\n",
    "print(len(filtered_words))\n",
    "\n",
    "filter_prefix = filter_prefix or \"\"\n",
    "\n",
    "with open(os.path.join(output_dir, f\"interesting_words_{filter_prefix}_{pdf_name}.txt\"), \"w\", encoding=\"utf-8\") as f:\n",
    "    f.write(\"\\n\".join(sorted(filtered_words)))"
   ],
   "metadata": {
    "collapsed": false,
    "ExecuteTime": {
     "end_time": "2023-11-06T04:16:12.760679Z",
     "start_time": "2023-11-06T04:16:12.379734Z"
    }
   },
   "id": "a274ca240c35870a"
  },
  {
   "cell_type": "code",
   "execution_count": 69,
   "outputs": [],
   "source": [
    "def create_lines(words, word_count_for_line=5):\n",
    "    _words = words.copy()\n",
    "    limit = len(_words) // word_count_for_line\n",
    "\n",
    "    lines = []\n",
    "    for _ in range(limit):\n",
    "        line_words = []\n",
    "        for _ in range(word_count_for_line):\n",
    "            if len(_words) == 0:\n",
    "                break\n",
    "\n",
    "            rnd_word = random.choice(_words)\n",
    "            _words.remove(rnd_word)\n",
    "            line_words.append(rnd_word)\n",
    "\n",
    "        lines.append(\" \".join(line_words))\n",
    "\n",
    "    return lines"
   ],
   "metadata": {
    "collapsed": false,
    "ExecuteTime": {
     "end_time": "2023-11-06T04:16:14.556418Z",
     "start_time": "2023-11-06T04:16:14.067345Z"
    }
   },
   "id": "80f5d1ee074d69c4"
  },
  {
   "cell_type": "code",
   "execution_count": 70,
   "outputs": [
    {
     "name": "stdout",
     "output_type": "stream",
     "text": [
      "6350\n"
     ]
    }
   ],
   "source": [
    "lines = []\n",
    "for _ in range(5):\n",
    "    lines.extend(create_lines(filtered_words))\n",
    "\n",
    "print(len(lines))\n",
    "with open(os.path.join(output_dir, f\"interest_word_lines_{filter_prefix}_{pdf_name}.txt\"), \"w\", encoding=\"utf-8\") as f:\n",
    "    f.write(\"\\n\".join(sorted(lines)))"
   ],
   "metadata": {
    "collapsed": false,
    "ExecuteTime": {
     "end_time": "2023-11-06T04:16:17.719239Z",
     "start_time": "2023-11-06T04:16:15.605948Z"
    }
   },
   "id": "c0d6786e94ad1358"
  },
  {
   "cell_type": "code",
   "execution_count": 50,
   "outputs": [],
   "source": [
    "pdf_dir = os.path.join(\"..\", \"data/dag_results/pdf_processing/dysche_zhyg.pdf\")\n",
    "prefix = \"filtered_0_60\"\n",
    "words = get_words_with_low_confidence(pdf_dir, prefix=prefix)\n",
    "filtered_words = filter_words(words)\n",
    "lines = create_lines(filtered_words)\n",
    "with open(os.path.join(output_dir, f\"confidence_{prefix}_lines_{pdf_name}.txt\"), \"w\", encoding=\"utf-8\") as f:\n",
    "    f.write(\"\\n\".join(sorted(lines)))"
   ],
   "metadata": {
    "collapsed": false,
    "ExecuteTime": {
     "end_time": "2023-11-06T03:01:41.838577Z",
     "start_time": "2023-11-06T03:01:41.421967Z"
    }
   },
   "id": "788a7029c20dce06"
  },
  {
   "cell_type": "code",
   "execution_count": 71,
   "outputs": [
    {
     "name": "stdout",
     "output_type": "stream",
     "text": [
      "[('cmpr_kbd_0.009_4360_66700_vs_40k_char_ngrams_1_40k_TNR_0.041_315_8400',\n",
      "  2765),\n",
      " ('cmpr_kbd_0.009_4360_66700_vs_confidence_filtered_0_60_lines_dysche_zhyg_0.023_1530_15000',\n",
      "  2104),\n",
      " ('cmpr_kbd_0.009_4360_66700_vs_ng_lines_1000_5_oshamaho_0.049_2738_19500',\n",
      "  2072),\n",
      " ('cmpr_kbd_0.009_4360_66700_vs_kbd_font_helvetica_0.010_1975_12100', 2024),\n",
      " ('cmpr_kbd_0.009_4360_66700_vs_ng_lines_1000_4_oshamaho_0.094_2811_17600',\n",
      "  1935),\n",
      " ('cmpr_kbd_0.009_4360_66700_vs_40k_char_ngrams_2_40k_0.028_2149_16400', 1872),\n",
      " ('cmpr_kbd_0.009_4360_66700_vs_40k_char_ngrams_3_40k_0.018_2113_17300', 1825),\n",
      " ('cmpr_kbd_0.009_4360_66700_vs_low_confidence_lines_dysche_zhyg_0.010_1539_19100',\n",
      "  1820),\n",
      " ('cmpr_kbd_0.009_4360_66700_vs_bigrams_freq_1_5000_hight_adyghepsale_ru_0.005_313_12400',\n",
      "  1763),\n",
      " ('cmpr_kbd_0.009_4360_66700_vs_40k_char_ngrams_23_40k_0.011_139_9300', 1742),\n",
      " ('cmpr_kbd_0.009_4360_66700_vs_bigrams_freq_1_5000_adyghepsale_ru_0.009_127_8000',\n",
      "  1668),\n",
      " ('cmpr_kbd_0.009_4360_66700_vs_interest_word_lines_dysche_zhyg_0.005_1472_14400',\n",
      "  1660),\n",
      " ('cmpr_kbd_0.009_4360_66700_vs_bigrams_freq_5000_all_book_0.010_1140_5900',\n",
      "  1647),\n",
      " ('cmpr_kbd_0.009_4360_66700_vs_40k_char_ngrams_32_40k_0.014_58_3100', 1647),\n",
      " ('cmpr_kbd_0.009_4360_66700_vs_kbd_ng_0_0.010_2358_16000', 1541),\n",
      " ('cmpr_kbd_0.009_4360_66700_vs_kbd_font_geneva_0.010_1746_11600', 1517),\n",
      " ('cmpr_kbd_0.009_4360_66700_vs_kbd_font_georgia_0.052_1946_16900', 1487),\n",
      " ('cmpr_kbd_0.009_4360_66700_vs_bigrams_freq_5000_oshamaho_0.004_1139_5000',\n",
      "  1453),\n",
      " ('cmpr_kbd_0.009_4360_66700_vs_40k_char_ngrams_0_40k_0.015_2176_19500', 1445),\n",
      " ('cmpr_kbd_0.009_4360_66700_vs_ng_lines_1000_2_oshamaho_0.117_2942_18300',\n",
      "  1369),\n",
      " ('cmpr_kbd_0.009_4360_66700_vs_kbd_ng_3_0.006_2458_17300', 1363),\n",
      " ('cmpr_kbd_0.009_4360_66700_vs_ng_lines_1000_1_oshamaho_0.039_2633_20000',\n",
      "  1330),\n",
      " ('cmpr_kbd_0.009_4360_66700_vs_ng_lines_1000_3_oshamaho_0.089_2946_19900',\n",
      "  1244),\n",
      " ('cmpr_kbd_0.009_4360_66700_vs_ng_lines_1000_21_oshamaho_0.000_0_100', 1183),\n",
      " ('cmpr_kbd_0.009_4360_66700_vs_40k_char_ngrams_1_40k_0.015_2089_15200', 1162),\n",
      " ('cmpr_kbd_0.009_4360_66700_vs_kbd_ng_4_0.010_2474_16100', 1129),\n",
      " ('cmpr_kbd_0.009_4360_66700_vs_40k_char_ngrams_0_40k_bg_5k_oshamaho_0.004_19_2500',\n",
      "  1091),\n",
      " ('cmpr_kbd_0.009_4360_66700_vs_bigrams_freq_5000_adyghepsale_ru_0.010_1155_8200',\n",
      "  1020),\n",
      " ('cmpr_kbd_0.009_4360_66700_vs_kbd_ng_2_0.014_2515_16600', 942),\n",
      " ('cmpr_kbd_0.009_4360_66700_vs_ng_lines_1000_11_oshamaho_0.000_0_100', 872),\n",
      " ('cmpr_kbd_0.009_4360_66700_vs_kbd_ng_1_0.007_2348_18300', 794),\n",
      " ('cmpr_kbd_0.009_4360_66700_vs_kbd_ng_5_0.009_2337_15500', 779),\n",
      " ('cmpr_kbd_0.009_4360_66700_vs_best_plus_bg_5k_oshamaho_0.004_56_3600', 660),\n",
      " ('cmpr_kbd_0.229_2995_10800_vs_kbd_0.009_4360_66700', 337),\n",
      " ('cmpr_kbd_0.009_4360_66700_vs_kbd_ng_0.097_1738_38300', 331),\n",
      " ('cmpr_kbd_0.229_2995_10800_vs_kbd_ng_0.185_228_3700', 307)]\n"
     ]
    }
   ],
   "source": [
    "interesting_words = get_words_from_diff(pdf_dir, filter_prefix=None)"
   ],
   "metadata": {
    "collapsed": false,
    "ExecuteTime": {
     "end_time": "2023-11-06T12:28:52.709899Z",
     "start_time": "2023-11-06T12:28:52.471144Z"
    }
   },
   "id": "4cc7f510b2ae1691"
  },
  {
   "cell_type": "code",
   "execution_count": null,
   "outputs": [],
   "source": [],
   "metadata": {
    "collapsed": false
   },
   "id": "8abb4eda253235bf"
  }
 ],
 "metadata": {
  "kernelspec": {
   "display_name": "Python 3",
   "language": "python",
   "name": "python3"
  },
  "language_info": {
   "codemirror_mode": {
    "name": "ipython",
    "version": 2
   },
   "file_extension": ".py",
   "mimetype": "text/x-python",
   "name": "python",
   "nbconvert_exporter": "python",
   "pygments_lexer": "ipython2",
   "version": "2.7.6"
  }
 },
 "nbformat": 4,
 "nbformat_minor": 5
}
