{
 "cells": [
  {
   "cell_type": "code",
   "execution_count": 93,
   "id": "initial_id",
   "metadata": {
    "collapsed": true,
    "ExecuteTime": {
     "end_time": "2024-04-23T05:11:24.942382Z",
     "start_time": "2024-04-23T05:11:24.935393Z"
    }
   },
   "outputs": [],
   "source": [
    "models = [\n",
    "    # 'collected_1_from_oshamaho_0.017_3445_48000',\n",
    "    # 'collected_1_from_oshamaho_0.066_2835_18100',\n",
    "    # 'collected_1_from_oshamaho_0.093_5574_40000',\n",
    "    # 'collected_2_from_oshamaho_0.011_3487_49800',\n",
    "    # 'collected_2_from_oshamaho_0.070_2748_14700',\n",
    "    # 'collected_2_from_oshamaho_0.141_5047_29500',\n",
    "    # 'collected_2_from_oshamaho_0.433_3262_8700',\n",
    "    # 'collected_2_from_oshamaho_new_font_0.216_4374_18500',\n",
    "    # 'collected_3_from_oshamaho_0.026_3497_44800',\n",
    "    # 'collected_3_from_oshamaho_0.063_2806_15600',\n",
    "    # 'collected_3_from_oshamaho_0.071_5758_46000',\n",
    "    'collected_3_from_oshamaho_0.151_4595_22800',  # ++-\n",
    "    'collected_3_from_oshamaho_new_font_0.193_4395_18400', # ++-\n",
    "    # 'collected_3_plus_bg_5k_oshamaho_new_font_0.104_1228_20000',\n",
    "    # 'collected_4_from_oshamaho_0.011_3406_40000',\n",
    "    # 'collected_4_from_oshamaho_0.079_2964_19600',\n",
    "    # 'collected_4_from_oshamaho_0.115_5657_38100',\n",
    "    # 'collected_4_from_oshamaho_0.162_4410_18200', # + -\n",
    "    # 'confidence_filtered_0_60_lines_dysche_zhyg_0.023_1530_15000',\n",
    "    'kbd_finetune_0.134_794_9700',\n",
    "    'kbd_finetined1_0.005_1129_26200',\n",
    "    'kbd_finetuned2_0.006_365_18600',\n",
    "    'kbd_finetuned3_0.008_411_24300', # +++\n",
    "    'kbd_finetuned4_0.006_1192_29800', # ++-\n",
    "    'kbd_finetuned5_0.023_908_26600', \n",
    "]"
   ]
  },
  {
   "cell_type": "code",
   "outputs": [],
   "source": [
    "import pandas as pd\n",
    "import os\n",
    "import cv2\n",
    "import pytesseract\n",
    "\n",
    "image_name = '1_0_0_0_0_d41d8cd98f00b204e9800998ecf8427e.jpg'\n",
    "image_dir = '../tesseract/test_images'\n",
    "\n",
    "image = cv2.imread(f'{image_dir}/{image_name}')\n",
    "\n",
    "output_dir = f'../tesseract/results/{image_name}'\n",
    "os.makedirs(output_dir, exist_ok=True)\n",
    "\n",
    "df = pd.DataFrame()\n",
    "\n",
    "for model in models:\n",
    "    result_df = pytesseract.image_to_data(\n",
    "        image=image,\n",
    "        lang=model,\n",
    "        output_type=pytesseract.Output.DATAFRAME,\n",
    "        config='../tesseract/kdb.base.config.txt',\n",
    "    )\n",
    "    result_df.to_csv(f'../tesseract/results/{image_name}/{model}.csv', index=False)\n",
    "    df[model] = result_df.text"
   ],
   "metadata": {
    "collapsed": false,
    "ExecuteTime": {
     "end_time": "2024-04-23T05:11:57.815927Z",
     "start_time": "2024-04-23T05:11:25.708980Z"
    }
   },
   "id": "faf2a07847a927a4",
   "execution_count": 94
  },
  {
   "cell_type": "code",
   "outputs": [
    {
     "data": {
      "text/plain": "    collected_3_from_oshamaho_0.151_4595_22800  \\\n0                                          NaN   \n1                                          NaN   \n2                                          NaN   \n3                                          NaN   \n4                                         ИкIи   \n..                                         ...   \n328                                     хабзэр   \n329                                        NaN   \n330                                        NaN   \n331                                        NaN   \n332                                          *   \n\n    collected_3_from_oshamaho_new_font_0.193_4395_18400  \\\n0                                                  NaN    \n1                                                  NaN    \n2                                                  NaN    \n3                                                  NaN    \n4                                                 ИкIи    \n..                                                 ...    \n328                                             хабзэр    \n329                                                NaN    \n330                                                NaN    \n331                                                NaN    \n332                                                 3)    \n\n    kbd_finetune_0.134_794_9700 kbd_finetined1_0.005_1129_26200  \\\n0                           NaN                             NaN   \n1                           NaN                             NaN   \n2                           NaN                             NaN   \n3                           NaN                             NaN   \n4                          ИкIи                            ИкIи   \n..                          ...                             ...   \n328                       адыгэ                           адыгэ   \n329                      хабзэр                          хабзэр   \n330                         NaN                             NaN   \n331                         NaN                             NaN   \n332                         NaN                             NaN   \n\n    kbd_finetuned2_0.006_365_18600 kbd_finetuned3_0.008_411_24300  \\\n0                              NaN                            NaN   \n1                              NaN                            NaN   \n2                              NaN                            NaN   \n3                              NaN                            NaN   \n4                             ИкIи                           ИкIи   \n..                             ...                            ...   \n328                            NaN                            NaN   \n329                            NaN                            NaN   \n330                            NaN                            NaN   \n331                             зI                              з   \n332                            NaN                            NaN   \n\n    kbd_finetuned4_0.006_1192_29800 kbd_finetuned5_0.023_908_26600  \n0                               NaN                            NaN  \n1                               NaN                            NaN  \n2                               NaN                            NaN  \n3                               NaN                            NaN  \n4                              ИкIи                           ИкIи  \n..                              ...                            ...  \n328                             NaN                         хабзэр  \n329                             NaN                            NaN  \n330                             NaN                            NaN  \n331                              3I                            NaN  \n332                             NaN                             з1  \n\n[333 rows x 8 columns]",
      "text/html": "<div>\n<style scoped>\n    .dataframe tbody tr th:only-of-type {\n        vertical-align: middle;\n    }\n\n    .dataframe tbody tr th {\n        vertical-align: top;\n    }\n\n    .dataframe thead th {\n        text-align: right;\n    }\n</style>\n<table border=\"1\" class=\"dataframe\">\n  <thead>\n    <tr style=\"text-align: right;\">\n      <th></th>\n      <th>collected_3_from_oshamaho_0.151_4595_22800</th>\n      <th>collected_3_from_oshamaho_new_font_0.193_4395_18400</th>\n      <th>kbd_finetune_0.134_794_9700</th>\n      <th>kbd_finetined1_0.005_1129_26200</th>\n      <th>kbd_finetuned2_0.006_365_18600</th>\n      <th>kbd_finetuned3_0.008_411_24300</th>\n      <th>kbd_finetuned4_0.006_1192_29800</th>\n      <th>kbd_finetuned5_0.023_908_26600</th>\n    </tr>\n  </thead>\n  <tbody>\n    <tr>\n      <th>0</th>\n      <td>NaN</td>\n      <td>NaN</td>\n      <td>NaN</td>\n      <td>NaN</td>\n      <td>NaN</td>\n      <td>NaN</td>\n      <td>NaN</td>\n      <td>NaN</td>\n    </tr>\n    <tr>\n      <th>1</th>\n      <td>NaN</td>\n      <td>NaN</td>\n      <td>NaN</td>\n      <td>NaN</td>\n      <td>NaN</td>\n      <td>NaN</td>\n      <td>NaN</td>\n      <td>NaN</td>\n    </tr>\n    <tr>\n      <th>2</th>\n      <td>NaN</td>\n      <td>NaN</td>\n      <td>NaN</td>\n      <td>NaN</td>\n      <td>NaN</td>\n      <td>NaN</td>\n      <td>NaN</td>\n      <td>NaN</td>\n    </tr>\n    <tr>\n      <th>3</th>\n      <td>NaN</td>\n      <td>NaN</td>\n      <td>NaN</td>\n      <td>NaN</td>\n      <td>NaN</td>\n      <td>NaN</td>\n      <td>NaN</td>\n      <td>NaN</td>\n    </tr>\n    <tr>\n      <th>4</th>\n      <td>ИкIи</td>\n      <td>ИкIи</td>\n      <td>ИкIи</td>\n      <td>ИкIи</td>\n      <td>ИкIи</td>\n      <td>ИкIи</td>\n      <td>ИкIи</td>\n      <td>ИкIи</td>\n    </tr>\n    <tr>\n      <th>...</th>\n      <td>...</td>\n      <td>...</td>\n      <td>...</td>\n      <td>...</td>\n      <td>...</td>\n      <td>...</td>\n      <td>...</td>\n      <td>...</td>\n    </tr>\n    <tr>\n      <th>328</th>\n      <td>хабзэр</td>\n      <td>хабзэр</td>\n      <td>адыгэ</td>\n      <td>адыгэ</td>\n      <td>NaN</td>\n      <td>NaN</td>\n      <td>NaN</td>\n      <td>хабзэр</td>\n    </tr>\n    <tr>\n      <th>329</th>\n      <td>NaN</td>\n      <td>NaN</td>\n      <td>хабзэр</td>\n      <td>хабзэр</td>\n      <td>NaN</td>\n      <td>NaN</td>\n      <td>NaN</td>\n      <td>NaN</td>\n    </tr>\n    <tr>\n      <th>330</th>\n      <td>NaN</td>\n      <td>NaN</td>\n      <td>NaN</td>\n      <td>NaN</td>\n      <td>NaN</td>\n      <td>NaN</td>\n      <td>NaN</td>\n      <td>NaN</td>\n    </tr>\n    <tr>\n      <th>331</th>\n      <td>NaN</td>\n      <td>NaN</td>\n      <td>NaN</td>\n      <td>NaN</td>\n      <td>зI</td>\n      <td>з</td>\n      <td>3I</td>\n      <td>NaN</td>\n    </tr>\n    <tr>\n      <th>332</th>\n      <td>*</td>\n      <td>3)</td>\n      <td>NaN</td>\n      <td>NaN</td>\n      <td>NaN</td>\n      <td>NaN</td>\n      <td>NaN</td>\n      <td>з1</td>\n    </tr>\n  </tbody>\n</table>\n<p>333 rows × 8 columns</p>\n</div>"
     },
     "execution_count": 95,
     "metadata": {},
     "output_type": "execute_result"
    }
   ],
   "source": [
    "df"
   ],
   "metadata": {
    "collapsed": false,
    "ExecuteTime": {
     "end_time": "2024-04-23T05:12:00.770832Z",
     "start_time": "2024-04-23T05:12:00.765331Z"
    }
   },
   "id": "ccc90057152d9834",
   "execution_count": 95
  },
  {
   "cell_type": "code",
   "outputs": [],
   "source": [],
   "metadata": {
    "collapsed": false
   },
   "id": "a6b55aa55db48631"
  }
 ],
 "metadata": {
  "kernelspec": {
   "display_name": "Python 3",
   "language": "python",
   "name": "python3"
  },
  "language_info": {
   "codemirror_mode": {
    "name": "ipython",
    "version": 2
   },
   "file_extension": ".py",
   "mimetype": "text/x-python",
   "name": "python",
   "nbconvert_exporter": "python",
   "pygments_lexer": "ipython2",
   "version": "2.7.6"
  }
 },
 "nbformat": 4,
 "nbformat_minor": 5
}
