{
 "cells": [
  {
   "cell_type": "code",
   "execution_count": 1,
   "metadata": {
    "collapsed": true,
    "ExecuteTime": {
     "end_time": "2023-11-19T00:11:01.747850Z",
     "start_time": "2023-11-19T00:11:01.726749Z"
    }
   },
   "outputs": [],
   "source": [
    "import os\n",
    "\n",
    "from tokenizers import Tokenizer\n",
    "tokenizer_uni = Tokenizer.from_file(\n",
    "    os.path.join('../dags/src/spellcheck/data/', 'tokenizer_unigram_5k.json')\n",
    ")"
   ]
  },
  {
   "cell_type": "code",
   "execution_count": 2,
   "outputs": [],
   "source": [
    "with open('../data/tesstrain/kbd/configs/kbd.wordlist', 'r') as f:\n",
    "    words = f.read().split('\\n')"
   ],
   "metadata": {
    "collapsed": false,
    "ExecuteTime": {
     "end_time": "2023-11-19T00:11:02.228749Z",
     "start_time": "2023-11-19T00:11:02.194957Z"
    }
   }
  },
  {
   "cell_type": "code",
   "execution_count": 3,
   "outputs": [],
   "source": [
    "data = []\n",
    "\n",
    "columns = ['word', 'length', 'tokens', 'token_ids']\n",
    "all_tokens = set()\n",
    "for word in sorted(words):\n",
    "    tokens = tokenizer_uni.encode(word).tokens\n",
    "    all_tokens.update(set(tokens))\n",
    "    \n",
    "    columns_delta = set(tokens) - set(columns)\n",
    "    columns = columns + list(columns_delta)\n",
    "    data.append({\n",
    "        'word': word,\n",
    "        'length': len(tokens),\n",
    "        'tokens': '|'.join(tokens),\n",
    "        'token_ids': '|'.join([str(tokenizer_uni.token_to_id(token)) for token in tokens]),\n",
    "        **{\n",
    "            token: index for index, token in enumerate(tokens)\n",
    "        }\n",
    "    })"
   ],
   "metadata": {
    "collapsed": false,
    "ExecuteTime": {
     "end_time": "2023-11-19T00:11:13.026111Z",
     "start_time": "2023-11-19T00:11:03.172241Z"
    }
   }
  },
  {
   "cell_type": "code",
   "execution_count": null,
   "outputs": [],
   "source": [
    "# import pandas as pd\n",
    "# df = pd.DataFrame(data)\n",
    "# \n",
    "# \n",
    "# for token in sorted(all_tokens):\n",
    "#     df0 = df[df[token].notna()]\n",
    "#     filtered_df = df0.dropna(axis=1, how='all')\n",
    "#     filtered_df.to_csv(f'../data/tesstrain/kbd/wordlist_tokens_{token}.csv', index=False)"
   ],
   "metadata": {
    "collapsed": false,
    "pycharm": {
     "name": "#%%\n"
    },
    "ExecuteTime": {
     "start_time": "2023-11-18T23:46:40.365531Z"
    }
   }
  }
 ],
 "metadata": {
  "kernelspec": {
   "display_name": "Python 3",
   "language": "python",
   "name": "python3"
  },
  "language_info": {
   "codemirror_mode": {
    "name": "ipython",
    "version": 2
   },
   "file_extension": ".py",
   "mimetype": "text/x-python",
   "name": "python",
   "nbconvert_exporter": "python",
   "pygments_lexer": "ipython2",
   "version": "2.7.6"
  }
 },
 "nbformat": 4,
 "nbformat_minor": 0
}
