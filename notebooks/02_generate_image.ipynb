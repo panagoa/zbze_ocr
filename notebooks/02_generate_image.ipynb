{
 "cells": [
  {
   "cell_type": "code",
   "execution_count": 12,
   "outputs": [],
   "source": [
    "import hashlib\n",
    "import os\n",
    "import random\n",
    "\n",
    "from PIL import Image, ImageDraw, ImageFont\n",
    "\n",
    "\n",
    "def calculate_image_size(text, img_font):\n",
    "    temp_image = Image.new('RGB', (1, 1), color=(255, 255, 255))\n",
    "    temp_draw = ImageDraw.Draw(temp_image)\n",
    "\n",
    "    text_bbox = temp_draw.textbbox((0, 0), text, font=img_font)\n",
    "\n",
    "    text_width = text_bbox[2] - text_bbox[0]\n",
    "    text_height = text_bbox[3] - text_bbox[1]\n",
    "    return text_width, text_height\n",
    "\n",
    "\n",
    "def draw_text(text, img_font, background=(255, 255, 255)):\n",
    "    padding = img_font.size // 2\n",
    "    text_width, text_height = calculate_image_size(text, img_font)\n",
    "    image = Image.new('RGB', (text_width + padding, text_height + padding), color=background)\n",
    "    draw = ImageDraw.Draw(image)\n",
    "    draw.text((0, -img_font.size / 10), text, font=img_font, fill=(0, 0, 0))\n",
    "    return image\n",
    "\n",
    "\n",
    "def apply_aging_effect(image, aging_factor=(0.6, 0.6, 0.01)):\n",
    "    image = image.convert('L')\n",
    "    black_factor, gray_factor, white_factor = aging_factor\n",
    "\n",
    "    pixel_data = list(image.getdata())\n",
    "    for i in range(len(pixel_data)):\n",
    "        pixel_value = pixel_data[i]\n",
    "\n",
    "        if pixel_value < 85:\n",
    "            if random.random() > black_factor:\n",
    "                continue\n",
    "            new_value = pixel_value + random.randint(0, 20) * 10  # увеличиваем яркость \n",
    "        elif pixel_value < 170:\n",
    "            if random.random() > gray_factor:\n",
    "                continue\n",
    "            new_value = pixel_value + random.randint(-20, 20) * 10  # меняем яркость \n",
    "        else:\n",
    "            if random.random() > white_factor:\n",
    "                continue\n",
    "            new_value = pixel_value + random.randint(-20, 0) * 10  # уменьшаем яркость\n",
    "\n",
    "        pixel_data[i] = new_value\n",
    "\n",
    "    image.putdata(pixel_data)\n",
    "    return image\n",
    "\n",
    "\n",
    "def generate_file_name(text, img_font):\n",
    "    text_md5 = hashlib.md5(text.encode('utf-8')).hexdigest()\n",
    "    font_name = img_font.path.split('/')[-1].split('.')[0]\n",
    "    font_md5 = hashlib.md5(font_name.encode('utf-8')).hexdigest()\n",
    "    return f'{font_md5}_{text_md5}', font_name, text_md5\n",
    "\n",
    "\n",
    "def generate_image(text, img_font, aging_factor=(0.5, 0.1, 0.005), directory='../fonts'):\n",
    "    file_name, font_name, text_name = generate_file_name(text, img_font)\n",
    "    if os.path.exists(os.path.join(directory, f'{file_name}.png')):\n",
    "        return\n",
    "\n",
    "    image = draw_text(text, img_font)\n",
    "    image = apply_aging_effect(image, aging_factor)\n",
    "\n",
    "    prefix_dir = ''\n",
    "    os.makedirs(os.path.join(directory, prefix_dir), exist_ok=True)\n",
    "\n",
    "    image.save(os.path.join(directory, prefix_dir, f'{file_name}.png'))\n",
    "\n",
    "    with open(os.path.join(directory, prefix_dir, f'{file_name}.gt.txt'), 'w') as f:\n",
    "        f.write(text)"
   ],
   "metadata": {
    "collapsed": false,
    "ExecuteTime": {
     "end_time": "2023-11-08T16:12:28.038721Z",
     "start_time": "2023-11-08T16:12:28.034999Z"
    }
   },
   "id": "b0b8bb5646eb7b5b"
  },
  {
   "cell_type": "code",
   "execution_count": 21,
   "outputs": [],
   "source": [
    "FONT_SIZE = 20\n",
    "\n",
    "TEXT_FILE = os.path.join('../data/tesstrain/kbd/data/output/freq_100000_oshamaho.txt')\n",
    "FONT_DIR = '../data/tesstrain/kbd/fonts'\n",
    "FONT_TEST_TEXT = 'Хъэндыркъуакъуэ щIакъуэр, КъуанщIэ лъакъуэм щIокъур.'\n",
    "\n",
    "with open(TEXT_FILE, 'r') as f:\n",
    "    lines = f.read().split('\\n')\n",
    "\n",
    "fonts_files = [f'{FONT_DIR}/{font}' for font in sorted(os.listdir(FONT_DIR)) if font.endswith('.ttf')]\n",
    "fonts = []\n",
    "for font_f in fonts_files:\n",
    "    try:\n",
    "        img_font = ImageFont.truetype(font_f, FONT_SIZE)\n",
    "        fonts.append(img_font)\n",
    "    except OSError:\n",
    "        print(f'Error loading font {font_f}')\n",
    "        continue\n"
   ],
   "metadata": {
    "collapsed": false,
    "ExecuteTime": {
     "end_time": "2023-11-09T15:14:37.892541Z",
     "start_time": "2023-11-09T15:14:37.848083Z"
    }
   },
   "id": "initial_id"
  },
  {
   "cell_type": "code",
   "execution_count": 22,
   "outputs": [
    {
     "name": "stderr",
     "output_type": "stream",
     "text": [
      "100%|██████████| 3300000/3300000 [3:04:41<00:00, 297.78it/s]  \n"
     ]
    }
   ],
   "source": [
    "from concurrent.futures import ThreadPoolExecutor\n",
    "import concurrent\n",
    "from tqdm import tqdm\n",
    "\n",
    "par_factor = 4  # Количество параллельных задач\n",
    "\n",
    "OUTPUT_DIR = '/Users/panagoa/tesstrain_data/freq_100k_oshamaho_new_font'\n",
    "os.makedirs(OUTPUT_DIR, exist_ok=True)\n",
    "\n",
    "TEXT_LINES_MAX_COUNT = 1000000\n",
    "text_lines = list(set([line for line in lines]))\n",
    "random.shuffle(text_lines)\n",
    "text_lines = text_lines[:TEXT_LINES_MAX_COUNT]\n",
    "\n",
    "with tqdm(total=len(fonts) * len(text_lines)) as pbar, ThreadPoolExecutor(max_workers=par_factor) as executor:\n",
    "    futures = [\n",
    "        executor.submit(generate_image, text_line, font, directory=OUTPUT_DIR)\n",
    "        for font in fonts for text_line in text_lines\n",
    "    ]\n",
    "    for future in concurrent.futures.as_completed(futures):\n",
    "        try:\n",
    "            future.result()\n",
    "            pbar.update(1)\n",
    "        except Exception as e:\n",
    "            print(f\"Ошибка: {e}\")"
   ],
   "metadata": {
    "collapsed": false,
    "ExecuteTime": {
     "end_time": "2023-11-09T18:19:21.006565Z",
     "start_time": "2023-11-09T15:14:39.035536Z"
    }
   },
   "id": "bade40dd9f945e12"
  },
  {
   "cell_type": "code",
   "execution_count": null,
   "outputs": [],
   "source": [],
   "metadata": {
    "collapsed": false
   },
   "id": "3cc93fe48913f79"
  }
 ],
 "metadata": {
  "kernelspec": {
   "display_name": "Python 3",
   "language": "python",
   "name": "python3"
  },
  "language_info": {
   "codemirror_mode": {
    "name": "ipython",
    "version": 2
   },
   "file_extension": ".py",
   "mimetype": "text/x-python",
   "name": "python",
   "nbconvert_exporter": "python",
   "pygments_lexer": "ipython2",
   "version": "2.7.6"
  }
 },
 "nbformat": 4,
 "nbformat_minor": 5
}
