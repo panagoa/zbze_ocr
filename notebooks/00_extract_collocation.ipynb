{
 "cells": [
  {
   "cell_type": "code",
   "execution_count": 1,
   "outputs": [],
   "source": [
    "from dags.src.text_cleaner import clean_text"
   ],
   "metadata": {
    "collapsed": false,
    "ExecuteTime": {
     "end_time": "2023-11-06T02:25:43.472469Z",
     "start_time": "2023-11-06T02:25:43.469411Z"
    }
   }
  },
  {
   "cell_type": "code",
   "execution_count": 2,
   "outputs": [
    {
     "name": "stderr",
     "output_type": "stream",
     "text": [
      "[nltk_data] Downloading package stopwords to\n",
      "[nltk_data]     /Users/panagoa/nltk_data...\n",
      "[nltk_data]   Package stopwords is already up-to-date!\n"
     ]
    }
   ],
   "source": [
    "from collections import Counter\n",
    "import os\n",
    "import nltk\n",
    "import concurrent.futures\n",
    "from concurrent.futures import ThreadPoolExecutor\n",
    "from tqdm import tqdm\n",
    "\n",
    "nltk.download(\"stopwords\")\n",
    "\n",
    "input_dir = os.path.join(\"..\", \"data/tesstrain/kbd/data/input\")\n",
    "output_dir = os.path.join(\"..\", \"data/tesstrain/kbd/data/output\")\n",
    "\n",
    "file_path = os.path.join(input_dir, \"all_book.txt\")\n",
    "f_name = os.path.basename(file_path)\n",
    "\n",
    "BUF_SIZE = 100000\n",
    "\n",
    "\n",
    "def process_chunk(chunk, collocation_limit=2000):\n",
    "    chunk = clean_text(chunk)\n",
    "    tokens = nltk.word_tokenize(chunk)\n",
    "    text = nltk.Text(tokens)\n",
    "    clc = text.collocation_list(collocation_limit)\n",
    "    return clc\n",
    "\n",
    "\n",
    "def get_chunks(file_path):\n",
    "    chunks = []\n",
    "\n",
    "    with open(file_path) as f:\n",
    "        while True:\n",
    "            chunk = f.read(BUF_SIZE)\n",
    "            if not chunk:\n",
    "                break\n",
    "            chunks.append(chunk)\n",
    "\n",
    "    return chunks\n",
    "\n",
    "\n",
    "def calc_bigrams(file_path, par_factor=4, chunk_limit=1000):\n",
    "    cnt = Counter()\n",
    "\n",
    "    chunks = get_chunks(file_path)\n",
    "    chunks = chunks[:chunk_limit]\n",
    "    print(f\"Число чанков: {len(chunks)}\")\n",
    "\n",
    "    with tqdm(total=len(chunks)) as pbar, ThreadPoolExecutor(max_workers=par_factor) as executor:\n",
    "        futures = [executor.submit(process_chunk, chunk) for chunk in chunks]\n",
    "        for future in concurrent.futures.as_completed(futures):\n",
    "            try:\n",
    "                clc = future.result()\n",
    "                cnt.update(clc)\n",
    "                pbar.update(1)\n",
    "            except Exception as e:\n",
    "                print(f\"Ошибка: {e}\")\n",
    "\n",
    "    return cnt"
   ],
   "metadata": {
    "collapsed": false,
    "ExecuteTime": {
     "end_time": "2023-11-06T02:25:44.629686Z",
     "start_time": "2023-11-06T02:25:44.211571Z"
    }
   }
  },
  {
   "cell_type": "code",
   "execution_count": 3,
   "outputs": [
    {
     "name": "stdout",
     "output_type": "stream",
     "text": [
      "Число чанков: 309\n"
     ]
    },
    {
     "name": "stderr",
     "output_type": "stream",
     "text": [
      "  0%|          | 0/309 [00:00<?, ?it/s]"
     ]
    },
    {
     "name": "stdout",
     "output_type": "stream",
     "text": [
      "Ошибка: 'WordListCorpusReader' object has no attribute '_LazyCorpusLoader__args'\n",
      "Ошибка: 'WordListCorpusReader' object has no attribute '_LazyCorpusLoader__reader_cls'\n"
     ]
    },
    {
     "name": "stderr",
     "output_type": "stream",
     "text": [
      " 99%|█████████▉| 307/309 [00:11<00:00, 25.84it/s] \n"
     ]
    }
   ],
   "source": [
    "limit = 5000\n",
    "\n",
    "cnt = calc_bigrams(file_path, par_factor=4)\n",
    "\n",
    "bigrams_out_path = os.path.join(output_dir, f\"bigrams_freq_{limit}_{f_name}\")\n",
    "with open(bigrams_out_path, \"w\") as f:\n",
    "    bgrm_str = \"\\n\".join([\" \".join(b) for b, frq in cnt.most_common(limit)])\n",
    "    f.write(bgrm_str)"
   ],
   "metadata": {
    "collapsed": false,
    "pycharm": {
     "name": "#%%\n"
    },
    "ExecuteTime": {
     "end_time": "2023-11-06T02:25:58.783756Z",
     "start_time": "2023-11-06T02:25:46.775980Z"
    }
   }
  },
  {
   "cell_type": "code",
   "execution_count": 4,
   "outputs": [
    {
     "data": {
      "text/plain": "[(('нэхърэ', 'нэхъ'), 209),\n (('дэнэ', 'къэна'), 179),\n (('сыт', 'хуэдэ'), 156),\n (('сыт', 'щыгъуи'), 118),\n (('иджыри', 'къэс'), 113),\n (('абы', 'щхьэкэ'), 82),\n (('Ауэ', 'абы'), 79),\n (('куэд', 'щауэ'), 79),\n (('ауэ', 'сытми'), 76),\n (('абы', 'щыгъуэ'), 76),\n (('махуэ', 'къэс'), 75),\n (('эмал', 'имыэу'), 72),\n (('Степан', 'Ильич'), 67),\n (('щалэ', 'цыку'), 66),\n (('сыту', 'жыпэмэ'), 66),\n (('Нал', 'къута'), 66),\n (('Абы', 'щыгъуэ'), 65),\n (('Мазэ', 'ныкъуэ'), 65),\n (('Хъуэпсэгъуэ', 'нур'), 64),\n (('ныкъуэ', 'щхъуантIэ'), 64),\n (('Сыт', 'хуэдэ'), 63),\n (('Вагъуэ', 'махуэ'), 63),\n (('Мывэ', 'хуабэ'), 63),\n (('сыт', 'щхьэкэ'), 62),\n (('Бабыщыкъуэ', 'адакъэпщ'), 62),\n (('щалэ', 'цыкур'), 61),\n (('Кхъухь', 'пхэнж'), 61),\n (('лъапэхэм', 'деж'), 61),\n (('Бгы', 'лъапэхэм'), 61),\n (('лъэрыгъыпс', 'тIыгъа'), 60),\n (('абы', 'хуэдэ'), 59),\n (('япэ', 'дыдэ'), 58),\n (('жыхуаэм', 'хуэдэу'), 58),\n (('Бдзэжьеящэм', 'ипхъу'), 58),\n (('щалэ', 'цыкум'), 57),\n (('ужь', 'иту'), 57),\n (('псом', 'хуэмыдэу'), 56),\n (('Псом', 'хуэмыдэу'), 56),\n (('Сыт', 'щхьэкэ'), 56),\n (('ЩIалэгъуэ', 'щIыналъэ'), 56),\n (('ХьэщIэ', 'лъапIэ'), 56),\n (('Абы', 'хэту'), 55),\n (('зыри', 'жимыэу'), 54),\n (('абы', 'нэхъ'), 52),\n (('КIапсэ', 'кIапэ'), 52),\n (('Куэд', 'дэмыкыу'), 51),\n (('ауэ', 'абы'), 50),\n (('гум', 'илъыр'), 50),\n (('Ауэ', 'сыт'), 47),\n (('хъыджэбз', 'цыку'), 46),\n (('Тепщэч', 'къэзылъэтыхь'), 46),\n (('тыгъэ', 'Партыр'), 46),\n (('сыт', 'хуэдиз'), 45),\n (('Индийскэ', 'поэмэ'), 45),\n (('Пэж', 'дыдэу'), 44),\n (('унафэ', 'ищащ'), 44),\n (('Хьэуэ', 'хьэуэ'), 44),\n (('япэ', 'дыдэу'), 44),\n (('щхьэкэ', 'жыпэмэ'), 41),\n (('псом', 'нэхърэ'), 41),\n (('Мыр', 'сыт'), 41),\n (('псы', 'уфэм'), 41),\n (('тхьэм', 'ещэ'), 41),\n (('Абы', 'щхьэкэ'), 40),\n (('жиащ', 'абы'), 40),\n (('эмал', 'иэкъым'), 40),\n (('сыту', 'жыпIэмэ'), 40),\n (('ящыщ', 'зым'), 39),\n (('хуей', 'хъуащ'), 38),\n (('сыт', 'хуэдэу'), 37),\n (('Сыту', 'пэрэ'), 37),\n (('махуэ', 'гуэрым'), 37),\n (('куэ', 'пэтми'), 37),\n (('щIалэ', 'цIыкIу'), 37),\n (('зыр', 'зым'), 34),\n (('хэт', 'сыт'), 34),\n (('фэщ', 'хъуркъым'), 34),\n (('Етуанэ', 'махуэм'), 34),\n (('пэрэ', 'жиэу'), 34),\n (('Иджыри', 'къэс'), 32),\n (('Дэнэ', 'щыэ'), 32),\n (('абы', 'хуэдэу'), 32),\n (('дыдэм', 'хуэдэу'), 31),\n (('Абы', 'хуэдэ'), 31),\n (('куэд', 'лъандэрэ'), 31),\n (('зым', 'зыр'), 31),\n (('жиIэу', 'Мазэ'), 31),\n (('ящыщ', 'зыщ'), 30),\n (('Атэ', 'сыт'), 30),\n (('жыхуаIэм', 'хуэдэу'), 30),\n (('сыту', 'пэрэ'), 29),\n (('унэ', 'лъэгум'), 29),\n (('сыт', 'щхьэкIэ'), 29),\n (('япэ', 'щыкэ'), 28),\n (('абы', 'нэхърэ'), 28),\n (('дауэ', 'хъуну'), 28),\n (('махуэ', 'псом'), 28),\n (('нобэр', 'къыздэсым'), 28),\n (('щхьэкIэ', 'жыпIэмэ'), 28),\n (('дунейм', 'ехыжа'), 27)]"
     },
     "execution_count": 4,
     "metadata": {},
     "output_type": "execute_result"
    }
   ],
   "source": [
    "cnt.most_common(100)"
   ],
   "metadata": {
    "collapsed": false,
    "pycharm": {
     "name": "#%%\n"
    },
    "ExecuteTime": {
     "end_time": "2023-11-06T02:26:15.384844Z",
     "start_time": "2023-11-06T02:26:15.378323Z"
    }
   }
  },
  {
   "cell_type": "code",
   "execution_count": null,
   "outputs": [],
   "source": [],
   "metadata": {
    "collapsed": false
   }
  }
 ],
 "metadata": {
  "kernelspec": {
   "display_name": "Python 3",
   "language": "python",
   "name": "python3"
  },
  "language_info": {
   "codemirror_mode": {
    "name": "ipython",
    "version": 2
   },
   "file_extension": ".py",
   "mimetype": "text/x-python",
   "name": "python",
   "nbconvert_exporter": "python",
   "pygments_lexer": "ipython2",
   "version": "2.7.6"
  }
 },
 "nbformat": 4,
 "nbformat_minor": 0
}
