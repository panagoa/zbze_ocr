{
 "cells": [
  {
   "cell_type": "code",
   "execution_count": 8,
   "outputs": [],
   "source": [
    "import os\n",
    "import subprocess\n",
    "from subprocess import list2cmdline\n",
    "\n",
    "\n",
    "def _rm_on_fail(name, ground_truth_dir):\n",
    "    print(f'rm {name} files (png, box, gt.txt, lstmf)')\n",
    "    os.remove(os.path.join(ground_truth_dir, f'{name}.box'))\n",
    "    os.remove(os.path.join(ground_truth_dir, f'{name}.png'))\n",
    "    os.remove(os.path.join(ground_truth_dir, f'{name}.gt.txt'))\n",
    "    os.remove(os.path.join(ground_truth_dir, f'{name}.lstmf'))\n",
    "\n",
    "\n",
    "def _run_prepare(name, ground_truth_dir, tesstrain_dir):\n",
    "    with open(os.path.join(ground_truth_dir, f'{name}.box'), \"w\") as box_file:\n",
    "        cmd1 = [\n",
    "            \"PYTHONIOENCODING=utf-8\", \"python3\", os.path.join(tesstrain_dir, \"generate_line_box.py\"),\n",
    "            \"-i\", os.path.join(ground_truth_dir, f'{name}.png'),\n",
    "            \"-t\", os.path.join(ground_truth_dir, f'{name}.gt.txt'),\n",
    "        ]\n",
    "        cmd1 = list2cmdline(cmd1)\n",
    "        try:\n",
    "            subprocess.run(cmd1, shell=True, stdout=box_file, text=True)\n",
    "        except Exception as e:\n",
    "            print(e)\n",
    "            _rm_on_fail(name, ground_truth_dir)\n",
    "            \n",
    "\n",
    "    # Команда для tesseract\n",
    "    cmd2 = [\n",
    "        \"tesseract\",\n",
    "        os.path.join(ground_truth_dir, f\"{name}.png\"),\n",
    "        os.path.join(ground_truth_dir, f\"{name}\"),\n",
    "        \"--psm\", \"13\", \"lstm.train\"\n",
    "    ]\n",
    "    cmd2 = list2cmdline(cmd2)\n",
    "    \n",
    "    try:\n",
    "        subprocess.run(cmd2, shell=True, text=True)\n",
    "    except Exception as e:\n",
    "        print(e)\n",
    "        _rm_on_fail(name, ground_truth_dir)\n"
   ],
   "metadata": {
    "collapsed": false,
    "ExecuteTime": {
     "end_time": "2024-04-17T23:45:09.206251413Z",
     "start_time": "2024-04-17T23:45:09.163187320Z"
    }
   },
   "id": "fcd79158adbe3b22"
  },
  {
   "cell_type": "code",
   "execution_count": 9,
   "outputs": [],
   "source": [
    "import concurrent\n",
    "from concurrent.futures import ThreadPoolExecutor\n",
    "from tqdm import tqdm\n",
    "\n",
    "par_factor = 8\n",
    "\n",
    "def run_prepare(boxes, ground_truth_dir, tesstrain_dir):\n",
    "    with tqdm(total=len(boxes)) as pbar, ThreadPoolExecutor(max_workers=par_factor) as executor:\n",
    "        futures = [\n",
    "            executor.submit(\n",
    "                _run_prepare, \n",
    "                b, \n",
    "                ground_truth_dir,\n",
    "                tesstrain_dir,\n",
    "            )\n",
    "            for b in boxes\n",
    "        ]\n",
    "        for future in concurrent.futures.as_completed(futures):\n",
    "            try:\n",
    "                future.result()\n",
    "                pbar.update(1)\n",
    "            except Exception as e:\n",
    "                raise e"
   ],
   "metadata": {
    "collapsed": false,
    "ExecuteTime": {
     "end_time": "2024-04-17T23:45:09.668199479Z",
     "start_time": "2024-04-17T23:45:09.665833416Z"
    }
   },
   "id": "38682b11c3d76ea0"
  },
  {
   "cell_type": "code",
   "execution_count": 11,
   "outputs": [
    {
     "name": "stdout",
     "output_type": "stream",
     "text": [
      "38000 38000 0 0\n",
      "38000\n"
     ]
    },
    {
     "name": "stderr",
     "output_type": "stream",
     "text": [
      "100%|██████████| 38000/38000 [04:29<00:00, 140.84it/s]\n"
     ]
    }
   ],
   "source": [
    "ground_truth_dir = '/home/panagoa/collected_1_from_oshamaho'\n",
    "ground_truth_files = os.listdir(ground_truth_dir)\n",
    "\n",
    "txt = [f for f in ground_truth_files if f.endswith('.txt')]\n",
    "png = [f for f in ground_truth_files if f.endswith('.png')]\n",
    "box = [f for f in ground_truth_files if f.endswith('.box')]\n",
    "lstmf = [f for f in ground_truth_files if f.endswith('.lstmf')]\n",
    "\n",
    "print(len(txt), len(png), len(box), len(lstmf))\n",
    "\n",
    "wo_boxes = set([f.replace('.png', '') for f in png]).difference([f.replace('.lstmf', '') for f in lstmf])\n",
    "print(len(wo_boxes))\n",
    "run_prepare(wo_boxes, ground_truth_dir, tesstrain_dir='../tesstrain')"
   ],
   "metadata": {
    "collapsed": false,
    "ExecuteTime": {
     "end_time": "2024-04-18T00:02:23.785455473Z",
     "start_time": "2024-04-17T23:57:53.923744721Z"
    }
   },
   "id": "df0f62d3733d6611"
  },
  {
   "cell_type": "code",
   "execution_count": null,
   "outputs": [],
   "source": [],
   "metadata": {
    "collapsed": false
   },
   "id": "1c2db56729654488"
  }
 ],
 "metadata": {
  "kernelspec": {
   "display_name": "Python 3",
   "language": "python",
   "name": "python3"
  },
  "language_info": {
   "codemirror_mode": {
    "name": "ipython",
    "version": 2
   },
   "file_extension": ".py",
   "mimetype": "text/x-python",
   "name": "python",
   "nbconvert_exporter": "python",
   "pygments_lexer": "ipython2",
   "version": "2.7.6"
  }
 },
 "nbformat": 4,
 "nbformat_minor": 5
}
