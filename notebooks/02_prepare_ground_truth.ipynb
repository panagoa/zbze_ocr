{
 "cells": [
  {
   "cell_type": "code",
   "execution_count": 1,
   "outputs": [],
   "source": [
    "import os\n",
    "import subprocess\n",
    "from subprocess import list2cmdline\n",
    "\n",
    "\n",
    "def _rm_on_fail(name, ground_truth_dir):\n",
    "    print(f\"rm {name} files (png, box, gt.txt, lstmf)\")\n",
    "    os.remove(os.path.join(ground_truth_dir, f\"{name}.box\"))\n",
    "    os.remove(os.path.join(ground_truth_dir, f\"{name}.png\"))\n",
    "    os.remove(os.path.join(ground_truth_dir, f\"{name}.gt.txt\"))\n",
    "    os.remove(os.path.join(ground_truth_dir, f\"{name}.lstmf\"))\n",
    "\n",
    "\n",
    "def _run_prepare(name, ground_truth_dir, tesstrain_dir):\n",
    "    with open(os.path.join(ground_truth_dir, f\"{name}.box\"), \"w\") as box_file:\n",
    "        cmd1 = [\n",
    "            \"PYTHONIOENCODING=utf-8\",\n",
    "            \"python3\",\n",
    "            os.path.join(tesstrain_dir, \"generate_line_box.py\"),\n",
    "            \"-i\",\n",
    "            os.path.join(ground_truth_dir, f\"{name}.png\"),\n",
    "            \"-t\",\n",
    "            os.path.join(ground_truth_dir, f\"{name}.gt.txt\"),\n",
    "        ]\n",
    "        cmd1 = list2cmdline(cmd1)\n",
    "        try:\n",
    "            subprocess.run(cmd1, shell=True, stdout=box_file, text=True)\n",
    "        except Exception as e:\n",
    "            print(e)\n",
    "            _rm_on_fail(name, ground_truth_dir)\n",
    "\n",
    "    # Команда для tesseract\n",
    "    cmd2 = [\n",
    "        \"tesseract\",\n",
    "        os.path.join(ground_truth_dir, f\"{name}.png\"),\n",
    "        os.path.join(ground_truth_dir, f\"{name}\"),\n",
    "        \"--psm\",\n",
    "        \"13\",\n",
    "        \"lstm.train\",\n",
    "    ]\n",
    "    cmd2 = list2cmdline(cmd2)\n",
    "\n",
    "    try:\n",
    "        subprocess.run(cmd2, shell=True, text=True)\n",
    "    except Exception as e:\n",
    "        print(e)\n",
    "        _rm_on_fail(name, ground_truth_dir)"
   ],
   "metadata": {
    "collapsed": false,
    "ExecuteTime": {
     "end_time": "2023-11-13T19:01:14.853814Z",
     "start_time": "2023-11-13T19:01:14.839851Z"
    }
   },
   "id": "fcd79158adbe3b22"
  },
  {
   "cell_type": "code",
   "execution_count": 2,
   "outputs": [],
   "source": [
    "import concurrent\n",
    "from concurrent.futures import ThreadPoolExecutor\n",
    "from tqdm import tqdm\n",
    "\n",
    "par_factor = 4\n",
    "\n",
    "\n",
    "def run_prepare(boxes, ground_truth_dir, tesstrain_dir):\n",
    "    with tqdm(total=len(boxes)) as pbar, ThreadPoolExecutor(max_workers=par_factor) as executor:\n",
    "        futures = [\n",
    "            executor.submit(\n",
    "                _run_prepare,\n",
    "                b,\n",
    "                ground_truth_dir,\n",
    "                tesstrain_dir,\n",
    "            )\n",
    "            for b in boxes\n",
    "        ]\n",
    "        for future in concurrent.futures.as_completed(futures):\n",
    "            try:\n",
    "                future.result()\n",
    "                pbar.update(1)\n",
    "            except Exception as e:\n",
    "                raise e"
   ],
   "metadata": {
    "collapsed": false,
    "ExecuteTime": {
     "end_time": "2023-11-13T19:01:15.696444Z",
     "start_time": "2023-11-13T19:01:15.675234Z"
    }
   },
   "id": "38682b11c3d76ea0"
  },
  {
   "cell_type": "code",
   "execution_count": null,
   "outputs": [
    {
     "name": "stdout",
     "output_type": "stream",
     "text": [
      "0\n",
      "0\n",
      "0\n"
     ]
    }
   ],
   "source": [
    "tesstrain_dir = \"/Users/panagoa/PycharmProjects/tesstrain\"\n",
    "tess_data_dir = \"/Users/panagoa/tesstrain_data\"\n",
    "\n",
    "for dir_name in [\n",
    "    \"joined_words_freq_600000_oshamaho_aa\",\n",
    "    \"joined_words_freq_600000_oshamaho_ab\",\n",
    "    \"joined_words_freq_900000_adyghepsale_ru_aa\",\n",
    "    \"joined_words_freq_900000_adyghepsale_ru_ab\",\n",
    "    \"joined_words_freq_900000_adyghepsale_ru_ac\",\n",
    "]:\n",
    "    ground_truth_dir = os.path.join(tess_data_dir, dir_name)\n",
    "    ground_truth = os.listdir(ground_truth_dir)\n",
    "\n",
    "    txt = [f for f in ground_truth if f.endswith(\".txt\")]\n",
    "    png = [f for f in ground_truth if f.endswith(\".png\")]\n",
    "    box = [f for f in ground_truth if f.endswith(\".box\")]\n",
    "    lstmf = [f for f in ground_truth if f.endswith(\".lstmf\")]\n",
    "\n",
    "    wo_boxes = set([f.replace(\".png\", \"\") for f in png]).difference([f.replace(\".lstmf\", \"\") for f in lstmf])\n",
    "    print(len(wo_boxes))\n",
    "    run_prepare(wo_boxes, ground_truth_dir, tesstrain_dir)"
   ],
   "metadata": {
    "collapsed": false,
    "ExecuteTime": {
     "start_time": "2023-11-13T19:01:16.445709Z"
    }
   },
   "id": "df0f62d3733d6611"
  },
  {
   "cell_type": "code",
   "execution_count": null,
   "outputs": [],
   "source": [
    "tesstrain_dir = \"/Users/panagoa/PycharmProjects/tesstrain\"\n",
    "ground_truth_dir = os.path.join(tesstrain_dir, \"data\", \"kbd-ground-truth-ng-font\")\n",
    "print(os.listdir(ground_truth_dir), \"\\n\")"
   ],
   "metadata": {
    "collapsed": false
   },
   "id": "5470caf260b1a4d5"
  },
  {
   "cell_type": "code",
   "execution_count": null,
   "outputs": [],
   "source": [],
   "metadata": {
    "collapsed": false
   },
   "id": "1c2db56729654488"
  }
 ],
 "metadata": {
  "kernelspec": {
   "display_name": "Python 3",
   "language": "python",
   "name": "python3"
  },
  "language_info": {
   "codemirror_mode": {
    "name": "ipython",
    "version": 2
   },
   "file_extension": ".py",
   "mimetype": "text/x-python",
   "name": "python",
   "nbconvert_exporter": "python",
   "pygments_lexer": "ipython2",
   "version": "2.7.6"
  }
 },
 "nbformat": 4,
 "nbformat_minor": 5
}
