{
 "cells": [
  {
   "cell_type": "code",
   "execution_count": 5,
   "outputs": [],
   "source": [
    "import re\n",
    "import os\n",
    "\n",
    "input_dir = os.path.join(\"..\", \"data/tesstrain/kbd/data/input\")\n",
    "output_dir = os.path.join(\"..\", \"data/tesstrain/kbd/data/output\")\n",
    "\n",
    "file_path = os.path.join(input_dir, \"oshamaho.txt\")\n",
    "f_name = os.path.basename(file_path)\n",
    "\n",
    "lines = []\n",
    "with open(file_path, \"r\", encoding=\"utf-8\") as f:\n",
    "    _lines = f.readlines()\n",
    "    lines.extend(_lines)\n",
    "\n",
    "lines = [line.strip() for line in set(lines) if len(line.strip()) > 20]\n",
    "\n",
    "BAD_CHAR_ENCODING_CLEAN_REGEX = r\"[^АаБбВвГгДдЕеЁёЖжЗзИиЙйКкЛлМмНнОоПпРрСсТтУуФфХхЦцЧчШшЩщЪъЫыЬьЭэЮюЯяIi1\\-\\.\\,\\:\\; \\\n",
    "-!?–…«»1234567890)(№*×><]+\"\n",
    "\n",
    "\n",
    "def clean_text(text):\n",
    "    text = text.replace(\"i\", \"I\")\n",
    "    text = text.replace(\"ӏ\", \"I\")\n",
    "    text = text.replace(\"Ӏ\", \"I\")\n",
    "\n",
    "    text = re.sub(r\"\\(cid:.*\\)\", \"\", text)\n",
    "    text = text.replace(\"\\n\\n\", \"\\n\")\n",
    "\n",
    "    text = text.replace(\" - \", \"-\")\n",
    "    text = text.replace(\"- \", \"-\")\n",
    "    text = text.replace(\" -\", \"-\")\n",
    "    text = text.replace(\"-\\n\", \"\")\n",
    "    text = text.replace(\"\\n\", \" \")\n",
    "    text = text.replace(\"  \", \" \")\n",
    "\n",
    "    text = re.sub(BAD_CHAR_ENCODING_CLEAN_REGEX, \"\", text)\n",
    "\n",
    "    return text\n",
    "\n",
    "\n",
    "lines = [clean_text(line) for line in lines if not re.search(BAD_CHAR_ENCODING_CLEAN_REGEX, line)]"
   ],
   "metadata": {
    "collapsed": false,
    "ExecuteTime": {
     "end_time": "2023-11-05T02:36:38.817120Z",
     "start_time": "2023-11-05T02:36:30.764863Z"
    }
   },
   "id": "1659702ee0c328d3"
  },
  {
   "cell_type": "code",
   "execution_count": 6,
   "outputs": [],
   "source": [
    "with open(os.path.join(output_dir, f\"sorted_{f_name}\"), \"w\", encoding=\"utf-8\") as f:\n",
    "    f.write(\"\\n\".join(sorted(set(lines))))"
   ],
   "metadata": {
    "collapsed": false,
    "ExecuteTime": {
     "end_time": "2023-11-05T02:36:50.520980Z",
     "start_time": "2023-11-05T02:36:50.494501Z"
    }
   },
   "id": "1221636c05ec6199"
  },
  {
   "cell_type": "code",
   "execution_count": 16,
   "outputs": [],
   "source": [
    "from collections import defaultdict\n",
    "import random\n",
    "\n",
    "interesting_char_pairs = [\n",
    "    \"Н\",\n",
    "    \"П\",\n",
    "    \"Ш\",\n",
    "    \"I\",\n",
    "    \"Л\",\n",
    "    \"Т\",\n",
    "    \"Х\",\n",
    "    \"К\",\n",
    "    \"Пи\",\n",
    "    \"Пш\",\n",
    "    \"Пщ\",\n",
    "    \"ПI\",\n",
    "    \"ПщI\",\n",
    "    \"ЩI\",\n",
    "    \"щI\",\n",
    "    \"ТI\",\n",
    "    \"тI\",\n",
    "    \"ЛI\",\n",
    "    \"лI\",\n",
    "    \"лъ\",\n",
    "    \"Хъ\",\n",
    "    \"хъ\",\n",
    "    \"Хъу\",\n",
    "    \"хъу\",\n",
    "    \"хь\",\n",
    "    \"Iэ\",\n",
    "    \"Iы\",\n",
    "    \"Iу\",\n",
    "    \"КI\",\n",
    "    \"кI\",\n",
    "    \"Ку\",\n",
    "    \"ку\",\n",
    "    \"КIу\",\n",
    "    \"кIу\",\n",
    "    \"Къ\",\n",
    "    \"къ\",\n",
    "    \"къу\",\n",
    "    \"Къу\",\n",
    "    \"Жь\",\n",
    "    \"жь\",\n",
    "    \"дж\",\n",
    "    \"дж\",\n",
    "    \"се\",\n",
    "    \"те\",\n",
    "    \"ре\",\n",
    "    \"еи\",\n",
    "    \"си\",\n",
    "    \"цI\",\n",
    "]\n",
    "\n",
    "\n",
    "def choose_lines(lines, limit):\n",
    "    ng_lines = set()\n",
    "    lines_by_ng = defaultdict(set)\n",
    "\n",
    "    random.shuffle(lines)\n",
    "\n",
    "    for line in lines:\n",
    "        for ng in interesting_char_pairs:\n",
    "            if len(lines_by_ng[ng]) > limit / len(interesting_char_pairs) * 3:\n",
    "                continue\n",
    "\n",
    "            if ng in line:\n",
    "                lines_by_ng[ng].add(line)\n",
    "                ng_lines.add(line)\n",
    "\n",
    "        if len(ng_lines) >= limit:\n",
    "            break\n",
    "\n",
    "    return ng_lines"
   ],
   "metadata": {
    "collapsed": false,
    "ExecuteTime": {
     "end_time": "2023-11-05T03:13:01.365530Z",
     "start_time": "2023-11-05T03:13:01.229236Z"
    }
   },
   "id": "cb0f3eeecdd2e771"
  },
  {
   "cell_type": "code",
   "execution_count": 18,
   "outputs": [],
   "source": [
    "limit = 1000\n",
    "for index in range(1, 6):\n",
    "    ng_lines = choose_lines(lines, limit)\n",
    "\n",
    "    with open(os.path.join(output_dir, f\"ng_lines_{limit}_{index}_{f_name}\"), \"w\", encoding=\"utf-8\") as f:\n",
    "        f.write(\"\\n\".join(sorted(ng_lines)))"
   ],
   "metadata": {
    "collapsed": false,
    "ExecuteTime": {
     "end_time": "2023-11-05T03:17:13.037722Z",
     "start_time": "2023-11-05T03:17:08.713613Z"
    }
   },
   "id": "a274ca240c35870a"
  },
  {
   "cell_type": "code",
   "execution_count": null,
   "outputs": [],
   "source": [],
   "metadata": {
    "collapsed": false
   },
   "id": "d36c417fbc46fbaf"
  }
 ],
 "metadata": {
  "kernelspec": {
   "display_name": "Python 3",
   "language": "python",
   "name": "python3"
  },
  "language_info": {
   "codemirror_mode": {
    "name": "ipython",
    "version": 2
   },
   "file_extension": ".py",
   "mimetype": "text/x-python",
   "name": "python",
   "nbconvert_exporter": "python",
   "pygments_lexer": "ipython2",
   "version": "2.7.6"
  }
 },
 "nbformat": 4,
 "nbformat_minor": 5
}
