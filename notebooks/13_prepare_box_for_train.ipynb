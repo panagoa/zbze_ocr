{
 "cells": [
  {
   "cell_type": "code",
   "execution_count": 19,
   "id": "initial_id",
   "metadata": {
    "collapsed": true,
    "ExecuteTime": {
     "end_time": "2024-04-22T23:57:20.157143Z",
     "start_time": "2024-04-22T23:57:20.098741Z"
    }
   },
   "outputs": [],
   "source": [
    "import os\n",
    "import shutil\n",
    "from uuid import uuid4\n",
    "\n",
    "finetune_box_input_dir = '../tesseract/finetune_boxes/input'\n",
    "finetune_box_output_dir = '../tesseract/finetune_boxes/output'\n",
    "os.makedirs(finetune_box_output_dir, exist_ok=True)\n",
    "\n",
    "for page in sorted(os.listdir(finetune_box_input_dir)):\n",
    "    if page.startswith('.'):\n",
    "        continue\n",
    "\n",
    "    for line in sorted(os.listdir(os.path.join(finetune_box_input_dir, page))):\n",
    "        if line.endswith('.txt'):\n",
    "            continue\n",
    "        \n",
    "        if line.startswith('.'):\n",
    "            continue\n",
    "\n",
    "        uid = str(uuid4())\n",
    "\n",
    "        shutil.move(\n",
    "            src=os.path.join(finetune_box_input_dir, page, line),\n",
    "            dst=os.path.join(finetune_box_output_dir, f'{uid}.jpg')\n",
    "        )\n",
    "\n",
    "        shutil.move(\n",
    "            src=os.path.join(finetune_box_input_dir, page, line.replace('.jpg', '.txt')),\n",
    "            dst=os.path.join(finetune_box_output_dir, f'{uid}.gt.txt')\n",
    "        )"
   ]
  },
  {
   "cell_type": "code",
   "outputs": [],
   "source": [],
   "metadata": {
    "collapsed": false
   },
   "id": "4f85db5d484e6cf7"
  }
 ],
 "metadata": {
  "kernelspec": {
   "display_name": "Python 3",
   "language": "python",
   "name": "python3"
  },
  "language_info": {
   "codemirror_mode": {
    "name": "ipython",
    "version": 2
   },
   "file_extension": ".py",
   "mimetype": "text/x-python",
   "name": "python",
   "nbconvert_exporter": "python",
   "pygments_lexer": "ipython2",
   "version": "2.7.6"
  }
 },
 "nbformat": 4,
 "nbformat_minor": 5
}
