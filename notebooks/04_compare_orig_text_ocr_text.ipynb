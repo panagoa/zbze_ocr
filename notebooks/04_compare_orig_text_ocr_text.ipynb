{
 "cells": [
  {
   "cell_type": "code",
   "execution_count": 8,
   "id": "initial_id",
   "metadata": {
    "collapsed": true,
    "ExecuteTime": {
     "end_time": "2023-10-22T02:25:37.869402Z",
     "start_time": "2023-10-22T02:25:37.841694Z"
    }
   },
   "outputs": [],
   "source": [
    "import os\n",
    "\n",
    "book_base_dir = \"../data/dag_results/pdf_processing/dysche_zhyg.pdf\"\n",
    "lang_1 = \"kbd_0.229_2995_10800\"\n",
    "lang_2 = \"kbd_0.009_4360_66700\"\n",
    "lang_1_text_dir = os.path.join(book_base_dir, lang_1, \"txts\")\n",
    "lang_2_text_dir = os.path.join(book_base_dir, lang_2, \"txts\")\n",
    "\n",
    "lang_1_text_by_page = []\n",
    "for text_f in sorted(os.listdir(lang_1_text_dir)):\n",
    "    with open(os.path.join(lang_1_text_dir, text_f)) as f:\n",
    "        text = f.read()\n",
    "        lang_1_text_by_page.append(text)\n",
    "\n",
    "lang_2_text_by_page = []\n",
    "for text_f in sorted(os.listdir(lang_2_text_dir)):\n",
    "    with open(os.path.join(lang_2_text_dir, text_f)) as f:\n",
    "        text = f.read()\n",
    "        lang_2_text_by_page.append(text)"
   ]
  },
  {
   "cell_type": "code",
   "execution_count": 9,
   "outputs": [],
   "source": [
    "from difflib import Differ, HtmlDiff\n",
    "\n",
    "d = Differ()\n",
    "html_diff = HtmlDiff()\n",
    "\n",
    "merged_text = \"\"\n",
    "\n",
    "for page_i in range(len(lang_2_text_by_page)):\n",
    "    # diff = d.compare(lang_1_text_by_page[page_i], lang_1_text_by_page[page_i])\n",
    "    diff = html_diff.make_file(\n",
    "        fromlines=lang_1_text_by_page[page_i].splitlines(keepends=True),\n",
    "        tolines=lang_2_text_by_page[page_i].splitlines(keepends=True),\n",
    "        fromdesc=f\"page:{page_i} ({lang_1})\",\n",
    "        todesc=f\"page:{page_i} ({lang_1})\",\n",
    "        context=True,\n",
    "    )\n",
    "    merged_text += diff\n",
    "\n",
    "output_file = os.path.join(book_base_dir, f\"merged_diff_{lang_1}_vs_{lang_2}.html\")\n",
    "with open(output_file, \"w\", encoding=\"utf-8\") as file:\n",
    "    file.write(merged_text)"
   ],
   "metadata": {
    "collapsed": false,
    "ExecuteTime": {
     "end_time": "2023-10-22T02:25:38.623138Z",
     "start_time": "2023-10-22T02:25:38.527790Z"
    }
   },
   "id": "d352014c49a0df31"
  },
  {
   "cell_type": "code",
   "execution_count": null,
   "outputs": [],
   "source": [],
   "metadata": {
    "collapsed": false
   },
   "id": "3837f6950c405c8c"
  }
 ],
 "metadata": {
  "kernelspec": {
   "display_name": "Python 3",
   "language": "python",
   "name": "python3"
  },
  "language_info": {
   "codemirror_mode": {
    "name": "ipython",
    "version": 2
   },
   "file_extension": ".py",
   "mimetype": "text/x-python",
   "name": "python",
   "nbconvert_exporter": "python",
   "pygments_lexer": "ipython2",
   "version": "2.7.6"
  }
 },
 "nbformat": 4,
 "nbformat_minor": 5
}
