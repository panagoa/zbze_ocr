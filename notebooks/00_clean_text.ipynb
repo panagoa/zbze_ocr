{
 "cells": [
  {
   "cell_type": "code",
   "execution_count": 1,
   "outputs": [],
   "source": [
    "import os\n",
    "\n",
    "from dags.src.text_cleaner import clean_text\n",
    "\n",
    "input_dir = os.path.join('..', 'data/tesstrain/kbd/data/input')\n",
    "output_dir = os.path.join('..', 'data/tesstrain/kbd/data/output')\n",
    "\n",
    "file_path = os.path.join(input_dir, 'oshamaho.txt')\n",
    "\n",
    "with open(file_path, 'r', encoding='utf-8') as f:\n",
    "    text = f.read()\n",
    "\n",
    "text = clean_text(text)\n",
    "\n",
    "with open(file_path, 'w', encoding='utf-8') as f:\n",
    "    f.write(text)"
   ],
   "metadata": {
    "collapsed": false,
    "ExecuteTime": {
     "end_time": "2023-11-12T00:02:16.105461Z",
     "start_time": "2023-11-12T00:02:08.473788Z"
    }
   }
  },
  {
   "cell_type": "code",
   "execution_count": null,
   "outputs": [],
   "source": [],
   "metadata": {
    "collapsed": false
   }
  }
 ],
 "metadata": {
  "kernelspec": {
   "display_name": "Python 3",
   "language": "python",
   "name": "python3"
  },
  "language_info": {
   "codemirror_mode": {
    "name": "ipython",
    "version": 2
   },
   "file_extension": ".py",
   "mimetype": "text/x-python",
   "name": "python",
   "nbconvert_exporter": "python",
   "pygments_lexer": "ipython2",
   "version": "2.7.6"
  }
 },
 "nbformat": 4,
 "nbformat_minor": 0
}
