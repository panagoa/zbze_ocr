{
 "cells": [
  {
   "cell_type": "code",
   "execution_count": 4,
   "outputs": [],
   "source": [
    "import os\n",
    "import random\n",
    "\n",
    "from dags.src.text_cleaner import clean_text\n",
    "\n",
    "input_dir = os.path.join(\"..\", \"data/tesstrain/kbd/data/input\")\n",
    "output_dir = os.path.join(\"..\", \"data/tesstrain/kbd/data/output\")\n",
    "\n",
    "f_name = \"oshamaho.txt\"\n",
    "file_path = os.path.join(input_dir, f_name)\n",
    "\n",
    "with open(file_path, \"r\", encoding=\"utf-8\") as f:\n",
    "    text = f.read()\n",
    "\n",
    "text = clean_text(text)\n",
    "\n",
    "lines = [line for line in text.split(\"\\n\") if 60 <= len(line) <= 80]"
   ],
   "metadata": {
    "collapsed": false,
    "ExecuteTime": {
     "end_time": "2023-11-06T20:15:06.704556Z",
     "start_time": "2023-11-06T20:15:03.733546Z"
    }
   }
  },
  {
   "cell_type": "code",
   "execution_count": 12,
   "outputs": [],
   "source": [
    "import random\n",
    "\n",
    "limit = 5000\n",
    "index = 4\n",
    "\n",
    "collected_lines = set()\n",
    "for _ in range(limit):\n",
    "    rnd_line = random.choice(lines)\n",
    "    collected_lines.add(rnd_line)\n",
    "    lines.remove(rnd_line)\n",
    "\n",
    "with open(os.path.join(output_dir, f\"collected_{index}_from_{f_name}\"), \"w\") as f:\n",
    "    f.write(\"\\n\".join(sorted(collected_lines)))"
   ],
   "metadata": {
    "collapsed": false,
    "ExecuteTime": {
     "end_time": "2023-11-06T20:18:09.444423Z",
     "start_time": "2023-11-06T20:18:06.107430Z"
    }
   }
  },
  {
   "cell_type": "code",
   "execution_count": 9,
   "outputs": [],
   "source": [],
   "metadata": {
    "collapsed": false,
    "ExecuteTime": {
     "end_time": "2023-11-06T20:17:01.841219Z",
     "start_time": "2023-11-06T20:17:01.833859Z"
    }
   }
  },
  {
   "cell_type": "code",
   "execution_count": null,
   "outputs": [],
   "source": [],
   "metadata": {
    "collapsed": false
   }
  }
 ],
 "metadata": {
  "kernelspec": {
   "display_name": "Python 3",
   "language": "python",
   "name": "python3"
  },
  "language_info": {
   "codemirror_mode": {
    "name": "ipython",
    "version": 2
   },
   "file_extension": ".py",
   "mimetype": "text/x-python",
   "name": "python",
   "nbconvert_exporter": "python",
   "pygments_lexer": "ipython2",
   "version": "2.7.6"
  }
 },
 "nbformat": 4,
 "nbformat_minor": 0
}
