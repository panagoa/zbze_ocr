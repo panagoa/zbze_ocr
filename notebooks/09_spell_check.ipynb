{
 "cells": [
  {
   "cell_type": "code",
   "execution_count": 1,
   "outputs": [],
   "source": [
    "import os.path\n",
    "\n",
    "pdf_dir = \"../data/dag_results/pdf_processing/2.pdf/rslt_kbd\""
   ],
   "metadata": {
    "collapsed": false,
    "pycharm": {
     "name": "#%%\n"
    },
    "ExecuteTime": {
     "end_time": "2024-01-28T20:41:22.301737684Z",
     "start_time": "2024-01-28T20:41:22.301444542Z"
    }
   }
  },
  {
   "cell_type": "code",
   "execution_count": 2,
   "metadata": {
    "collapsed": true,
    "ExecuteTime": {
     "end_time": "2024-01-28T20:41:23.054858074Z",
     "start_time": "2024-01-28T20:41:23.052374210Z"
    }
   },
   "outputs": [],
   "source": [
    "with open(os.path.join(pdf_dir, \"all.txt\"), \"r\") as f:\n",
    "    text = f.read()"
   ]
  },
  {
   "cell_type": "code",
   "execution_count": 3,
   "outputs": [],
   "source": [
    "from dags.src.spell_checker.checker import create_spell_checker_service\n",
    "\n",
    "spell_checker = create_spell_checker_service()"
   ],
   "metadata": {
    "collapsed": false,
    "ExecuteTime": {
     "end_time": "2024-01-28T20:41:26.846071588Z",
     "start_time": "2024-01-28T20:41:23.836596476Z"
    }
   }
  },
  {
   "cell_type": "code",
   "execution_count": 4,
   "outputs": [
    {
     "name": "stderr",
     "output_type": "stream",
     "text": [
      "100%|██████████| 19439/19439 [00:02<00:00, 8358.69it/s]\n"
     ]
    }
   ],
   "source": [
    "import nltk\n",
    "\n",
    "spell_result_df = spell_checker.predict(nltk.word_tokenize(text), return_df=True)"
   ],
   "metadata": {
    "collapsed": false,
    "ExecuteTime": {
     "end_time": "2024-01-28T20:41:32.352318321Z",
     "start_time": "2024-01-28T20:41:29.481599037Z"
    }
   }
  },
  {
   "cell_type": "code",
   "execution_count": 5,
   "outputs": [],
   "source": [
    "import re\n",
    "from dags.src.lang_compare import get_book_df\n",
    "\n",
    "ocr_rslt_df = get_book_df(os.path.join(pdf_dir, \"tsvs\"))\n",
    "ocr_rslt_df.fillna(\"\", inplace=True)\n",
    "\n",
    "\n",
    "def clean_char(word):\n",
    "    return re.sub(r\"[-.:;,!?)(]\", r\"\", word)\n",
    "\n",
    "\n",
    "ocr_rslt_df[\"word\"] = ocr_rslt_df[\"text\"].apply(clean_char)"
   ],
   "metadata": {
    "collapsed": false,
    "ExecuteTime": {
     "end_time": "2024-01-28T20:41:34.352944613Z",
     "start_time": "2024-01-28T20:41:33.641562604Z"
    }
   }
  },
  {
   "cell_type": "code",
   "execution_count": 6,
   "outputs": [
    {
     "data": {
      "text/plain": "       level  page_num  block_num  par_num  line_num  word_num  left  top  \\\n0          1         1          0        0         0         0     0    0   \n1          2         1          1        0         0         0    10    0   \n2          3         1          1        1         0         0    10    0   \n3          4         1          1        1         1         0   452    0   \n4          5         1          1        1         1         1   452    0   \n...      ...       ...        ...      ...       ...       ...   ...  ...   \n60436      5         1          1        1         1         1    60  832   \n60437      2         1          2        0         0         0  1698   22   \n60438      3         1          2        1         0         0  1698   22   \n60439      4         1          2        1         1         0  1698   22   \n60440      5         1          2        1         1         1  1698   22   \n\n       width  height  conf text      page word  \n0       1786    2449  -1.0       page-001       \n1       1600    2084  -1.0       page-001       \n2       1600    2084  -1.0       page-001       \n3       1138     174  -1.0       page-001       \n4       1138     174  95.0       page-001       \n...      ...     ...   ...  ...       ...  ...  \n60436     15    1630  95.0       page-255       \n60437     92    2446  -1.0       page-255       \n60438     92    2446  -1.0       page-255       \n60439     92    2446  -1.0       page-255       \n60440     92    2446  95.0       page-255       \n\n[60441 rows x 14 columns]",
      "text/html": "<div>\n<style scoped>\n    .dataframe tbody tr th:only-of-type {\n        vertical-align: middle;\n    }\n\n    .dataframe tbody tr th {\n        vertical-align: top;\n    }\n\n    .dataframe thead th {\n        text-align: right;\n    }\n</style>\n<table border=\"1\" class=\"dataframe\">\n  <thead>\n    <tr style=\"text-align: right;\">\n      <th></th>\n      <th>level</th>\n      <th>page_num</th>\n      <th>block_num</th>\n      <th>par_num</th>\n      <th>line_num</th>\n      <th>word_num</th>\n      <th>left</th>\n      <th>top</th>\n      <th>width</th>\n      <th>height</th>\n      <th>conf</th>\n      <th>text</th>\n      <th>page</th>\n      <th>word</th>\n    </tr>\n  </thead>\n  <tbody>\n    <tr>\n      <th>0</th>\n      <td>1</td>\n      <td>1</td>\n      <td>0</td>\n      <td>0</td>\n      <td>0</td>\n      <td>0</td>\n      <td>0</td>\n      <td>0</td>\n      <td>1786</td>\n      <td>2449</td>\n      <td>-1.0</td>\n      <td></td>\n      <td>page-001</td>\n      <td></td>\n    </tr>\n    <tr>\n      <th>1</th>\n      <td>2</td>\n      <td>1</td>\n      <td>1</td>\n      <td>0</td>\n      <td>0</td>\n      <td>0</td>\n      <td>10</td>\n      <td>0</td>\n      <td>1600</td>\n      <td>2084</td>\n      <td>-1.0</td>\n      <td></td>\n      <td>page-001</td>\n      <td></td>\n    </tr>\n    <tr>\n      <th>2</th>\n      <td>3</td>\n      <td>1</td>\n      <td>1</td>\n      <td>1</td>\n      <td>0</td>\n      <td>0</td>\n      <td>10</td>\n      <td>0</td>\n      <td>1600</td>\n      <td>2084</td>\n      <td>-1.0</td>\n      <td></td>\n      <td>page-001</td>\n      <td></td>\n    </tr>\n    <tr>\n      <th>3</th>\n      <td>4</td>\n      <td>1</td>\n      <td>1</td>\n      <td>1</td>\n      <td>1</td>\n      <td>0</td>\n      <td>452</td>\n      <td>0</td>\n      <td>1138</td>\n      <td>174</td>\n      <td>-1.0</td>\n      <td></td>\n      <td>page-001</td>\n      <td></td>\n    </tr>\n    <tr>\n      <th>4</th>\n      <td>5</td>\n      <td>1</td>\n      <td>1</td>\n      <td>1</td>\n      <td>1</td>\n      <td>1</td>\n      <td>452</td>\n      <td>0</td>\n      <td>1138</td>\n      <td>174</td>\n      <td>95.0</td>\n      <td></td>\n      <td>page-001</td>\n      <td></td>\n    </tr>\n    <tr>\n      <th>...</th>\n      <td>...</td>\n      <td>...</td>\n      <td>...</td>\n      <td>...</td>\n      <td>...</td>\n      <td>...</td>\n      <td>...</td>\n      <td>...</td>\n      <td>...</td>\n      <td>...</td>\n      <td>...</td>\n      <td>...</td>\n      <td>...</td>\n      <td>...</td>\n    </tr>\n    <tr>\n      <th>60436</th>\n      <td>5</td>\n      <td>1</td>\n      <td>1</td>\n      <td>1</td>\n      <td>1</td>\n      <td>1</td>\n      <td>60</td>\n      <td>832</td>\n      <td>15</td>\n      <td>1630</td>\n      <td>95.0</td>\n      <td></td>\n      <td>page-255</td>\n      <td></td>\n    </tr>\n    <tr>\n      <th>60437</th>\n      <td>2</td>\n      <td>1</td>\n      <td>2</td>\n      <td>0</td>\n      <td>0</td>\n      <td>0</td>\n      <td>1698</td>\n      <td>22</td>\n      <td>92</td>\n      <td>2446</td>\n      <td>-1.0</td>\n      <td></td>\n      <td>page-255</td>\n      <td></td>\n    </tr>\n    <tr>\n      <th>60438</th>\n      <td>3</td>\n      <td>1</td>\n      <td>2</td>\n      <td>1</td>\n      <td>0</td>\n      <td>0</td>\n      <td>1698</td>\n      <td>22</td>\n      <td>92</td>\n      <td>2446</td>\n      <td>-1.0</td>\n      <td></td>\n      <td>page-255</td>\n      <td></td>\n    </tr>\n    <tr>\n      <th>60439</th>\n      <td>4</td>\n      <td>1</td>\n      <td>2</td>\n      <td>1</td>\n      <td>1</td>\n      <td>0</td>\n      <td>1698</td>\n      <td>22</td>\n      <td>92</td>\n      <td>2446</td>\n      <td>-1.0</td>\n      <td></td>\n      <td>page-255</td>\n      <td></td>\n    </tr>\n    <tr>\n      <th>60440</th>\n      <td>5</td>\n      <td>1</td>\n      <td>2</td>\n      <td>1</td>\n      <td>1</td>\n      <td>1</td>\n      <td>1698</td>\n      <td>22</td>\n      <td>92</td>\n      <td>2446</td>\n      <td>95.0</td>\n      <td></td>\n      <td>page-255</td>\n      <td></td>\n    </tr>\n  </tbody>\n</table>\n<p>60441 rows × 14 columns</p>\n</div>"
     },
     "execution_count": 6,
     "metadata": {},
     "output_type": "execute_result"
    }
   ],
   "source": [
    "ocr_rslt_df"
   ],
   "metadata": {
    "collapsed": false,
    "ExecuteTime": {
     "end_time": "2024-01-28T20:41:35.361310820Z",
     "start_time": "2024-01-28T20:41:35.343808410Z"
    }
   }
  },
  {
   "cell_type": "code",
   "execution_count": 7,
   "outputs": [],
   "source": [
    "import pandas as pd\n",
    "\n",
    "result_df = pd.merge(ocr_rslt_df, spell_result_df, how=\"left\", left_on=\"word\", right_on=\"word\")"
   ],
   "metadata": {
    "collapsed": false,
    "ExecuteTime": {
     "end_time": "2024-01-28T20:41:40.083694146Z",
     "start_time": "2024-01-28T20:41:40.078420682Z"
    }
   }
  },
  {
   "cell_type": "code",
   "execution_count": 8,
   "outputs": [
    {
     "data": {
      "text/plain": "       level  page_num  block_num  par_num  line_num  word_num  left  top  \\\n0          1         1          0        0         0         0     0    0   \n1          2         1          1        0         0         0    10    0   \n2          3         1          1        1         0         0    10    0   \n3          4         1          1        1         1         0   452    0   \n4          5         1          1        1         1         1   452    0   \n...      ...       ...        ...      ...       ...       ...   ...  ...   \n60436      5         1          1        1         1         1    60  832   \n60437      2         1          2        0         0         0  1698   22   \n60438      3         1          2        1         0         0  1698   22   \n60439      4         1          2        1         1         0  1698   22   \n60440      5         1          2        1         1         1  1698   22   \n\n       width  height  conf text      page word calc freq  \n0       1786    2449  -1.0       page-001                 \n1       1600    2084  -1.0       page-001                 \n2       1600    2084  -1.0       page-001                 \n3       1138     174  -1.0       page-001                 \n4       1138     174  95.0       page-001                 \n...      ...     ...   ...  ...       ...  ...  ...  ...  \n60436     15    1630  95.0       page-255                 \n60437     92    2446  -1.0       page-255                 \n60438     92    2446  -1.0       page-255                 \n60439     92    2446  -1.0       page-255                 \n60440     92    2446  95.0       page-255                 \n\n[60441 rows x 16 columns]",
      "text/html": "<div>\n<style scoped>\n    .dataframe tbody tr th:only-of-type {\n        vertical-align: middle;\n    }\n\n    .dataframe tbody tr th {\n        vertical-align: top;\n    }\n\n    .dataframe thead th {\n        text-align: right;\n    }\n</style>\n<table border=\"1\" class=\"dataframe\">\n  <thead>\n    <tr style=\"text-align: right;\">\n      <th></th>\n      <th>level</th>\n      <th>page_num</th>\n      <th>block_num</th>\n      <th>par_num</th>\n      <th>line_num</th>\n      <th>word_num</th>\n      <th>left</th>\n      <th>top</th>\n      <th>width</th>\n      <th>height</th>\n      <th>conf</th>\n      <th>text</th>\n      <th>page</th>\n      <th>word</th>\n      <th>calc</th>\n      <th>freq</th>\n    </tr>\n  </thead>\n  <tbody>\n    <tr>\n      <th>0</th>\n      <td>1</td>\n      <td>1</td>\n      <td>0</td>\n      <td>0</td>\n      <td>0</td>\n      <td>0</td>\n      <td>0</td>\n      <td>0</td>\n      <td>1786</td>\n      <td>2449</td>\n      <td>-1.0</td>\n      <td></td>\n      <td>page-001</td>\n      <td></td>\n      <td></td>\n      <td></td>\n    </tr>\n    <tr>\n      <th>1</th>\n      <td>2</td>\n      <td>1</td>\n      <td>1</td>\n      <td>0</td>\n      <td>0</td>\n      <td>0</td>\n      <td>10</td>\n      <td>0</td>\n      <td>1600</td>\n      <td>2084</td>\n      <td>-1.0</td>\n      <td></td>\n      <td>page-001</td>\n      <td></td>\n      <td></td>\n      <td></td>\n    </tr>\n    <tr>\n      <th>2</th>\n      <td>3</td>\n      <td>1</td>\n      <td>1</td>\n      <td>1</td>\n      <td>0</td>\n      <td>0</td>\n      <td>10</td>\n      <td>0</td>\n      <td>1600</td>\n      <td>2084</td>\n      <td>-1.0</td>\n      <td></td>\n      <td>page-001</td>\n      <td></td>\n      <td></td>\n      <td></td>\n    </tr>\n    <tr>\n      <th>3</th>\n      <td>4</td>\n      <td>1</td>\n      <td>1</td>\n      <td>1</td>\n      <td>1</td>\n      <td>0</td>\n      <td>452</td>\n      <td>0</td>\n      <td>1138</td>\n      <td>174</td>\n      <td>-1.0</td>\n      <td></td>\n      <td>page-001</td>\n      <td></td>\n      <td></td>\n      <td></td>\n    </tr>\n    <tr>\n      <th>4</th>\n      <td>5</td>\n      <td>1</td>\n      <td>1</td>\n      <td>1</td>\n      <td>1</td>\n      <td>1</td>\n      <td>452</td>\n      <td>0</td>\n      <td>1138</td>\n      <td>174</td>\n      <td>95.0</td>\n      <td></td>\n      <td>page-001</td>\n      <td></td>\n      <td></td>\n      <td></td>\n    </tr>\n    <tr>\n      <th>...</th>\n      <td>...</td>\n      <td>...</td>\n      <td>...</td>\n      <td>...</td>\n      <td>...</td>\n      <td>...</td>\n      <td>...</td>\n      <td>...</td>\n      <td>...</td>\n      <td>...</td>\n      <td>...</td>\n      <td>...</td>\n      <td>...</td>\n      <td>...</td>\n      <td>...</td>\n      <td>...</td>\n    </tr>\n    <tr>\n      <th>60436</th>\n      <td>5</td>\n      <td>1</td>\n      <td>1</td>\n      <td>1</td>\n      <td>1</td>\n      <td>1</td>\n      <td>60</td>\n      <td>832</td>\n      <td>15</td>\n      <td>1630</td>\n      <td>95.0</td>\n      <td></td>\n      <td>page-255</td>\n      <td></td>\n      <td></td>\n      <td></td>\n    </tr>\n    <tr>\n      <th>60437</th>\n      <td>2</td>\n      <td>1</td>\n      <td>2</td>\n      <td>0</td>\n      <td>0</td>\n      <td>0</td>\n      <td>1698</td>\n      <td>22</td>\n      <td>92</td>\n      <td>2446</td>\n      <td>-1.0</td>\n      <td></td>\n      <td>page-255</td>\n      <td></td>\n      <td></td>\n      <td></td>\n    </tr>\n    <tr>\n      <th>60438</th>\n      <td>3</td>\n      <td>1</td>\n      <td>2</td>\n      <td>1</td>\n      <td>0</td>\n      <td>0</td>\n      <td>1698</td>\n      <td>22</td>\n      <td>92</td>\n      <td>2446</td>\n      <td>-1.0</td>\n      <td></td>\n      <td>page-255</td>\n      <td></td>\n      <td></td>\n      <td></td>\n    </tr>\n    <tr>\n      <th>60439</th>\n      <td>4</td>\n      <td>1</td>\n      <td>2</td>\n      <td>1</td>\n      <td>1</td>\n      <td>0</td>\n      <td>1698</td>\n      <td>22</td>\n      <td>92</td>\n      <td>2446</td>\n      <td>-1.0</td>\n      <td></td>\n      <td>page-255</td>\n      <td></td>\n      <td></td>\n      <td></td>\n    </tr>\n    <tr>\n      <th>60440</th>\n      <td>5</td>\n      <td>1</td>\n      <td>2</td>\n      <td>1</td>\n      <td>1</td>\n      <td>1</td>\n      <td>1698</td>\n      <td>22</td>\n      <td>92</td>\n      <td>2446</td>\n      <td>95.0</td>\n      <td></td>\n      <td>page-255</td>\n      <td></td>\n      <td></td>\n      <td></td>\n    </tr>\n  </tbody>\n</table>\n<p>60441 rows × 16 columns</p>\n</div>"
     },
     "execution_count": 8,
     "metadata": {},
     "output_type": "execute_result"
    }
   ],
   "source": [
    "result_df.fillna(\"\", inplace=True)\n",
    "result_df"
   ],
   "metadata": {
    "collapsed": false,
    "ExecuteTime": {
     "end_time": "2024-01-28T20:41:41.260006567Z",
     "start_time": "2024-01-28T20:41:41.251164874Z"
    }
   }
  },
  {
   "cell_type": "code",
   "execution_count": 9,
   "outputs": [
    {
     "name": "stderr",
     "output_type": "stream",
     "text": [
      "/tmp/ipykernel_196098/3704279818.py:2: UserWarning: Boolean Series key will be reindexed to match DataFrame index.\n",
      "  result_df[result_df['conf'] < 90][result_df['conf'] > 0]\n"
     ]
    },
    {
     "data": {
      "text/plain": "       level  page_num  block_num  par_num  line_num  word_num  left   top  \\\n18         5         1          3        1         1         1   541   234   \n19         5         1          3        1         1         2   733   250   \n21         5         1          3        1         2         1   115   333   \n22         5         1          3        1         2         2   475   250   \n24         5         1          3        1         2         4   886   320   \n...      ...       ...        ...      ...       ...       ...   ...   ...   \n60374      5         1          3        1         2         6   988  2201   \n60399      5         1          1        1         2         4  1179  1037   \n60400      5         1          1        1         2         5  1218  1023   \n60415      5         1          1        1         5         4   909  1178   \n60418      5         1          1        1         5         7  1361  1178   \n\n       width  height       conf      text      page     word calc   freq  \n18        30      20  35.341904         Х  page-001        Х  1.0    3.0  \n19       197      54  51.723858         I  page-001        I  1.0   25.0  \n21       332      86  35.746880   Чуираий  page-001  Чуираий  0.0    1.0  \n22       108     168  65.082870        ма  page-001       ма  1.0    1.0  \n24         4       3  45.175758         ,  page-001                       \n...      ...     ...        ...       ...       ...      ...  ...    ...  \n60374     94      35  89.533134     3,25.  page-253      325              \n60399     51      21  87.570213        г.  page-254        г  1.0    2.0  \n60400     15      45  87.570213         »  page-254        »  1.0  440.0  \n60415    188      35  61.841362  Нальчик,  page-254  Нальчик  1.0    1.0  \n60418     43      31  88.696396        33  page-254       33  1.0    4.0  \n\n[3098 rows x 16 columns]",
      "text/html": "<div>\n<style scoped>\n    .dataframe tbody tr th:only-of-type {\n        vertical-align: middle;\n    }\n\n    .dataframe tbody tr th {\n        vertical-align: top;\n    }\n\n    .dataframe thead th {\n        text-align: right;\n    }\n</style>\n<table border=\"1\" class=\"dataframe\">\n  <thead>\n    <tr style=\"text-align: right;\">\n      <th></th>\n      <th>level</th>\n      <th>page_num</th>\n      <th>block_num</th>\n      <th>par_num</th>\n      <th>line_num</th>\n      <th>word_num</th>\n      <th>left</th>\n      <th>top</th>\n      <th>width</th>\n      <th>height</th>\n      <th>conf</th>\n      <th>text</th>\n      <th>page</th>\n      <th>word</th>\n      <th>calc</th>\n      <th>freq</th>\n    </tr>\n  </thead>\n  <tbody>\n    <tr>\n      <th>18</th>\n      <td>5</td>\n      <td>1</td>\n      <td>3</td>\n      <td>1</td>\n      <td>1</td>\n      <td>1</td>\n      <td>541</td>\n      <td>234</td>\n      <td>30</td>\n      <td>20</td>\n      <td>35.341904</td>\n      <td>Х</td>\n      <td>page-001</td>\n      <td>Х</td>\n      <td>1.0</td>\n      <td>3.0</td>\n    </tr>\n    <tr>\n      <th>19</th>\n      <td>5</td>\n      <td>1</td>\n      <td>3</td>\n      <td>1</td>\n      <td>1</td>\n      <td>2</td>\n      <td>733</td>\n      <td>250</td>\n      <td>197</td>\n      <td>54</td>\n      <td>51.723858</td>\n      <td>I</td>\n      <td>page-001</td>\n      <td>I</td>\n      <td>1.0</td>\n      <td>25.0</td>\n    </tr>\n    <tr>\n      <th>21</th>\n      <td>5</td>\n      <td>1</td>\n      <td>3</td>\n      <td>1</td>\n      <td>2</td>\n      <td>1</td>\n      <td>115</td>\n      <td>333</td>\n      <td>332</td>\n      <td>86</td>\n      <td>35.746880</td>\n      <td>Чуираий</td>\n      <td>page-001</td>\n      <td>Чуираий</td>\n      <td>0.0</td>\n      <td>1.0</td>\n    </tr>\n    <tr>\n      <th>22</th>\n      <td>5</td>\n      <td>1</td>\n      <td>3</td>\n      <td>1</td>\n      <td>2</td>\n      <td>2</td>\n      <td>475</td>\n      <td>250</td>\n      <td>108</td>\n      <td>168</td>\n      <td>65.082870</td>\n      <td>ма</td>\n      <td>page-001</td>\n      <td>ма</td>\n      <td>1.0</td>\n      <td>1.0</td>\n    </tr>\n    <tr>\n      <th>24</th>\n      <td>5</td>\n      <td>1</td>\n      <td>3</td>\n      <td>1</td>\n      <td>2</td>\n      <td>4</td>\n      <td>886</td>\n      <td>320</td>\n      <td>4</td>\n      <td>3</td>\n      <td>45.175758</td>\n      <td>,</td>\n      <td>page-001</td>\n      <td></td>\n      <td></td>\n      <td></td>\n    </tr>\n    <tr>\n      <th>...</th>\n      <td>...</td>\n      <td>...</td>\n      <td>...</td>\n      <td>...</td>\n      <td>...</td>\n      <td>...</td>\n      <td>...</td>\n      <td>...</td>\n      <td>...</td>\n      <td>...</td>\n      <td>...</td>\n      <td>...</td>\n      <td>...</td>\n      <td>...</td>\n      <td>...</td>\n      <td>...</td>\n    </tr>\n    <tr>\n      <th>60374</th>\n      <td>5</td>\n      <td>1</td>\n      <td>3</td>\n      <td>1</td>\n      <td>2</td>\n      <td>6</td>\n      <td>988</td>\n      <td>2201</td>\n      <td>94</td>\n      <td>35</td>\n      <td>89.533134</td>\n      <td>3,25.</td>\n      <td>page-253</td>\n      <td>325</td>\n      <td></td>\n      <td></td>\n    </tr>\n    <tr>\n      <th>60399</th>\n      <td>5</td>\n      <td>1</td>\n      <td>1</td>\n      <td>1</td>\n      <td>2</td>\n      <td>4</td>\n      <td>1179</td>\n      <td>1037</td>\n      <td>51</td>\n      <td>21</td>\n      <td>87.570213</td>\n      <td>г.</td>\n      <td>page-254</td>\n      <td>г</td>\n      <td>1.0</td>\n      <td>2.0</td>\n    </tr>\n    <tr>\n      <th>60400</th>\n      <td>5</td>\n      <td>1</td>\n      <td>1</td>\n      <td>1</td>\n      <td>2</td>\n      <td>5</td>\n      <td>1218</td>\n      <td>1023</td>\n      <td>15</td>\n      <td>45</td>\n      <td>87.570213</td>\n      <td>»</td>\n      <td>page-254</td>\n      <td>»</td>\n      <td>1.0</td>\n      <td>440.0</td>\n    </tr>\n    <tr>\n      <th>60415</th>\n      <td>5</td>\n      <td>1</td>\n      <td>1</td>\n      <td>1</td>\n      <td>5</td>\n      <td>4</td>\n      <td>909</td>\n      <td>1178</td>\n      <td>188</td>\n      <td>35</td>\n      <td>61.841362</td>\n      <td>Нальчик,</td>\n      <td>page-254</td>\n      <td>Нальчик</td>\n      <td>1.0</td>\n      <td>1.0</td>\n    </tr>\n    <tr>\n      <th>60418</th>\n      <td>5</td>\n      <td>1</td>\n      <td>1</td>\n      <td>1</td>\n      <td>5</td>\n      <td>7</td>\n      <td>1361</td>\n      <td>1178</td>\n      <td>43</td>\n      <td>31</td>\n      <td>88.696396</td>\n      <td>33</td>\n      <td>page-254</td>\n      <td>33</td>\n      <td>1.0</td>\n      <td>4.0</td>\n    </tr>\n  </tbody>\n</table>\n<p>3098 rows × 16 columns</p>\n</div>"
     },
     "execution_count": 9,
     "metadata": {},
     "output_type": "execute_result"
    }
   ],
   "source": [
    "# result_df[result_df['calc']==0]\n",
    "result_df[result_df[\"conf\"] < 90][result_df[\"conf\"] > 0]"
   ],
   "metadata": {
    "collapsed": false,
    "ExecuteTime": {
     "end_time": "2024-01-28T20:41:43.793614760Z",
     "start_time": "2024-01-28T20:41:43.781010704Z"
    }
   }
  },
  {
   "cell_type": "code",
   "execution_count": null,
   "outputs": [],
   "source": [],
   "metadata": {
    "collapsed": false
   }
  }
 ],
 "metadata": {
  "kernelspec": {
   "display_name": "Python 3",
   "language": "python",
   "name": "python3"
  },
  "language_info": {
   "codemirror_mode": {
    "name": "ipython",
    "version": 2
   },
   "file_extension": ".py",
   "mimetype": "text/x-python",
   "name": "python",
   "nbconvert_exporter": "python",
   "pygments_lexer": "ipython2",
   "version": "2.7.6"
  }
 },
 "nbformat": 4,
 "nbformat_minor": 0
}
