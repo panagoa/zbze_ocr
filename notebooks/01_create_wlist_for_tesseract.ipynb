{
 "cells": [
  {
   "cell_type": "code",
   "execution_count": 1,
   "id": "initial_id",
   "metadata": {
    "collapsed": true,
    "ExecuteTime": {
     "end_time": "2023-11-06T02:29:13.360024Z",
     "start_time": "2023-11-06T02:29:13.357241Z"
    }
   },
   "outputs": [],
   "source": [
    "from dags.src.text_cleaner import clean_text\n"
   ]
  },
  {
   "cell_type": "code",
   "execution_count": 11,
   "outputs": [
    {
     "name": "stderr",
     "output_type": "stream",
     "text": [
      "[nltk_data] Downloading package stopwords to\n",
      "[nltk_data]     /Users/panagoa/nltk_data...\n",
      "[nltk_data]   Package stopwords is already up-to-date!\n"
     ]
    }
   ],
   "source": [
    "from collections import Counter\n",
    "import os\n",
    "import nltk\n",
    "\n",
    "nltk.download('stopwords')\n",
    "\n",
    "input_dir = os.path.join('..', 'data/tesstrain/kbd/data/input')\n",
    "output_dir = os.path.join('..', 'data/tesstrain/kbd/data/output')\n",
    "\n",
    "file_path = os.path.join(input_dir, 'adyghepsale_ru.txt')\n",
    "f_name = os.path.basename(file_path)\n",
    "\n",
    "BUF_SIZE = 100000\n",
    "word_counter = Counter()\n",
    "\n",
    "with open(file_path) as f:\n",
    "    tmp_raw = f.read(BUF_SIZE)\n",
    "    while tmp_raw:\n",
    "        tmp_raw = clean_text(tmp_raw)\n",
    "        words = nltk.word_tokenize(tmp_raw)\n",
    "        word_counter.update(words)\n",
    "        tmp_raw = f.read(BUF_SIZE)"
   ],
   "metadata": {
    "collapsed": false,
    "ExecuteTime": {
     "end_time": "2023-11-06T03:48:32.786517Z",
     "start_time": "2023-11-06T03:47:14.798720Z"
    }
   },
   "id": "8537ef5b5921e5bd"
  },
  {
   "cell_type": "code",
   "execution_count": 13,
   "outputs": [],
   "source": [
    "limit = 900000\n",
    "freq_out_path = os.path.join(output_dir, f'freq_{limit}_{f_name}')\n",
    "with open(freq_out_path, 'w') as f:\n",
    "    output = '\\n'.join([word for word, freq in sorted(word_counter.most_common(limit), key=lambda x: x[1], reverse=True)])\n",
    "    f.write(output)"
   ],
   "metadata": {
    "collapsed": false,
    "ExecuteTime": {
     "end_time": "2023-11-06T03:50:54.278307Z",
     "start_time": "2023-11-06T03:50:53.618911Z"
    }
   },
   "id": "d6ba4c4dddc1db6c"
  },
  {
   "cell_type": "code",
   "execution_count": null,
   "outputs": [],
   "source": [],
   "metadata": {
    "collapsed": false
   },
   "id": "3f125c9970d4060f"
  }
 ],
 "metadata": {
  "kernelspec": {
   "display_name": "Python 3",
   "language": "python",
   "name": "python3"
  },
  "language_info": {
   "codemirror_mode": {
    "name": "ipython",
    "version": 2
   },
   "file_extension": ".py",
   "mimetype": "text/x-python",
   "name": "python",
   "nbconvert_exporter": "python",
   "pygments_lexer": "ipython2",
   "version": "2.7.6"
  }
 },
 "nbformat": 4,
 "nbformat_minor": 5
}
